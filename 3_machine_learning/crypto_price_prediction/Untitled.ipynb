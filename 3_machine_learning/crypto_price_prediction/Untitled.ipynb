{
 "cells": [
  {
   "cell_type": "code",
   "execution_count": 6,
   "id": "c18832ea",
   "metadata": {},
   "outputs": [
    {
     "name": "stderr",
     "output_type": "stream",
     "text": [
      "Importing plotly failed. Interactive plots will not work.\n"
     ]
    }
   ],
   "source": [
    "import pandas as pd\n",
    "import argparse\n",
    "from pyspark.sql import SparkSession\n",
    "from pyspark.sql.functions import pandas_udf, PandasUDFType\n",
    "from pyspark.sql.types import *\n",
    "from prophet import Prophet\n",
    "from prophet.serialize import model_to_json, model_from_json\n",
    "import datetime\n",
    "import os"
   ]
  },
  {
   "cell_type": "code",
   "execution_count": 7,
   "id": "e7235212",
   "metadata": {},
   "outputs": [],
   "source": [
    "spark = SparkSession.builder \\\n",
    "    .master('local[1]') \\\n",
    "    .appName('Crypto Price Prediction') \\\n",
    "    .enableHiveSupport() \\\n",
    "    .getOrCreate()\n",
    "\n",
    "spark.sparkContext.setLogLevel('ERROR')"
   ]
  },
  {
   "cell_type": "code",
   "execution_count": 9,
   "id": "c1ae15e1",
   "metadata": {},
   "outputs": [
    {
     "name": "stderr",
     "output_type": "stream",
     "text": [
      "ivysettings.xml file not found in HIVE_HOME or HIVE_CONF_DIR,/etc/hive/conf.dist/ivysettings.xml will be used\n"
     ]
    }
   ],
   "source": [
    "df = spark.sql('select * from crypto_avro_part_table')"
   ]
  },
  {
   "cell_type": "code",
   "execution_count": 10,
   "id": "e9601a60",
   "metadata": {},
   "outputs": [
    {
     "name": "stderr",
     "output_type": "stream",
     "text": [
      "\r",
      "[Stage 0:>                                                          (0 + 1) / 1]\r"
     ]
    },
    {
     "name": "stdout",
     "output_type": "stream",
     "text": [
      "+-------------------+------------------+--------------+---+----+----+-----+\n",
      "|               date|             price|cryptocurrency|day|hour|year|month|\n",
      "+-------------------+------------------+--------------+---+----+----+-----+\n",
      "|2022-12-01 00:01:18|17186.502572066118|       bitcoin|  1|   0|2022|   12|\n",
      "|2022-12-01 01:00:36|17213.907149102863|       bitcoin|  1|   1|2022|   12|\n",
      "|2022-12-01 02:00:51| 17156.88312359578|       bitcoin|  1|   2|2022|   12|\n",
      "|2022-12-01 03:00:10| 17127.05281003731|       bitcoin|  1|   3|2022|   12|\n",
      "|2022-12-01 04:01:59| 17157.07255129906|       bitcoin|  1|   4|2022|   12|\n",
      "|2022-12-01 05:01:14|17190.898911625518|       bitcoin|  1|   5|2022|   12|\n",
      "|2022-12-01 06:00:07|17168.855387466414|       bitcoin|  1|   6|2022|   12|\n",
      "|2022-12-01 07:02:48| 17131.81752971552|       bitcoin|  1|   7|2022|   12|\n",
      "|2022-12-01 08:00:28|17121.849285929926|       bitcoin|  1|   8|2022|   12|\n",
      "|2022-12-01 09:00:43| 17112.57985963168|       bitcoin|  1|   9|2022|   12|\n",
      "|2022-12-01 10:01:18|17140.580932301884|       bitcoin|  1|  10|2022|   12|\n",
      "|2022-12-01 11:01:06| 17114.54698812787|       bitcoin|  1|  11|2022|   12|\n",
      "|2022-12-01 12:01:07|17158.510120628453|       bitcoin|  1|  12|2022|   12|\n",
      "|2022-12-01 13:00:51|17155.690047537562|       bitcoin|  1|  13|2022|   12|\n",
      "|2022-12-01 14:00:55|17134.453575336338|       bitcoin|  1|  14|2022|   12|\n",
      "|2022-12-01 15:00:35| 17171.55740138808|       bitcoin|  1|  15|2022|   12|\n",
      "|2022-12-01 16:03:03| 17019.67706210402|       bitcoin|  1|  16|2022|   12|\n",
      "|2022-12-01 17:00:55|16996.690533475845|       bitcoin|  1|  17|2022|   12|\n",
      "|2022-12-01 18:03:07| 17043.06431292914|       bitcoin|  1|  18|2022|   12|\n",
      "|2022-12-01 19:00:56|16935.463430135744|       bitcoin|  1|  19|2022|   12|\n",
      "+-------------------+------------------+--------------+---+----+----+-----+\n",
      "only showing top 20 rows\n",
      "\n"
     ]
    },
    {
     "name": "stderr",
     "output_type": "stream",
     "text": [
      "\r",
      "                                                                                \r"
     ]
    }
   ],
   "source": [
    "df.show()"
   ]
  },
  {
   "cell_type": "code",
   "execution_count": null,
   "id": "13e7b2e8",
   "metadata": {},
   "outputs": [],
   "source": []
  }
 ],
 "metadata": {
  "kernelspec": {
   "display_name": "PySpark",
   "language": "python",
   "name": "pyspark"
  },
  "language_info": {
   "codemirror_mode": {
    "name": "ipython",
    "version": 3
   },
   "file_extension": ".py",
   "mimetype": "text/x-python",
   "name": "python",
   "nbconvert_exporter": "python",
   "pygments_lexer": "ipython3",
   "version": "3.8.15"
  }
 },
 "nbformat": 4,
 "nbformat_minor": 5
}
