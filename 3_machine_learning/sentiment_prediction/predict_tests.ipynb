{
 "cells": [
  {
   "cell_type": "code",
   "execution_count": 15,
   "id": "c2c2020a",
   "metadata": {},
   "outputs": [],
   "source": [
    "from pyspark.ml import Pipeline, PipelineModel\n",
    "from pyspark.ml.classification import LogisticRegression\n",
    "from pyspark.ml.feature import HashingTF, Tokenizer\n",
    "from pyspark.ml.evaluation import BinaryClassificationEvaluator\n",
    "from pyspark.sql import SparkSession\n",
    "from pyspark.ml.functions import vector_to_array\n",
    "from pyspark.sql import functions as F\n",
    "import argparse"
   ]
  },
  {
   "cell_type": "code",
   "execution_count": 37,
   "id": "e284da38",
   "metadata": {},
   "outputs": [],
   "source": [
    "table = 'reddit_table'\n",
    "model_path = '/user/bda_reddit_pw/models/sentiment_model'\n",
    "result_path = '/user/bda_reddit_pw/models/results/sentiment_results'\n",
    "day_shift = 4\n",
    "\n",
    "spark = SparkSession.builder \\\n",
    "    .master('local[1]') \\\n",
    "    .appName('Sentiment Prediction') \\\n",
    "    .enableHiveSupport() \\\n",
    "    .getOrCreate()\n",
    "\n",
    "spark.sparkContext.setLogLevel('ERROR')"
   ]
  },
  {
   "cell_type": "code",
   "execution_count": 17,
   "id": "ee2ccad5",
   "metadata": {},
   "outputs": [
    {
     "name": "stderr",
     "output_type": "stream",
     "text": [
      "\r",
      "[Stage 19:>                                                         (0 + 1) / 1]\r",
      "\r",
      "                                                                                \r"
     ]
    }
   ],
   "source": [
    "loaded_model = PipelineModel.load(model_path)"
   ]
  },
  {
   "cell_type": "code",
   "execution_count": 18,
   "id": "a4eef16b",
   "metadata": {},
   "outputs": [],
   "source": [
    "test_df = spark.sql(f'SELECT * FROM {table}')"
   ]
  },
  {
   "cell_type": "code",
   "execution_count": 19,
   "id": "a7539046",
   "metadata": {},
   "outputs": [],
   "source": [
    "test_df = test_df.withColumnRenamed('selftext', 'text')"
   ]
  },
  {
   "cell_type": "code",
   "execution_count": 20,
   "id": "1b0e8141",
   "metadata": {},
   "outputs": [
    {
     "name": "stdout",
     "output_type": "stream",
     "text": [
      "+--------------------+------------+--------------+----+-----+---+----+\n",
      "|                text| created_utc|cryptocurrency|year|month|day|hour|\n",
      "+--------------------+------------+--------------+----+-----+---+----+\n",
      "|disclaimer long b...|1.66458483E9|       cardano|2022|   10|  1|   0|\n",
      "|bob send address ...|1.66458573E9|       bitcoin|2022|   10|  1|   0|\n",
      "|back get much res...|1.66458944E9|      dogecoin|2022|   10|  1|   1|\n",
      "|glaring lack lite...| 1.6645897E9|       bitcoin|2022|   10|  1|   2|\n",
      "|sitting wallet bl...| 1.6645952E9|       bitcoin|2022|   10|  1|   3|\n",
      "|huge advocate thi...|1.66459558E9|      ethereum|2022|   10|  1|   3|\n",
      "|know time chain w...|1.66459661E9|       bitcoin|2022|   10|  1|   3|\n",
      "|discord invite li...|1.66459686E9|           xrp|2022|   10|  1|   4|\n",
      "|      safe left know|1.66459994E9|       bitcoin|2022|   10|  1|   4|\n",
      "|please utilize st...|1.66460083E9|       bitcoin|2022|   10|  1|   5|\n",
      "|see lot people ha...|1.66460147E9|       bitcoin|2022|   10|  1|   5|\n",
      "|hello everyone we...|1.66460224E9|       cardano|2022|   10|  1|   5|\n",
      "|forenote going ch...| 1.6646135E9|       bitcoin|2022|   10|  1|   8|\n",
      "|sent address curr...|1.66461517E9|       cardano|2022|   10|  1|   9|\n",
      "|start design rich...| 1.6646153E9|       bitcoin|2022|   10|  1|   9|\n",
      "|basic understandi...|1.66461709E9|       bitcoin|2022|   10|  1|   9|\n",
      "|hello got money d...|1.66461811E9|       bitcoin|2022|   10|  1|   9|\n",
      "|retain privacy re...|1.66461926E9|       bitcoin|2022|   10|  1|  10|\n",
      "|hello everyone si...|1.66462234E9|        solana|2022|   10|  1|  11|\n",
      "|hi go conference ...| 1.6646281E9|       bitcoin|2022|   10|  1|  12|\n",
      "+--------------------+------------+--------------+----+-----+---+----+\n",
      "only showing top 20 rows\n",
      "\n"
     ]
    }
   ],
   "source": [
    "test_df.show()"
   ]
  },
  {
   "cell_type": "code",
   "execution_count": 61,
   "id": "e58a5b1a",
   "metadata": {},
   "outputs": [
    {
     "name": "stderr",
     "output_type": "stream",
     "text": [
      "\r",
      "[Stage 121:>                                                        (0 + 1) / 1]\r"
     ]
    },
    {
     "name": "stdout",
     "output_type": "stream",
     "text": [
      "+----------+--------------------+-------------------+--------------+\n",
      "|prediction|         probability|        created_utc|cryptocurrency|\n",
      "+----------+--------------------+-------------------+--------------+\n",
      "|       1.0|   0.999265107599642|2022-10-01 00:00:00|       cardano|\n",
      "|       1.0|  0.5713289798314397|2022-10-01 00:00:00|       bitcoin|\n",
      "|       1.0|  0.9999991498271465|2022-10-01 01:00:00|      dogecoin|\n",
      "|       1.0|  0.9998426257590661|2022-10-01 02:00:00|       bitcoin|\n",
      "|       1.0|  0.9999994678764528|2022-10-01 03:00:00|       bitcoin|\n",
      "|       1.0|   0.999999989582975|2022-10-01 03:00:00|      ethereum|\n",
      "|       1.0|  0.9977463082172485|2022-10-01 03:00:00|       bitcoin|\n",
      "|       0.0|3.685617606663527E-7|2022-10-01 04:00:00|           xrp|\n",
      "|       1.0|  0.9994964812952687|2022-10-01 04:00:00|       bitcoin|\n",
      "|       0.0|2.747458827112581E-8|2022-10-01 05:00:00|       bitcoin|\n",
      "|       1.0|                 1.0|2022-10-01 05:00:00|       bitcoin|\n",
      "|       0.0|1.730676131295183...|2022-10-01 05:00:00|       cardano|\n",
      "|       0.0|1.657832737755882E-8|2022-10-01 08:00:00|       bitcoin|\n",
      "|       0.0|5.773207308024108...|2022-10-01 09:00:00|       cardano|\n",
      "|       0.0| 0.07657798270738347|2022-10-01 09:00:00|       bitcoin|\n",
      "|       0.0|2.977657549807499...|2022-10-01 09:00:00|       bitcoin|\n",
      "|       0.0|  0.3915209538884332|2022-10-01 09:00:00|       bitcoin|\n",
      "|       1.0|  0.9994658008673347|2022-10-01 10:00:00|       bitcoin|\n",
      "|       0.0|0.011593320290455678|2022-10-01 11:00:00|        solana|\n",
      "|       0.0|  0.2098421632109424|2022-10-01 12:00:00|       bitcoin|\n",
      "+----------+--------------------+-------------------+--------------+\n",
      "only showing top 20 rows\n",
      "\n"
     ]
    },
    {
     "name": "stderr",
     "output_type": "stream",
     "text": [
      "\r",
      "                                                                                \r"
     ]
    }
   ],
   "source": [
    "prediction_raw = loaded_model.transform(test_df)\n",
    "prediction = (prediction_raw.withColumn(\"xs\", vector_to_array(\"probability\"))).select(['prediction'] + [F.col(\"xs\")[1]] + ['created_utc'] + ['cryptocurrency'])\n",
    "prediction = prediction.withColumnRenamed('xs[1]', 'probability')\n",
    "prediction = prediction.withColumn('created_utc', F.date_format(prediction.created_utc.cast('timestamp'), \"yyyy-MM-dd HH:00:00\"))\n",
    "prediction.show()"
   ]
  },
  {
   "cell_type": "code",
   "execution_count": 64,
   "id": "f3deba20",
   "metadata": {},
   "outputs": [
    {
     "name": "stderr",
     "output_type": "stream",
     "text": [
      "[Stage 128:============================================>          (38 + 4) / 47]\r"
     ]
    },
    {
     "name": "stdout",
     "output_type": "stream",
     "text": [
      "+-------------------+----------------+--------------------+-------------------+\n",
      "|        created_utc|cryptocurrency_a|           sentiment|            sub_utc|\n",
      "+-------------------+----------------+--------------------+-------------------+\n",
      "|2022-10-02 15:00:00|          solana|3.176570032403791...|2022-09-28 15:00:00|\n",
      "|2022-10-03 05:00:00|         cardano|1.730676131295183...|2022-09-29 05:00:00|\n",
      "|2022-10-03 13:00:00|        ethereum|  0.9999789907584345|2022-09-29 13:00:00|\n",
      "|2022-10-02 16:00:00|         cardano|  0.9999999997260065|2022-09-28 16:00:00|\n",
      "|2022-10-01 13:00:00|        dogecoin|6.622924431098909...|2022-09-27 13:00:00|\n",
      "|2022-10-02 14:00:00|         cardano| 0.43076400326133435|2022-09-28 14:00:00|\n",
      "|2022-10-01 03:00:00|         bitcoin|  0.9988728880468507|2022-09-27 03:00:00|\n",
      "|2022-10-02 20:00:00|         cardano|  0.2614784683538419|2022-09-28 20:00:00|\n",
      "|2022-10-03 02:00:00|        dogecoin|2.663974094208043...|2022-09-29 02:00:00|\n",
      "|2022-10-02 11:00:00|        ethereum|  0.6074897895620628|2022-09-28 11:00:00|\n",
      "|2022-10-02 19:00:00|          solana|  0.9999993365469904|2022-09-28 19:00:00|\n",
      "|2022-10-03 14:00:00|         bitcoin|  0.9756240616084962|2022-09-29 14:00:00|\n",
      "|2022-10-02 20:00:00|         bitcoin|                 1.0|2022-09-28 20:00:00|\n",
      "|2022-10-01 16:00:00|         bitcoin|  0.6341595957564591|2022-09-27 16:00:00|\n",
      "|2022-10-03 09:00:00|         bitcoin|  0.9999999999999999|2022-09-29 09:00:00|\n",
      "|2022-10-01 04:00:00|         bitcoin|  0.9994964812952687|2022-09-27 04:00:00|\n",
      "|2022-10-02 19:00:00|        dogecoin|  0.9795203290995209|2022-09-28 19:00:00|\n",
      "|2022-10-02 17:00:00|         bitcoin| 0.04009495646280414|2022-09-28 17:00:00|\n",
      "|2022-10-02 15:00:00|         bitcoin|  0.9997283694430815|2022-09-28 15:00:00|\n",
      "|2022-10-02 14:00:00|          solana|  0.9999999999999994|2022-09-28 14:00:00|\n",
      "+-------------------+----------------+--------------------+-------------------+\n",
      "only showing top 20 rows\n",
      "\n"
     ]
    },
    {
     "name": "stderr",
     "output_type": "stream",
     "text": [
      "\r",
      "                                                                                \r"
     ]
    }
   ],
   "source": [
    "aggregation = prediction.groupBy(['created_utc', 'cryptocurrency']).agg(F.avg('probability'))\n",
    "aggregation = aggregation.withColumnRenamed('avg(probability)', 'sentiment')\n",
    "aggregation = aggregation.withColumnRenamed('cryptocurrency', 'cryptocurrency_a')\n",
    "## version with prediction 0 1 not probability\n",
    "# results = prediction.groupBy('created_utc').agg(F.avg('prediction'))\n",
    "# results = results.withColumnRenamed('avg(prediction)', 'avg_prediction')\n",
    "aggregation = aggregation.withColumn(\"sub_utc\", F.col(\"created_utc\") - F.expr(f'INTERVAL {day_shift} DAYS'))\n",
    "aggregation.show()"
   ]
  },
  {
   "cell_type": "code",
   "execution_count": 48,
   "id": "47a7a84f",
   "metadata": {},
   "outputs": [
    {
     "name": "stdout",
     "output_type": "stream",
     "text": [
      "+-------------------+------------------+--------------+----+-----+---+----+\n",
      "|               date|             price|cryptocurrency|year|month|day|hour|\n",
      "+-------------------+------------------+--------------+----+-----+---+----+\n",
      "|2022-09-30 20:00:00| 19674.48240468394|       bitcoin|2022|    9| 30|  20|\n",
      "|2022-09-30 21:00:00|19416.679427599574|       bitcoin|2022|    9| 30|  21|\n",
      "|2022-09-30 22:00:00|19390.772416700056|       bitcoin|2022|    9| 30|  22|\n",
      "|2022-09-30 23:00:00|19391.879627904444|       bitcoin|2022|    9| 30|  23|\n",
      "|2022-10-01 00:00:00| 19476.92659600407|       bitcoin|2022|   10|  1|   0|\n",
      "|2022-10-01 01:00:00| 19408.74499886766|       bitcoin|2022|   10|  1|   1|\n",
      "|2022-10-01 02:00:00|19399.760776852163|       bitcoin|2022|   10|  1|   2|\n",
      "|2022-10-01 03:00:00| 19416.21089144999|       bitcoin|2022|   10|  1|   3|\n",
      "|2022-10-01 04:00:00| 19403.31901570052|       bitcoin|2022|   10|  1|   4|\n",
      "|2022-10-01 05:00:00| 19400.51033859877|       bitcoin|2022|   10|  1|   5|\n",
      "|2022-10-01 06:00:00|  19307.6997422463|       bitcoin|2022|   10|  1|   6|\n",
      "|2022-10-01 07:00:00|19305.490727955035|       bitcoin|2022|   10|  1|   7|\n",
      "|2022-10-01 08:00:00| 19308.17059655418|       bitcoin|2022|   10|  1|   8|\n",
      "|2022-10-01 09:00:00|19342.438390010077|       bitcoin|2022|   10|  1|   9|\n",
      "|2022-10-01 10:00:00|19331.107361269576|       bitcoin|2022|   10|  1|  10|\n",
      "|2022-10-01 11:00:00| 19321.98874744996|       bitcoin|2022|   10|  1|  11|\n",
      "|2022-10-01 12:00:00|19260.253420308956|       bitcoin|2022|   10|  1|  12|\n",
      "|2022-10-01 13:00:00|19282.883905002283|       bitcoin|2022|   10|  1|  13|\n",
      "|2022-10-01 14:00:00| 19355.47289726264|       bitcoin|2022|   10|  1|  14|\n",
      "|2022-10-01 15:00:00| 19300.80626061653|       bitcoin|2022|   10|  1|  15|\n",
      "+-------------------+------------------+--------------+----+-----+---+----+\n",
      "only showing top 20 rows\n",
      "\n"
     ]
    }
   ],
   "source": [
    "crypto_df = spark.sql(f'SELECT * FROM crypto_table')\n",
    "crypto_df = crypto_df.withColumn('date', F.date_format(crypto_df.date.cast('timestamp'), \"yyyy-MM-dd HH:00:00\"))\n",
    "crypto_df.show()"
   ]
  },
  {
   "cell_type": "code",
   "execution_count": 72,
   "id": "39450e27",
   "metadata": {},
   "outputs": [
    {
     "name": "stdout",
     "output_type": "stream",
     "text": [
      "+-------------------+--------------------+------------------+--------------+\n",
      "|               date|           sentiment|             price|cryptocurrency|\n",
      "+-------------------+--------------------+------------------+--------------+\n",
      "|2022-10-01 13:00:00|4.543128821365983E-6| 1322.565708562071|      ethereum|\n",
      "|2022-10-01 10:00:00|5.297632421630283E-5|  33.1116725786678|        solana|\n",
      "|2022-10-01 06:00:00|                 1.0|0.4332036445426828|       cardano|\n",
      "|2022-10-02 06:00:00|                 1.0|0.4315874640817953|       cardano|\n",
      "|2022-10-01 07:00:00|  0.9998260500941284|19305.490727955035|       bitcoin|\n",
      "|2022-10-02 04:00:00|3.685617606663527E-7|0.4741694363464702|           xrp|\n",
      "|2022-10-01 18:00:00|   0.829032552990767|19285.111394561725|       bitcoin|\n",
      "|2022-10-01 05:00:00|  0.9307959908415653|1328.9380130377112|      ethereum|\n",
      "|2022-10-01 10:00:00|  0.9983651232724867|19331.107361269576|       bitcoin|\n",
      "|2022-10-03 13:00:00|  0.9999999989213226|19240.378908822157|       bitcoin|\n",
      "|2022-10-03 18:00:00|  0.9999998569979988|19561.094761798005|       bitcoin|\n",
      "|2022-10-03 10:00:00|  0.9999999999999961| 1290.735831502437|      ethereum|\n",
      "|2022-10-04 13:00:00|  0.9999978366510538|20014.055970895763|       bitcoin|\n",
      "|2022-10-02 23:00:00| 5.80471042344044E-8|19209.797825763817|       bitcoin|\n",
      "|2022-10-02 18:00:00|  0.9999409597128615| 32.53356258103344|        solana|\n",
      "|2022-10-03 07:00:00|  0.9999999972644036|0.4222096683316703|       cardano|\n",
      "|2022-10-04 16:00:00|3.243775066619214...|1353.5051921738625|      ethereum|\n",
      "|2022-10-04 05:00:00|2.747458827112581E-8| 19600.97252818627|       bitcoin|\n",
      "|2022-10-04 12:00:00|                 1.0| 33.72570665936611|        solana|\n",
      "|2022-10-03 07:00:00|  0.9999997489965202|19204.798277998438|       bitcoin|\n",
      "+-------------------+--------------------+------------------+--------------+\n",
      "only showing top 20 rows\n",
      "\n"
     ]
    },
    {
     "name": "stderr",
     "output_type": "stream",
     "text": [
      "\r",
      "[Stage 139:=============================================>         (39 + 4) / 47]\r",
      "\r",
      "                                                                                \r"
     ]
    }
   ],
   "source": [
    "results = aggregation.join(crypto_df, (aggregation.sub_utc ==  crypto_df.date) & (aggregation.cryptocurrency_a ==  crypto_df.cryptocurrency),\"left\")\n",
    "results = results.select('date', 'sentiment', 'price', 'cryptocurrency').na.drop()\n",
    "results.show()"
   ]
  },
  {
   "cell_type": "code",
   "execution_count": 74,
   "id": "3d13ee56",
   "metadata": {},
   "outputs": [
    {
     "name": "stderr",
     "output_type": "stream",
     "text": [
      "rmr: DEPRECATED: Please use '-rm -r' instead.\n"
     ]
    },
    {
     "name": "stdout",
     "output_type": "stream",
     "text": [
      "Deleted /user/bda_reddit_pw/models/results/sentiment_results\n"
     ]
    },
    {
     "name": "stderr",
     "output_type": "stream",
     "text": [
      "                                                                                \r"
     ]
    }
   ],
   "source": [
    "cmd = f'hdfs dfs -rmr {result_path}'\n",
    "os.system(cmd)\n",
    "results.write.csv(result_path)"
   ]
  },
  {
   "cell_type": "code",
   "execution_count": null,
   "id": "6e2ad71f",
   "metadata": {},
   "outputs": [],
   "source": []
  }
 ],
 "metadata": {
  "kernelspec": {
   "display_name": "PySpark",
   "language": "python",
   "name": "pyspark"
  },
  "language_info": {
   "codemirror_mode": {
    "name": "ipython",
    "version": 3
   },
   "file_extension": ".py",
   "mimetype": "text/x-python",
   "name": "python",
   "nbconvert_exporter": "python",
   "pygments_lexer": "ipython3",
   "version": "3.8.15"
  }
 },
 "nbformat": 4,
 "nbformat_minor": 5
}
