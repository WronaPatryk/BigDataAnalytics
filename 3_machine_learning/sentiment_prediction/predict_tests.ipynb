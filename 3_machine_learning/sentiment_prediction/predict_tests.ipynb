{
 "cells": [
  {
   "cell_type": "code",
   "execution_count": 1,
   "id": "c2c2020a",
   "metadata": {},
   "outputs": [
    {
     "name": "stderr",
     "output_type": "stream",
     "text": [
      "/opt/conda/miniconda3/lib/python3.8/site-packages/scipy/__init__.py:138: UserWarning: A NumPy version >=1.16.5 and <1.23.0 is required for this version of SciPy (detected version 1.24.1)\n",
      "  warnings.warn(f\"A NumPy version >={np_minversion} and <{np_maxversion} is required for this version of \"\n"
     ]
    }
   ],
   "source": [
    "from pyspark.ml import Pipeline, PipelineModel\n",
    "from pyspark.ml.classification import LogisticRegression\n",
    "from pyspark.ml.feature import HashingTF, Tokenizer\n",
    "from pyspark.ml.evaluation import BinaryClassificationEvaluator\n",
    "from pyspark.sql import SparkSession\n",
    "from pyspark.ml.functions import vector_to_array\n",
    "from pyspark.sql import functions as F\n",
    "import argparse\n",
    "from datetime import datetime"
   ]
  },
  {
   "cell_type": "code",
   "execution_count": 2,
   "id": "e284da38",
   "metadata": {},
   "outputs": [],
   "source": [
    "table = 'reddit_table'\n",
    "model_path = '/user/bda_reddit_pw/models/sentiment_model'\n",
    "result_path = '/user/bda_reddit_pw/crypto_sentiment/csv_data'\n",
    "day_shift = 37\n",
    "\n",
    "spark = SparkSession.builder \\\n",
    "    .master('local[1]') \\\n",
    "    .appName('Sentiment Prediction') \\\n",
    "    .enableHiveSupport() \\\n",
    "    .getOrCreate()\n",
    "\n",
    "spark.sparkContext.setLogLevel('ERROR')"
   ]
  },
  {
   "cell_type": "code",
   "execution_count": 3,
   "id": "e3d3a903",
   "metadata": {},
   "outputs": [
    {
     "name": "stderr",
     "output_type": "stream",
     "text": [
      "ivysettings.xml file not found in HIVE_HOME or HIVE_CONF_DIR,/etc/hive/conf.dist/ivysettings.xml will be used\n",
      "                                                                                \r"
     ]
    },
    {
     "name": "stdout",
     "output_type": "stream",
     "text": [
      "+-------------------+---------+------------------+--------------+\n",
      "|               date|sentiment|             price|cryptocurrency|\n",
      "+-------------------+---------+------------------+--------------+\n",
      "|2022-11-07 00:00:00|      1.0|0.4034156304688636|       cardano|\n",
      "|2022-11-07 00:00:00|      1.0|20921.822265010724|       bitcoin|\n",
      "|2022-11-07 01:00:00|      1.0|0.1151208526143615|      dogecoin|\n",
      "|2022-11-07 02:00:00|      1.0| 20959.77981937212|       bitcoin|\n",
      "|2022-11-07 03:00:00|      1.0|21011.162050344992|       bitcoin|\n",
      "|2022-11-07 03:00:00|      1.0|1592.2925157312254|      ethereum|\n",
      "|2022-11-07 04:00:00|      1.0| 20927.63993452077|       bitcoin|\n",
      "|2022-11-07 04:00:00|      0.0|0.4737224095419358|           xrp|\n",
      "|2022-11-07 05:00:00|      0.0|0.4080714038447476|       cardano|\n",
      "|2022-11-07 05:00:00|      0.5| 20887.68328944669|       bitcoin|\n",
      "|2022-11-07 08:00:00|      0.0| 20715.97296960455|       bitcoin|\n",
      "|2022-11-07 09:00:00|      0.0| 20709.68707916784|       bitcoin|\n",
      "|2022-11-07 09:00:00|      0.0|0.4039482784886269|       cardano|\n",
      "|2022-11-07 10:00:00|      1.0|20722.911224239622|       bitcoin|\n",
      "|2022-11-07 11:00:00|      0.0| 31.70966813286938|        solana|\n",
      "|2022-11-07 12:00:00|      0.0|0.4076190664043642|       cardano|\n",
      "|2022-11-07 12:00:00|      0.0|20725.111685463908|       bitcoin|\n",
      "|2022-11-07 13:00:00|      0.0|0.1164768278460695|      dogecoin|\n",
      "|2022-11-07 13:00:00|      1.0| 20703.87020352946|       bitcoin|\n",
      "|2022-11-07 14:00:00|      0.5|20724.645725389026|       bitcoin|\n",
      "+-------------------+---------+------------------+--------------+\n",
      "only showing top 20 rows\n",
      "\n"
     ]
    }
   ],
   "source": [
    "df = spark.sql(f'SELECT * FROM crypto_sentiment_train_table')\n",
    "df.show()"
   ]
  },
  {
   "cell_type": "code",
   "execution_count": 4,
   "id": "ee2ccad5",
   "metadata": {},
   "outputs": [
    {
     "name": "stderr",
     "output_type": "stream",
     "text": [
      "                                                                                \r"
     ]
    }
   ],
   "source": [
    "loaded_model = PipelineModel.load(model_path)"
   ]
  },
  {
   "cell_type": "code",
   "execution_count": 5,
   "id": "a4eef16b",
   "metadata": {},
   "outputs": [],
   "source": [
    "test_df = spark.sql(f'SELECT * FROM {table}')"
   ]
  },
  {
   "cell_type": "code",
   "execution_count": 6,
   "id": "a7539046",
   "metadata": {},
   "outputs": [],
   "source": [
    "test_df = test_df.withColumnRenamed('selftext', 'text')"
   ]
  },
  {
   "cell_type": "code",
   "execution_count": 7,
   "id": "1b0e8141",
   "metadata": {
    "scrolled": true
   },
   "outputs": [
    {
     "name": "stdout",
     "output_type": "stream",
     "text": [
      "+--------------------+------------+--------------+----+-----+---+----+\n",
      "|                text| created_utc|cryptocurrency|year|month|day|hour|\n",
      "+--------------------+------------+--------------+----+-----+---+----+\n",
      "|disclaimer long b...|1.66458483E9|       cardano|2022|   10|  1|   0|\n",
      "|bob send address ...|1.66458573E9|       bitcoin|2022|   10|  1|   0|\n",
      "|back get much res...|1.66458944E9|      dogecoin|2022|   10|  1|   1|\n",
      "|glaring lack lite...| 1.6645897E9|       bitcoin|2022|   10|  1|   2|\n",
      "|sitting wallet bl...| 1.6645952E9|       bitcoin|2022|   10|  1|   3|\n",
      "|huge advocate thi...|1.66459558E9|      ethereum|2022|   10|  1|   3|\n",
      "|know time chain w...|1.66459661E9|       bitcoin|2022|   10|  1|   3|\n",
      "|discord invite li...|1.66459686E9|           xrp|2022|   10|  1|   4|\n",
      "|      safe left know|1.66459994E9|       bitcoin|2022|   10|  1|   4|\n",
      "|please utilize st...|1.66460083E9|       bitcoin|2022|   10|  1|   5|\n",
      "|see lot people ha...|1.66460147E9|       bitcoin|2022|   10|  1|   5|\n",
      "|hello everyone we...|1.66460224E9|       cardano|2022|   10|  1|   5|\n",
      "|forenote going ch...| 1.6646135E9|       bitcoin|2022|   10|  1|   8|\n",
      "|sent address curr...|1.66461517E9|       cardano|2022|   10|  1|   9|\n",
      "|start design rich...| 1.6646153E9|       bitcoin|2022|   10|  1|   9|\n",
      "|basic understandi...|1.66461709E9|       bitcoin|2022|   10|  1|   9|\n",
      "|hello got money d...|1.66461811E9|       bitcoin|2022|   10|  1|   9|\n",
      "|retain privacy re...|1.66461926E9|       bitcoin|2022|   10|  1|  10|\n",
      "|hello everyone si...|1.66462234E9|        solana|2022|   10|  1|  11|\n",
      "|hi go conference ...| 1.6646281E9|       bitcoin|2022|   10|  1|  12|\n",
      "+--------------------+------------+--------------+----+-----+---+----+\n",
      "only showing top 20 rows\n",
      "\n"
     ]
    }
   ],
   "source": [
    "test_df.show()"
   ]
  },
  {
   "cell_type": "code",
   "execution_count": 8,
   "id": "e58a5b1a",
   "metadata": {},
   "outputs": [
    {
     "name": "stderr",
     "output_type": "stream",
     "text": [
      "\r",
      "[Stage 12:>                                                         (0 + 1) / 1]\r"
     ]
    },
    {
     "name": "stdout",
     "output_type": "stream",
     "text": [
      "+----------+--------------------+-------------------+--------------+\n",
      "|prediction|         probability|        created_utc|cryptocurrency|\n",
      "+----------+--------------------+-------------------+--------------+\n",
      "|       1.0|   0.999265107599642|2022-10-01 00:00:00|       cardano|\n",
      "|       1.0|  0.5713289798314397|2022-10-01 00:00:00|       bitcoin|\n",
      "|       1.0|  0.9999991498271465|2022-10-01 01:00:00|      dogecoin|\n",
      "|       1.0|  0.9998426257590661|2022-10-01 02:00:00|       bitcoin|\n",
      "|       1.0|  0.9999994678764528|2022-10-01 03:00:00|       bitcoin|\n",
      "|       1.0|   0.999999989582975|2022-10-01 03:00:00|      ethereum|\n",
      "|       1.0|  0.9977463082172485|2022-10-01 03:00:00|       bitcoin|\n",
      "|       0.0|3.685617606663527E-7|2022-10-01 04:00:00|           xrp|\n",
      "|       1.0|  0.9994964812952687|2022-10-01 04:00:00|       bitcoin|\n",
      "|       0.0|2.747458827112581E-8|2022-10-01 05:00:00|       bitcoin|\n",
      "|       1.0|                 1.0|2022-10-01 05:00:00|       bitcoin|\n",
      "|       0.0|1.730676131295183...|2022-10-01 05:00:00|       cardano|\n",
      "|       0.0|1.657832737755882E-8|2022-10-01 08:00:00|       bitcoin|\n",
      "|       0.0|5.773207308024108...|2022-10-01 09:00:00|       cardano|\n",
      "|       0.0| 0.07657798270738347|2022-10-01 09:00:00|       bitcoin|\n",
      "|       0.0|2.977657549807499...|2022-10-01 09:00:00|       bitcoin|\n",
      "|       0.0|  0.3915209538884332|2022-10-01 09:00:00|       bitcoin|\n",
      "|       1.0|  0.9994658008673347|2022-10-01 10:00:00|       bitcoin|\n",
      "|       0.0|0.011593320290455678|2022-10-01 11:00:00|        solana|\n",
      "|       0.0|  0.2098421632109424|2022-10-01 12:00:00|       bitcoin|\n",
      "+----------+--------------------+-------------------+--------------+\n",
      "only showing top 20 rows\n",
      "\n"
     ]
    },
    {
     "name": "stderr",
     "output_type": "stream",
     "text": [
      "\r",
      "                                                                                \r"
     ]
    }
   ],
   "source": [
    "prediction_raw = loaded_model.transform(test_df)\n",
    "prediction = (prediction_raw.withColumn(\"xs\", vector_to_array(\"probability\"))).select(['prediction'] + [F.col(\"xs\")[1]] + ['created_utc'] + ['cryptocurrency'])\n",
    "prediction = prediction.withColumnRenamed('xs[1]', 'probability')\n",
    "prediction = prediction.withColumn('created_utc', F.date_format(prediction.created_utc.cast('timestamp'), \"yyyy-MM-dd HH:00:00\"))\n",
    "prediction.show()"
   ]
  },
  {
   "cell_type": "code",
   "execution_count": 9,
   "id": "b6f72631",
   "metadata": {},
   "outputs": [
    {
     "name": "stderr",
     "output_type": "stream",
     "text": [
      "                                                                                \r"
     ]
    },
    {
     "data": {
      "text/html": [
       "<div>\n",
       "<style scoped>\n",
       "    .dataframe tbody tr th:only-of-type {\n",
       "        vertical-align: middle;\n",
       "    }\n",
       "\n",
       "    .dataframe tbody tr th {\n",
       "        vertical-align: top;\n",
       "    }\n",
       "\n",
       "    .dataframe thead th {\n",
       "        text-align: right;\n",
       "    }\n",
       "</style>\n",
       "<table border=\"1\" class=\"dataframe\">\n",
       "  <thead>\n",
       "    <tr style=\"text-align: right;\">\n",
       "      <th></th>\n",
       "      <th>prediction</th>\n",
       "      <th>probability</th>\n",
       "      <th>created_utc</th>\n",
       "      <th>cryptocurrency</th>\n",
       "    </tr>\n",
       "  </thead>\n",
       "  <tbody>\n",
       "    <tr>\n",
       "      <th>0</th>\n",
       "      <td>1.0</td>\n",
       "      <td>9.992651e-01</td>\n",
       "      <td>2022-10-01 00:00:00</td>\n",
       "      <td>cardano</td>\n",
       "    </tr>\n",
       "    <tr>\n",
       "      <th>1</th>\n",
       "      <td>1.0</td>\n",
       "      <td>5.713290e-01</td>\n",
       "      <td>2022-10-01 00:00:00</td>\n",
       "      <td>bitcoin</td>\n",
       "    </tr>\n",
       "    <tr>\n",
       "      <th>2</th>\n",
       "      <td>1.0</td>\n",
       "      <td>9.999991e-01</td>\n",
       "      <td>2022-10-01 01:00:00</td>\n",
       "      <td>dogecoin</td>\n",
       "    </tr>\n",
       "    <tr>\n",
       "      <th>3</th>\n",
       "      <td>1.0</td>\n",
       "      <td>9.998426e-01</td>\n",
       "      <td>2022-10-01 02:00:00</td>\n",
       "      <td>bitcoin</td>\n",
       "    </tr>\n",
       "    <tr>\n",
       "      <th>4</th>\n",
       "      <td>1.0</td>\n",
       "      <td>9.999995e-01</td>\n",
       "      <td>2022-10-01 03:00:00</td>\n",
       "      <td>bitcoin</td>\n",
       "    </tr>\n",
       "    <tr>\n",
       "      <th>...</th>\n",
       "      <td>...</td>\n",
       "      <td>...</td>\n",
       "      <td>...</td>\n",
       "      <td>...</td>\n",
       "    </tr>\n",
       "    <tr>\n",
       "      <th>7019</th>\n",
       "      <td>0.0</td>\n",
       "      <td>8.141710e-12</td>\n",
       "      <td>2022-12-31 21:00:00</td>\n",
       "      <td>bitcoin</td>\n",
       "    </tr>\n",
       "    <tr>\n",
       "      <th>7020</th>\n",
       "      <td>1.0</td>\n",
       "      <td>9.572387e-01</td>\n",
       "      <td>2022-12-31 22:00:00</td>\n",
       "      <td>solana</td>\n",
       "    </tr>\n",
       "    <tr>\n",
       "      <th>7021</th>\n",
       "      <td>1.0</td>\n",
       "      <td>1.000000e+00</td>\n",
       "      <td>2022-12-31 22:00:00</td>\n",
       "      <td>bitcoin</td>\n",
       "    </tr>\n",
       "    <tr>\n",
       "      <th>7022</th>\n",
       "      <td>1.0</td>\n",
       "      <td>9.998590e-01</td>\n",
       "      <td>2022-12-31 23:00:00</td>\n",
       "      <td>bitcoin</td>\n",
       "    </tr>\n",
       "    <tr>\n",
       "      <th>7023</th>\n",
       "      <td>1.0</td>\n",
       "      <td>1.000000e+00</td>\n",
       "      <td>2022-12-31 23:00:00</td>\n",
       "      <td>bitcoin</td>\n",
       "    </tr>\n",
       "  </tbody>\n",
       "</table>\n",
       "<p>7024 rows × 4 columns</p>\n",
       "</div>"
      ],
      "text/plain": [
       "      prediction   probability          created_utc cryptocurrency\n",
       "0            1.0  9.992651e-01  2022-10-01 00:00:00        cardano\n",
       "1            1.0  5.713290e-01  2022-10-01 00:00:00        bitcoin\n",
       "2            1.0  9.999991e-01  2022-10-01 01:00:00       dogecoin\n",
       "3            1.0  9.998426e-01  2022-10-01 02:00:00        bitcoin\n",
       "4            1.0  9.999995e-01  2022-10-01 03:00:00        bitcoin\n",
       "...          ...           ...                  ...            ...\n",
       "7019         0.0  8.141710e-12  2022-12-31 21:00:00        bitcoin\n",
       "7020         1.0  9.572387e-01  2022-12-31 22:00:00         solana\n",
       "7021         1.0  1.000000e+00  2022-12-31 22:00:00        bitcoin\n",
       "7022         1.0  9.998590e-01  2022-12-31 23:00:00        bitcoin\n",
       "7023         1.0  1.000000e+00  2022-12-31 23:00:00        bitcoin\n",
       "\n",
       "[7024 rows x 4 columns]"
      ]
     },
     "execution_count": 9,
     "metadata": {},
     "output_type": "execute_result"
    }
   ],
   "source": [
    "prediction.toPandas()"
   ]
  },
  {
   "cell_type": "code",
   "execution_count": 10,
   "id": "f3deba20",
   "metadata": {},
   "outputs": [
    {
     "name": "stderr",
     "output_type": "stream",
     "text": [
      "[Stage 14:===========================================>            (17 + 2) / 22]\r"
     ]
    },
    {
     "name": "stdout",
     "output_type": "stream",
     "text": [
      "+-------------------+----------------+--------------------+-------------------+\n",
      "|        created_utc|cryptocurrency_a|           sentiment|            sub_utc|\n",
      "+-------------------+----------------+--------------------+-------------------+\n",
      "|2022-10-02 15:00:00|          solana|3.176570032403791...|2022-11-08 15:00:00|\n",
      "|2022-10-03 05:00:00|         cardano|1.730676131295183...|2022-11-09 05:00:00|\n",
      "|2022-10-03 13:00:00|        ethereum|  0.9999789907584345|2022-11-09 13:00:00|\n",
      "|2022-10-04 16:00:00|        ethereum|  0.9999977756404372|2022-11-10 16:00:00|\n",
      "|2022-10-02 16:00:00|         cardano|  0.9999999997260065|2022-11-08 16:00:00|\n",
      "|2022-10-01 13:00:00|        dogecoin|6.622924431098909...|2022-11-07 13:00:00|\n",
      "|2022-10-02 14:00:00|         cardano| 0.43076400326133435|2022-11-08 14:00:00|\n",
      "|2022-10-01 03:00:00|         bitcoin|  0.9988728880468507|2022-11-07 03:00:00|\n",
      "|2022-10-03 22:00:00|         bitcoin| 0.13288958876996504|2022-11-09 22:00:00|\n",
      "|2022-10-05 13:00:00|        ethereum|4.543128821365983E-6|2022-11-11 13:00:00|\n",
      "|2022-10-05 10:00:00|          solana|5.297632421630283E-5|2022-11-11 10:00:00|\n",
      "|2022-10-02 20:00:00|         cardano|  0.2614784683538419|2022-11-08 20:00:00|\n",
      "|2022-10-03 02:00:00|        dogecoin|2.663974094208043...|2022-11-09 02:00:00|\n",
      "|2022-10-05 06:00:00|         cardano|                 1.0|2022-11-11 06:00:00|\n",
      "|2022-10-02 11:00:00|        ethereum|  0.6074897895620628|2022-11-08 11:00:00|\n",
      "|2022-10-06 06:00:00|         cardano|                 1.0|2022-11-12 06:00:00|\n",
      "|2022-10-02 19:00:00|          solana|  0.9999993365469904|2022-11-08 19:00:00|\n",
      "|2022-10-03 14:00:00|         bitcoin|  0.9756240616084962|2022-11-09 14:00:00|\n",
      "|2022-10-06 10:00:00|         cardano|  0.9999999084971319|2022-11-12 10:00:00|\n",
      "|2022-10-02 20:00:00|         bitcoin|                 1.0|2022-11-08 20:00:00|\n",
      "+-------------------+----------------+--------------------+-------------------+\n",
      "only showing top 20 rows\n",
      "\n"
     ]
    },
    {
     "name": "stderr",
     "output_type": "stream",
     "text": [
      "\r",
      "                                                                                \r"
     ]
    }
   ],
   "source": [
    "aggregation = prediction.groupBy(['created_utc', 'cryptocurrency']).agg(F.avg('probability'))\n",
    "aggregation = aggregation.withColumnRenamed('avg(probability)', 'sentiment')\n",
    "aggregation = aggregation.withColumnRenamed('cryptocurrency', 'cryptocurrency_a')\n",
    "## version with prediction 0 1 not probability\n",
    "# results = prediction.groupBy('created_utc').agg(F.avg('prediction'))\n",
    "# results = results.withColumnRenamed('avg(prediction)', 'avg_prediction')\n",
    "aggregation = aggregation.withColumn(\"sub_utc\", F.col(\"created_utc\") + F.expr(f'INTERVAL {day_shift} DAYS'))\n",
    "aggregation.show()"
   ]
  },
  {
   "cell_type": "code",
   "execution_count": 11,
   "id": "47a7a84f",
   "metadata": {},
   "outputs": [
    {
     "name": "stdout",
     "output_type": "stream",
     "text": [
      "+-------------------+------------------+--------------+----+-----+---+----+\n",
      "|               date|             price|cryptocurrency|year|month|day|hour|\n",
      "+-------------------+------------------+--------------+----+-----+---+----+\n",
      "|2022-09-30 20:00:00| 19674.48240468394|       bitcoin|2022|    9| 30|  20|\n",
      "|2022-09-30 21:00:00|19416.679427599574|       bitcoin|2022|    9| 30|  21|\n",
      "|2022-09-30 22:00:00|19390.772416700056|       bitcoin|2022|    9| 30|  22|\n",
      "|2022-09-30 23:00:00|19391.879627904444|       bitcoin|2022|    9| 30|  23|\n",
      "|2022-10-01 00:00:00| 19476.92659600407|       bitcoin|2022|   10|  1|   0|\n",
      "|2022-10-01 01:00:00| 19408.74499886766|       bitcoin|2022|   10|  1|   1|\n",
      "|2022-10-01 02:00:00|19399.760776852163|       bitcoin|2022|   10|  1|   2|\n",
      "|2022-10-01 03:00:00| 19416.21089144999|       bitcoin|2022|   10|  1|   3|\n",
      "|2022-10-01 04:00:00| 19403.31901570052|       bitcoin|2022|   10|  1|   4|\n",
      "|2022-10-01 05:00:00| 19400.51033859877|       bitcoin|2022|   10|  1|   5|\n",
      "|2022-10-01 06:00:00|  19307.6997422463|       bitcoin|2022|   10|  1|   6|\n",
      "|2022-10-01 07:00:00|19305.490727955035|       bitcoin|2022|   10|  1|   7|\n",
      "|2022-10-01 08:00:00| 19308.17059655418|       bitcoin|2022|   10|  1|   8|\n",
      "|2022-10-01 09:00:00|19342.438390010077|       bitcoin|2022|   10|  1|   9|\n",
      "|2022-10-01 10:00:00|19331.107361269576|       bitcoin|2022|   10|  1|  10|\n",
      "|2022-10-01 11:00:00| 19321.98874744996|       bitcoin|2022|   10|  1|  11|\n",
      "|2022-10-01 12:00:00|19260.253420308956|       bitcoin|2022|   10|  1|  12|\n",
      "|2022-10-01 13:00:00|19282.883905002283|       bitcoin|2022|   10|  1|  13|\n",
      "|2022-10-01 14:00:00| 19355.47289726264|       bitcoin|2022|   10|  1|  14|\n",
      "|2022-10-01 15:00:00| 19300.80626061653|       bitcoin|2022|   10|  1|  15|\n",
      "+-------------------+------------------+--------------+----+-----+---+----+\n",
      "only showing top 20 rows\n",
      "\n"
     ]
    }
   ],
   "source": [
    "crypto_df = spark.sql(f'SELECT * FROM crypto_table')\n",
    "crypto_df = crypto_df.withColumn('date', F.date_format(crypto_df.date.cast('timestamp'), \"yyyy-MM-dd HH:00:00\"))\n",
    "crypto_df.show()"
   ]
  },
  {
   "cell_type": "code",
   "execution_count": 16,
   "id": "39450e27",
   "metadata": {},
   "outputs": [],
   "source": [
    "results = aggregation.join(crypto_df, (aggregation.sub_utc ==  crypto_df.date) & (aggregation.cryptocurrency_a ==  crypto_df.cryptocurrency),\"right\")\n",
    "results = results.select('date', 'sentiment', 'price', 'cryptocurrency')"
   ]
  },
  {
   "cell_type": "code",
   "execution_count": 20,
   "id": "be1b1270",
   "metadata": {},
   "outputs": [
    {
     "data": {
      "text/html": [
       "<div>\n",
       "<style scoped>\n",
       "    .dataframe tbody tr th:only-of-type {\n",
       "        vertical-align: middle;\n",
       "    }\n",
       "\n",
       "    .dataframe tbody tr th {\n",
       "        vertical-align: top;\n",
       "    }\n",
       "\n",
       "    .dataframe thead th {\n",
       "        text-align: right;\n",
       "    }\n",
       "</style>\n",
       "<table border=\"1\" class=\"dataframe\">\n",
       "  <thead>\n",
       "    <tr style=\"text-align: right;\">\n",
       "      <th></th>\n",
       "      <th>date</th>\n",
       "      <th>sentiment</th>\n",
       "      <th>price</th>\n",
       "      <th>cryptocurrency</th>\n",
       "    </tr>\n",
       "  </thead>\n",
       "  <tbody>\n",
       "    <tr>\n",
       "      <th>882</th>\n",
       "      <td>2022-11-07 00:00:00</td>\n",
       "      <td>0.571329</td>\n",
       "      <td>20921.822265</td>\n",
       "      <td>bitcoin</td>\n",
       "    </tr>\n",
       "    <tr>\n",
       "      <th>883</th>\n",
       "      <td>2022-11-07 01:00:00</td>\n",
       "      <td>0.785586</td>\n",
       "      <td>20883.301226</td>\n",
       "      <td>bitcoin</td>\n",
       "    </tr>\n",
       "    <tr>\n",
       "      <th>884</th>\n",
       "      <td>2022-11-07 02:00:00</td>\n",
       "      <td>0.999843</td>\n",
       "      <td>20959.779819</td>\n",
       "      <td>bitcoin</td>\n",
       "    </tr>\n",
       "    <tr>\n",
       "      <th>885</th>\n",
       "      <td>2022-11-07 03:00:00</td>\n",
       "      <td>0.998873</td>\n",
       "      <td>21011.162050</td>\n",
       "      <td>bitcoin</td>\n",
       "    </tr>\n",
       "    <tr>\n",
       "      <th>886</th>\n",
       "      <td>2022-11-07 04:00:00</td>\n",
       "      <td>0.999496</td>\n",
       "      <td>20927.639935</td>\n",
       "      <td>bitcoin</td>\n",
       "    </tr>\n",
       "    <tr>\n",
       "      <th>...</th>\n",
       "      <td>...</td>\n",
       "      <td>...</td>\n",
       "      <td>...</td>\n",
       "      <td>...</td>\n",
       "    </tr>\n",
       "    <tr>\n",
       "      <th>16237</th>\n",
       "      <td>2023-01-21 16:00:00</td>\n",
       "      <td>0.986978</td>\n",
       "      <td>25.327134</td>\n",
       "      <td>solana</td>\n",
       "    </tr>\n",
       "    <tr>\n",
       "      <th>16238</th>\n",
       "      <td>2023-01-21 17:00:00</td>\n",
       "      <td>0.997168</td>\n",
       "      <td>25.576211</td>\n",
       "      <td>solana</td>\n",
       "    </tr>\n",
       "    <tr>\n",
       "      <th>16239</th>\n",
       "      <td>2023-01-21 18:00:00</td>\n",
       "      <td>0.998112</td>\n",
       "      <td>25.477412</td>\n",
       "      <td>solana</td>\n",
       "    </tr>\n",
       "    <tr>\n",
       "      <th>16240</th>\n",
       "      <td>2023-01-21 19:00:00</td>\n",
       "      <td>0.999056</td>\n",
       "      <td>25.459143</td>\n",
       "      <td>solana</td>\n",
       "    </tr>\n",
       "    <tr>\n",
       "      <th>16241</th>\n",
       "      <td>2023-01-21 20:00:00</td>\n",
       "      <td>1.000000</td>\n",
       "      <td>25.688132</td>\n",
       "      <td>solana</td>\n",
       "    </tr>\n",
       "  </tbody>\n",
       "</table>\n",
       "<p>15360 rows × 4 columns</p>\n",
       "</div>"
      ],
      "text/plain": [
       "                      date  sentiment         price cryptocurrency\n",
       "882    2022-11-07 00:00:00   0.571329  20921.822265        bitcoin\n",
       "883    2022-11-07 01:00:00   0.785586  20883.301226        bitcoin\n",
       "884    2022-11-07 02:00:00   0.999843  20959.779819        bitcoin\n",
       "885    2022-11-07 03:00:00   0.998873  21011.162050        bitcoin\n",
       "886    2022-11-07 04:00:00   0.999496  20927.639935        bitcoin\n",
       "...                    ...        ...           ...            ...\n",
       "16237  2023-01-21 16:00:00   0.986978     25.327134         solana\n",
       "16238  2023-01-21 17:00:00   0.997168     25.576211         solana\n",
       "16239  2023-01-21 18:00:00   0.998112     25.477412         solana\n",
       "16240  2023-01-21 19:00:00   0.999056     25.459143         solana\n",
       "16241  2023-01-21 20:00:00   1.000000     25.688132         solana\n",
       "\n",
       "[15360 rows x 4 columns]"
      ]
     },
     "execution_count": 20,
     "metadata": {},
     "output_type": "execute_result"
    }
   ],
   "source": [
    "res = results.toPandas()\n",
    "res = res.interpolate(method='linear').dropna()\n",
    "results = spark.createDataFrame(res)"
   ]
  },
  {
   "cell_type": "code",
   "execution_count": null,
   "id": "860e3e85",
   "metadata": {},
   "outputs": [],
   "source": [
    "results = results.sort(F.col(\"date\"))"
   ]
  },
  {
   "cell_type": "code",
   "execution_count": null,
   "id": "3fe13184",
   "metadata": {},
   "outputs": [],
   "source": [
    "test_data = aggregation.filter(F.col(\"sub_utc\") > F.lit(datetime.now().isoformat()))\n",
    "test_data = test_data.select('sub_utc', 'sentiment', 'cryptocurrency_a')\n",
    "test_data = test_data.withColumnRenamed('sub_utc', 'date')\n",
    "test_data = test_data.withColumnRenamed('cryptocurrency_a', 'cryptocurrency')\n",
    "test_data = test_data.sort(F.col(\"date\"))\n",
    "test_data.tail(10)"
   ]
  },
  {
   "cell_type": "code",
   "execution_count": null,
   "id": "2ae02ebd",
   "metadata": {},
   "outputs": [],
   "source": [
    "results.toPandas()"
   ]
  },
  {
   "cell_type": "code",
   "execution_count": null,
   "id": "3d13ee56",
   "metadata": {},
   "outputs": [],
   "source": [
    "cmd = f'hdfs dfs -rmr {result_path}'\n",
    "os.system(cmd)\n",
    "results.write.csv(result_path)"
   ]
  },
  {
   "cell_type": "code",
   "execution_count": null,
   "id": "6e2ad71f",
   "metadata": {},
   "outputs": [],
   "source": []
  }
 ],
 "metadata": {
  "kernelspec": {
   "display_name": "PySpark",
   "language": "python",
   "name": "pyspark"
  },
  "language_info": {
   "codemirror_mode": {
    "name": "ipython",
    "version": 3
   },
   "file_extension": ".py",
   "mimetype": "text/x-python",
   "name": "python",
   "nbconvert_exporter": "python",
   "pygments_lexer": "ipython3",
   "version": "3.8.15"
  }
 },
 "nbformat": 4,
 "nbformat_minor": 5
}
