{
 "cells": [
  {
   "cell_type": "code",
   "execution_count": null,
   "id": "09e26d32",
   "metadata": {},
   "outputs": [],
   "source": [
    "#https://pypi.org/project/websocket_client/\n",
    "import websocket\n",
    "\n",
    "\n",
    "def on_message(ws, message):\n",
    "#     textfile = open('textfile.txt', 'w')\n",
    "#     textfile.write(message)\n",
    "#     textfile.close()\n",
    "    print(message)\n",
    "\n",
    "def on_error(ws, error):\n",
    "    print(error)\n",
    "\n",
    "def on_close(ws):\n",
    "    print(\"### closed ###\")\n",
    "\n",
    "def on_open(ws):\n",
    "    ws.send('{ \"type\": \"subscribe\",\"product_ids\": [\"ETH-USD\"],\"channels\": [\"level2\"]}')\n",
    "\n",
    "if __name__ == \"__main__\":\n",
    "    websocket.enableTrace(True)\n",
    "    ws = websocket.WebSocketApp(\"wss://ws-feed.exchange.coinbase.com\",\n",
    "                              on_message = on_message,\n",
    "                              on_error = on_error,\n",
    "                              on_close = on_close)\n",
    "    ws.on_open = on_open\n",
    "    ws.run_forever()"
   ]
  }
 ],
 "metadata": {
  "kernelspec": {
   "display_name": "Python 3 (ipykernel)",
   "language": "python",
   "name": "python3"
  },
  "language_info": {
   "codemirror_mode": {
    "name": "ipython",
    "version": 3
   },
   "file_extension": ".py",
   "mimetype": "text/x-python",
   "name": "python",
   "nbconvert_exporter": "python",
   "pygments_lexer": "ipython3",
   "version": "3.9.7"
  }
 },
 "nbformat": 4,
 "nbformat_minor": 5
}
