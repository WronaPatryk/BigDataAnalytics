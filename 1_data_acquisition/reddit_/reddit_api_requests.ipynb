{
 "cells": [
  {
   "cell_type": "code",
   "execution_count": 1,
   "id": "179c2407",
   "metadata": {},
   "outputs": [],
   "source": [
    "import requests"
   ]
  },
  {
   "cell_type": "code",
   "execution_count": 2,
   "id": "aeb3720a",
   "metadata": {},
   "outputs": [],
   "source": [
    "subreddit = 'Bitcoin'\n",
    "limit = 100\n",
    "timeframe = 'month'  #  hour, day, week, month, year, all\n",
    "listing = 'top'  #  controversial, best, hot, new, random, rising, top"
   ]
  },
  {
   "cell_type": "code",
   "execution_count": 3,
   "id": "a6bbebb1",
   "metadata": {},
   "outputs": [],
   "source": [
    "from reddit_requests import request_reddits"
   ]
  },
  {
   "cell_type": "code",
   "execution_count": 4,
   "id": "3d801434",
   "metadata": {},
   "outputs": [],
   "source": [
    "r = request_reddits(subreddit, listing, limit, timeframe)"
   ]
  },
  {
   "cell_type": "code",
   "execution_count": 5,
   "id": "b4769886",
   "metadata": {},
   "outputs": [
    {
     "data": {
      "text/plain": [
       "dict_keys(['kind', 'data'])"
      ]
     },
     "execution_count": 5,
     "metadata": {},
     "output_type": "execute_result"
    }
   ],
   "source": [
    "r.keys()"
   ]
  },
  {
   "cell_type": "code",
   "execution_count": 6,
   "id": "9042ce0a",
   "metadata": {
    "scrolled": true
   },
   "outputs": [
    {
     "data": {
      "text/plain": [
       "109"
      ]
     },
     "execution_count": 6,
     "metadata": {},
     "output_type": "execute_result"
    }
   ],
   "source": [
    "len(r[\"data\"][\"children\"][0][\"data\"].keys())"
   ]
  },
  {
   "cell_type": "code",
   "execution_count": 7,
   "id": "f9bcc796",
   "metadata": {},
   "outputs": [
    {
     "data": {
      "text/plain": [
       "{'kind': 't3',\n",
       " 'data': {'approved_at_utc': None,\n",
       "  'subreddit': 'Bitcoin',\n",
       "  'selftext': '',\n",
       "  'author_fullname': 't2_fnpai',\n",
       "  'saved': False,\n",
       "  'mod_reason_title': None,\n",
       "  'gilded': 0,\n",
       "  'clicked': False,\n",
       "  'title': 'Faketoshi owning himself',\n",
       "  'link_flair_richtext': [],\n",
       "  'subreddit_name_prefixed': 'r/Bitcoin',\n",
       "  'hidden': False,\n",
       "  'pwls': 6,\n",
       "  'link_flair_css_class': None,\n",
       "  'downs': 0,\n",
       "  'thumbnail_height': 140,\n",
       "  'top_awarded_type': None,\n",
       "  'hide_score': False,\n",
       "  'name': 't3_ycvbky',\n",
       "  'quarantine': False,\n",
       "  'link_flair_text_color': 'dark',\n",
       "  'upvote_ratio': 0.98,\n",
       "  'author_flair_background_color': None,\n",
       "  'subreddit_type': 'public',\n",
       "  'ups': 1887,\n",
       "  'total_awards_received': 5,\n",
       "  'media_embed': {},\n",
       "  'thumbnail_width': 140,\n",
       "  'author_flair_template_id': None,\n",
       "  'is_original_content': False,\n",
       "  'user_reports': [],\n",
       "  'secure_media': None,\n",
       "  'is_reddit_media_domain': True,\n",
       "  'is_meta': False,\n",
       "  'category': None,\n",
       "  'secure_media_embed': {},\n",
       "  'link_flair_text': None,\n",
       "  'can_mod_post': False,\n",
       "  'score': 1887,\n",
       "  'approved_by': None,\n",
       "  'is_created_from_ads_ui': False,\n",
       "  'author_premium': False,\n",
       "  'thumbnail': 'https://b.thumbs.redditmedia.com/gPcPQkq2jJ9wyEb2xdjpL1IbEWw0SR7ozZJiI4Uys4g.jpg',\n",
       "  'edited': False,\n",
       "  'author_flair_css_class': None,\n",
       "  'author_flair_richtext': [],\n",
       "  'gildings': {'gid_1': 3},\n",
       "  'post_hint': 'image',\n",
       "  'content_categories': None,\n",
       "  'is_self': False,\n",
       "  'mod_note': None,\n",
       "  'created': 1666670411.0,\n",
       "  'link_flair_type': 'text',\n",
       "  'wls': 6,\n",
       "  'removed_by_category': None,\n",
       "  'banned_by': None,\n",
       "  'author_flair_type': 'text',\n",
       "  'domain': 'i.redd.it',\n",
       "  'allow_live_comments': True,\n",
       "  'selftext_html': None,\n",
       "  'likes': None,\n",
       "  'suggested_sort': None,\n",
       "  'banned_at_utc': None,\n",
       "  'url_overridden_by_dest': 'https://i.redd.it/yw7owl4blvv91.jpg',\n",
       "  'view_count': None,\n",
       "  'archived': False,\n",
       "  'no_follow': False,\n",
       "  'is_crosspostable': False,\n",
       "  'pinned': False,\n",
       "  'over_18': False,\n",
       "  'preview': {'images': [{'source': {'url': 'https://preview.redd.it/yw7owl4blvv91.jpg?auto=webp&amp;s=da9947d83fd1f9b57a6c585e07267617d123f096',\n",
       "      'width': 621,\n",
       "      'height': 851},\n",
       "     'resolutions': [{'url': 'https://preview.redd.it/yw7owl4blvv91.jpg?width=108&amp;crop=smart&amp;auto=webp&amp;s=ad930235c5b17621ed6b5746d690c10fc8974ee2',\n",
       "       'width': 108,\n",
       "       'height': 148},\n",
       "      {'url': 'https://preview.redd.it/yw7owl4blvv91.jpg?width=216&amp;crop=smart&amp;auto=webp&amp;s=e6b79b4f4f4732f89dd369bf3b25de11d67cd7d5',\n",
       "       'width': 216,\n",
       "       'height': 296},\n",
       "      {'url': 'https://preview.redd.it/yw7owl4blvv91.jpg?width=320&amp;crop=smart&amp;auto=webp&amp;s=cfc98547aebef3c0cd41edcef30d569c67fa2b86',\n",
       "       'width': 320,\n",
       "       'height': 438}],\n",
       "     'variants': {},\n",
       "     'id': 'R8PRogUxG_y9XzVhmm_LlZhXP9QwxCYBQCJmneUA9jo'}],\n",
       "   'enabled': True},\n",
       "  'all_awardings': [{'giver_coin_reward': None,\n",
       "    'subreddit_id': None,\n",
       "    'is_new': False,\n",
       "    'days_of_drip_extension': None,\n",
       "    'coin_price': 125,\n",
       "    'id': 'award_5f123e3d-4f48-42f4-9c11-e98b566d5897',\n",
       "    'penny_donate': None,\n",
       "    'award_sub_type': 'GLOBAL',\n",
       "    'coin_reward': 0,\n",
       "    'icon_url': 'https://i.redd.it/award_images/t5_22cerq/5izbv4fn0md41_Wholesome.png',\n",
       "    'days_of_premium': None,\n",
       "    'tiers_by_required_awardings': None,\n",
       "    'resized_icons': [{'url': 'https://preview.redd.it/award_images/t5_22cerq/5izbv4fn0md41_Wholesome.png?width=16&amp;height=16&amp;auto=webp&amp;s=92932f465d58e4c16b12b6eac4ca07d27e3d11c0',\n",
       "      'width': 16,\n",
       "      'height': 16},\n",
       "     {'url': 'https://preview.redd.it/award_images/t5_22cerq/5izbv4fn0md41_Wholesome.png?width=32&amp;height=32&amp;auto=webp&amp;s=d11484a208d68a318bf9d4fcf371171a1cb6a7ef',\n",
       "      'width': 32,\n",
       "      'height': 32},\n",
       "     {'url': 'https://preview.redd.it/award_images/t5_22cerq/5izbv4fn0md41_Wholesome.png?width=48&amp;height=48&amp;auto=webp&amp;s=febdf28b6f39f7da7eb1365325b85e0bb49a9f63',\n",
       "      'width': 48,\n",
       "      'height': 48},\n",
       "     {'url': 'https://preview.redd.it/award_images/t5_22cerq/5izbv4fn0md41_Wholesome.png?width=64&amp;height=64&amp;auto=webp&amp;s=b4406a2d88bf86fa3dc8a45aacf7e0c7bdccc4fb',\n",
       "      'width': 64,\n",
       "      'height': 64},\n",
       "     {'url': 'https://preview.redd.it/award_images/t5_22cerq/5izbv4fn0md41_Wholesome.png?width=128&amp;height=128&amp;auto=webp&amp;s=19555b13e3e196b62eeb9160d1ac1d1b372dcb0b',\n",
       "      'width': 128,\n",
       "      'height': 128}],\n",
       "    'icon_width': 2048,\n",
       "    'static_icon_width': 2048,\n",
       "    'start_date': None,\n",
       "    'is_enabled': True,\n",
       "    'awardings_required_to_grant_benefits': None,\n",
       "    'description': 'When you come across a feel-good thing.',\n",
       "    'end_date': None,\n",
       "    'sticky_duration_seconds': None,\n",
       "    'subreddit_coin_reward': 0,\n",
       "    'count': 2,\n",
       "    'static_icon_height': 2048,\n",
       "    'name': 'Wholesome',\n",
       "    'resized_static_icons': [{'url': 'https://preview.redd.it/award_images/t5_22cerq/5izbv4fn0md41_Wholesome.png?width=16&amp;height=16&amp;auto=webp&amp;s=92932f465d58e4c16b12b6eac4ca07d27e3d11c0',\n",
       "      'width': 16,\n",
       "      'height': 16},\n",
       "     {'url': 'https://preview.redd.it/award_images/t5_22cerq/5izbv4fn0md41_Wholesome.png?width=32&amp;height=32&amp;auto=webp&amp;s=d11484a208d68a318bf9d4fcf371171a1cb6a7ef',\n",
       "      'width': 32,\n",
       "      'height': 32},\n",
       "     {'url': 'https://preview.redd.it/award_images/t5_22cerq/5izbv4fn0md41_Wholesome.png?width=48&amp;height=48&amp;auto=webp&amp;s=febdf28b6f39f7da7eb1365325b85e0bb49a9f63',\n",
       "      'width': 48,\n",
       "      'height': 48},\n",
       "     {'url': 'https://preview.redd.it/award_images/t5_22cerq/5izbv4fn0md41_Wholesome.png?width=64&amp;height=64&amp;auto=webp&amp;s=b4406a2d88bf86fa3dc8a45aacf7e0c7bdccc4fb',\n",
       "      'width': 64,\n",
       "      'height': 64},\n",
       "     {'url': 'https://preview.redd.it/award_images/t5_22cerq/5izbv4fn0md41_Wholesome.png?width=128&amp;height=128&amp;auto=webp&amp;s=19555b13e3e196b62eeb9160d1ac1d1b372dcb0b',\n",
       "      'width': 128,\n",
       "      'height': 128}],\n",
       "    'icon_format': None,\n",
       "    'icon_height': 2048,\n",
       "    'penny_price': None,\n",
       "    'award_type': 'global',\n",
       "    'static_icon_url': 'https://i.redd.it/award_images/t5_22cerq/5izbv4fn0md41_Wholesome.png'},\n",
       "   {'giver_coin_reward': None,\n",
       "    'subreddit_id': None,\n",
       "    'is_new': False,\n",
       "    'days_of_drip_extension': None,\n",
       "    'coin_price': 100,\n",
       "    'id': 'gid_1',\n",
       "    'penny_donate': None,\n",
       "    'award_sub_type': 'GLOBAL',\n",
       "    'coin_reward': 0,\n",
       "    'icon_url': 'https://www.redditstatic.com/gold/awards/icon/silver_512.png',\n",
       "    'days_of_premium': None,\n",
       "    'tiers_by_required_awardings': None,\n",
       "    'resized_icons': [{'url': 'https://www.redditstatic.com/gold/awards/icon/silver_16.png',\n",
       "      'width': 16,\n",
       "      'height': 16},\n",
       "     {'url': 'https://www.redditstatic.com/gold/awards/icon/silver_32.png',\n",
       "      'width': 32,\n",
       "      'height': 32},\n",
       "     {'url': 'https://www.redditstatic.com/gold/awards/icon/silver_48.png',\n",
       "      'width': 48,\n",
       "      'height': 48},\n",
       "     {'url': 'https://www.redditstatic.com/gold/awards/icon/silver_64.png',\n",
       "      'width': 64,\n",
       "      'height': 64},\n",
       "     {'url': 'https://www.redditstatic.com/gold/awards/icon/silver_128.png',\n",
       "      'width': 128,\n",
       "      'height': 128}],\n",
       "    'icon_width': 512,\n",
       "    'static_icon_width': 512,\n",
       "    'start_date': None,\n",
       "    'is_enabled': True,\n",
       "    'awardings_required_to_grant_benefits': None,\n",
       "    'description': \"Shows the Silver Award... and that's it.\",\n",
       "    'end_date': None,\n",
       "    'sticky_duration_seconds': None,\n",
       "    'subreddit_coin_reward': 0,\n",
       "    'count': 3,\n",
       "    'static_icon_height': 512,\n",
       "    'name': 'Silver',\n",
       "    'resized_static_icons': [{'url': 'https://www.redditstatic.com/gold/awards/icon/silver_16.png',\n",
       "      'width': 16,\n",
       "      'height': 16},\n",
       "     {'url': 'https://www.redditstatic.com/gold/awards/icon/silver_32.png',\n",
       "      'width': 32,\n",
       "      'height': 32},\n",
       "     {'url': 'https://www.redditstatic.com/gold/awards/icon/silver_48.png',\n",
       "      'width': 48,\n",
       "      'height': 48},\n",
       "     {'url': 'https://www.redditstatic.com/gold/awards/icon/silver_64.png',\n",
       "      'width': 64,\n",
       "      'height': 64},\n",
       "     {'url': 'https://www.redditstatic.com/gold/awards/icon/silver_128.png',\n",
       "      'width': 128,\n",
       "      'height': 128}],\n",
       "    'icon_format': None,\n",
       "    'icon_height': 512,\n",
       "    'penny_price': None,\n",
       "    'award_type': 'global',\n",
       "    'static_icon_url': 'https://www.redditstatic.com/gold/awards/icon/silver_512.png'}],\n",
       "  'awarders': [],\n",
       "  'media_only': False,\n",
       "  'can_gild': False,\n",
       "  'spoiler': False,\n",
       "  'locked': False,\n",
       "  'author_flair_text': None,\n",
       "  'treatment_tags': [],\n",
       "  'visited': False,\n",
       "  'removed_by': None,\n",
       "  'num_reports': None,\n",
       "  'distinguished': None,\n",
       "  'subreddit_id': 't5_2s3qj',\n",
       "  'author_is_blocked': False,\n",
       "  'mod_reason_by': None,\n",
       "  'removal_reason': None,\n",
       "  'link_flair_background_color': '',\n",
       "  'id': 'ycvbky',\n",
       "  'is_robot_indexable': True,\n",
       "  'report_reasons': None,\n",
       "  'author': 'cryptograffiti',\n",
       "  'discussion_type': None,\n",
       "  'num_comments': 151,\n",
       "  'send_replies': True,\n",
       "  'whitelist_status': 'all_ads',\n",
       "  'contest_mode': False,\n",
       "  'mod_reports': [],\n",
       "  'author_patreon_flair': False,\n",
       "  'author_flair_text_color': None,\n",
       "  'permalink': '/r/Bitcoin/comments/ycvbky/faketoshi_owning_himself/',\n",
       "  'parent_whitelist_status': 'all_ads',\n",
       "  'stickied': False,\n",
       "  'url': 'https://i.redd.it/yw7owl4blvv91.jpg',\n",
       "  'subreddit_subscribers': 4713051,\n",
       "  'created_utc': 1666670411.0,\n",
       "  'num_crossposts': 2,\n",
       "  'media': None,\n",
       "  'is_video': False}}"
      ]
     },
     "execution_count": 7,
     "metadata": {},
     "output_type": "execute_result"
    }
   ],
   "source": [
    "r[\"data\"][\"children\"][20]"
   ]
  },
  {
   "cell_type": "code",
   "execution_count": 57,
   "id": "e3b83c0f",
   "metadata": {},
   "outputs": [],
   "source": [
    "interesting_attributes = ['title', 'url', 'score', 'num_comments', 'view_count', 'selftext', 'created_utc']"
   ]
  },
  {
   "cell_type": "code",
   "execution_count": 67,
   "id": "0f41796c",
   "metadata": {},
   "outputs": [
    {
     "name": "stdout",
     "output_type": "stream",
     "text": [
      "title: In 2021, Bank of England warned that Bitcoin could become worthless. Below is the graph of The British Pound looking like a Shitcoin. Let that sink in.\n",
      "url: https://i.redd.it/0nmwccxirrq91.jpg\n",
      "score: 2689\n",
      "num_comments: 503\n",
      "view_count: None\n",
      "selftext: \n",
      "created_utc: 1664444834.0\n"
     ]
    }
   ],
   "source": [
    "for k in interesting_attributes:\n",
    "    print(f\"{k}: {r['data']['children'][6]['data'][k]}\")"
   ]
  }
 ],
 "metadata": {
  "kernelspec": {
   "display_name": "Python [conda env:bda] *",
   "language": "python",
   "name": "conda-env-bda-py"
  },
  "language_info": {
   "codemirror_mode": {
    "name": "ipython",
    "version": 3
   },
   "file_extension": ".py",
   "mimetype": "text/x-python",
   "name": "python",
   "nbconvert_exporter": "python",
   "pygments_lexer": "ipython3",
   "version": "3.10.6"
  }
 },
 "nbformat": 4,
 "nbformat_minor": 5
}
