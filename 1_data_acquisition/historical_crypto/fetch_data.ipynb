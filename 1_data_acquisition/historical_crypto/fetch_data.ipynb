{
 "cells": [
  {
   "cell_type": "code",
   "execution_count": 1,
   "id": "de9b461e",
   "metadata": {},
   "outputs": [],
   "source": [
    "import os\n",
    "import pandas as pd\n",
    "import requests\n",
    "\n",
    "from datetime import datetime"
   ]
  },
  {
   "cell_type": "code",
   "execution_count": 2,
   "id": "4efb2fd3",
   "metadata": {},
   "outputs": [],
   "source": [
    "# id to cryptocurrencies in CoinGecko\n",
    "crypto_ids = {\n",
    "    \"bitcoin\",\n",
    "    \"ethereum\",\n",
    "    \"dogecoin\",\n",
    "    \"cardano\",\n",
    "    \"ripple\",\n",
    "    \"solana\"\n",
    "}\n",
    "# ripple == xrp"
   ]
  },
  {
   "cell_type": "code",
   "execution_count": 3,
   "id": "39e0fc3d",
   "metadata": {},
   "outputs": [],
   "source": [
    "out_dir = './data'\n",
    "if not os.path.exists(out_dir):\n",
    "    os.mkdir(out_dir)\n",
    "\n",
    "for c in crypto_ids:\n",
    "    url = 'https://api.coingecko.com/api/v3/coins/' + c + '/market_chart?vs_currency=usd&days=max&interval=daily'\n",
    "    req = requests.get(url)\n",
    "    data = req.json()\n",
    "    \n",
    "    df = pd.DataFrame(data[\"prices\"], columns = ['date', 'price'])\n",
    "    # dropping last row since API returns additionally most recent price from given day which is incoherent\n",
    "    df = df[:-1]\n",
    "    # convert unix timestamp to datetime\n",
    "    df['date'] = df['date'].map(lambda x: datetime.utcfromtimestamp(x//1000))\n",
    "    df.to_csv(os.path.join(out_dir, c + '_data.csv'), date_format=\"%d/%m/%Y\", index=False)\n"
   ]
  },
  {
   "cell_type": "code",
   "execution_count": null,
   "id": "302cc969",
   "metadata": {},
   "outputs": [],
   "source": []
  }
 ],
 "metadata": {
  "kernelspec": {
   "display_name": "Python 3",
   "language": "python",
   "name": "python3"
  },
  "language_info": {
   "codemirror_mode": {
    "name": "ipython",
    "version": 3
   },
   "file_extension": ".py",
   "mimetype": "text/x-python",
   "name": "python",
   "nbconvert_exporter": "python",
   "pygments_lexer": "ipython3",
   "version": "3.8.8"
  }
 },
 "nbformat": 4,
 "nbformat_minor": 5
}
