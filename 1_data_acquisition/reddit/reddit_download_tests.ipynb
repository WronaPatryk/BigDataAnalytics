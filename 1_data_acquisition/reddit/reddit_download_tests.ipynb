{
  "nbformat": 4,
  "nbformat_minor": 0,
  "metadata": {
    "colab": {
      "provenance": []
    },
    "kernelspec": {
      "name": "python3",
      "display_name": "Python 3"
    },
    "language_info": {
      "name": "python"
    }
  },
  "cells": [
    {
      "cell_type": "code",
      "execution_count": 34,
      "metadata": {
        "colab": {
          "base_uri": "https://localhost:8080/"
        },
        "id": "u8gyXy1Hsqfm",
        "outputId": "7b6826ed-c204-4397-af34-79843ce10b7b"
      },
      "outputs": [
        {
          "output_type": "stream",
          "name": "stdout",
          "text": [
            "--2022-10-16 17:35:05--  https://files.pushshift.io/reddit/submissions/RS_2016-06.zst\n",
            "Resolving files.pushshift.io (files.pushshift.io)... 104.21.28.11, 172.67.170.36, 2606:4700:3031::6815:1c0b, ...\n",
            "Connecting to files.pushshift.io (files.pushshift.io)|104.21.28.11|:443... connected.\n",
            "HTTP request sent, awaiting response... 200 OK\n",
            "Length: 2021341225 (1.9G) [application/octet-stream]\n",
            "Saving to: ‘RS_2016-06.zst’\n",
            "\n",
            "RS_2016-06.zst      100%[===================>]   1.88G  15.7MB/s    in 2m 2s   \n",
            "\n",
            "2022-10-16 17:37:07 (15.8 MB/s) - ‘RS_2016-06.zst’ saved [2021341225/2021341225]\n",
            "\n"
          ]
        }
      ],
      "source": [
        "!wget https://files.pushshift.io/reddit/submissions/RS_2016-06.zst"
      ]
    },
    {
      "cell_type": "code",
      "source": [
        "!ls"
      ],
      "metadata": {
        "colab": {
          "base_uri": "https://localhost:8080/"
        },
        "id": "VkHOpnRbswq4",
        "outputId": "618f125c-7749-4347-ba87-d4dda4d18d05"
      },
      "execution_count": 2,
      "outputs": [
        {
          "output_type": "stream",
          "name": "stdout",
          "text": [
            "RS_2006-01.zst\tsample_data\n"
          ]
        }
      ]
    },
    {
      "cell_type": "code",
      "source": [
        "!unzstd --long=31 RS_2016-06.zst"
      ],
      "metadata": {
        "colab": {
          "base_uri": "https://localhost:8080/"
        },
        "id": "wq4oTohbswti",
        "outputId": "f7b14d87-b54f-4550-f3d5-2e9d0ec9f51f"
      },
      "execution_count": 35,
      "outputs": [
        {
          "output_type": "stream",
          "name": "stdout",
          "text": [
            "RS_2016-06.zst      : 12641850009 bytes \n"
          ]
        }
      ]
    },
    {
      "cell_type": "code",
      "source": [
        "!sudo apt-get install zstd"
      ],
      "metadata": {
        "colab": {
          "base_uri": "https://localhost:8080/"
        },
        "id": "52VgFqSVswvw",
        "outputId": "11b85be9-55b8-46fd-e2a5-f9a547f16235"
      },
      "execution_count": 5,
      "outputs": [
        {
          "output_type": "stream",
          "name": "stdout",
          "text": [
            "Reading package lists... Done\n",
            "Building dependency tree       \n",
            "Reading state information... Done\n",
            "The following package was automatically installed and is no longer required:\n",
            "  libnvidia-common-460\n",
            "Use 'sudo apt autoremove' to remove it.\n",
            "The following NEW packages will be installed:\n",
            "  zstd\n",
            "0 upgraded, 1 newly installed, 0 to remove and 12 not upgraded.\n",
            "Need to get 278 kB of archives.\n",
            "After this operation, 1,141 kB of additional disk space will be used.\n",
            "Get:1 http://archive.ubuntu.com/ubuntu bionic-updates/universe amd64 zstd amd64 1.3.3+dfsg-2ubuntu1.2 [278 kB]\n",
            "Fetched 278 kB in 0s (938 kB/s)\n",
            "debconf: unable to initialize frontend: Dialog\n",
            "debconf: (No usable dialog-like program is installed, so the dialog based frontend cannot be used. at /usr/share/perl5/Debconf/FrontEnd/Dialog.pm line 76, <> line 1.)\n",
            "debconf: falling back to frontend: Readline\n",
            "debconf: unable to initialize frontend: Readline\n",
            "debconf: (This frontend requires a controlling tty.)\n",
            "debconf: falling back to frontend: Teletype\n",
            "dpkg-preconfigure: unable to re-open stdin: \n",
            "Selecting previously unselected package zstd.\n",
            "(Reading database ... 123934 files and directories currently installed.)\n",
            "Preparing to unpack .../zstd_1.3.3+dfsg-2ubuntu1.2_amd64.deb ...\n",
            "Unpacking zstd (1.3.3+dfsg-2ubuntu1.2) ...\n",
            "Setting up zstd (1.3.3+dfsg-2ubuntu1.2) ...\n",
            "Processing triggers for man-db (2.8.3-2ubuntu0.1) ...\n"
          ]
        }
      ]
    },
    {
      "cell_type": "code",
      "source": [
        "import json\n",
        "import pandas as pd"
      ],
      "metadata": {
        "id": "7obYmZ3uuMBG"
      },
      "execution_count": 8,
      "outputs": []
    },
    {
      "cell_type": "code",
      "source": [
        "selected_subreddits = ['bitcoin',\n",
        "                       'ethereum',\n",
        "                       'dogecoin',\n",
        "                       'cardano',\n",
        "                       'XRP',\n",
        "                       'solana'\n",
        "                       ]"
      ],
      "metadata": {
        "id": "mQZtDQypuMEA"
      },
      "execution_count": 36,
      "outputs": []
    },
    {
      "cell_type": "code",
      "source": [
        "file_path = \"RS_2016-06\"\n",
        "\n",
        "f = open(file_path)\n",
        "obs = []\n",
        "# columns = ['subreddit', 'link_flair_text', 'title', 'selftext', 'score', 'url', \n",
        "#            'num_comments', 'created_utc', 'is_self']\n",
        "columns = ['subreddit', 'title', 'selftext', 'created_utc']\n",
        "for line in f:\n",
        "    curr = json.loads(line)\n",
        "    # print(curr)\n",
        "    if 'subreddit' not in curr:\n",
        "        if \"subreddit_id\" in curr and curr[\"subreddit_id\"] == 't5_2s3qj':\n",
        "            curr[\"subreddit\"] = 'bitcoin'\n",
        "        elif \"subreddit_id\" in curr and curr[\"subreddit_id\"] == 't5_2zf9m':\n",
        "            curr[\"subreddit\"] = 'ethereum'\n",
        "        elif \"subreddit_id\" in curr and curr[\"subreddit_id\"] == 't5_2zcp2':\n",
        "            curr[\"subreddit\"] = 'dogecoin'\n",
        "        elif \"subreddit_id\" in curr and curr[\"subreddit_id\"] == 't5_3jns3':\n",
        "            curr[\"subreddit\"] = 'cardano'\n",
        "        elif \"subreddit_id\" in curr and curr[\"subreddit_id\"] == 't5_2ruj5':\n",
        "            curr[\"subreddit\"] = 'XRP'\n",
        "        elif \"subreddit_id\" in curr and curr[\"subreddit_id\"] == 't5_hcs2n':\n",
        "            curr[\"subreddit\"] = 'solana'\n",
        "\n",
        "        else:\n",
        "            continue\n",
        "    #if curr['link_flair_text'] is not None and curr['selftext'] not in ['[deleted]', '[removed]', ''] and curr['subreddit'] in selected_subreddits:\n",
        "    if curr['subreddit'] in selected_subreddits:\n",
        "      dict_you_want = {your_key: curr[your_key] for your_key in columns}\n",
        "      obs.append(dict_you_want)\n",
        "            \n",
        "df = pd.DataFrame(obs)\n",
        "df.to_csv(file_path + \".csv\")"
      ],
      "metadata": {
        "id": "YRkPJ4rTuxa9"
      },
      "execution_count": 42,
      "outputs": []
    },
    {
      "cell_type": "code",
      "source": [
        "df.head(20)"
      ],
      "metadata": {
        "colab": {
          "base_uri": "https://localhost:8080/",
          "height": 677
        },
        "id": "z6nyziSPu-NF",
        "outputId": "94cfaed8-e416-41bd-dad3-7628f00d08e5"
      },
      "execution_count": 39,
      "outputs": [
        {
          "output_type": "execute_result",
          "data": {
            "text/plain": [
              "   subreddit                                              title  \\\n",
              "0   ethereum  The DAO Is Almost Totally Apathetic: It Should...   \n",
              "1   ethereum  GOLDMAN SACHS: 5 practical uses for blockchain...   \n",
              "2   ethereum  Microsoft to develop an open source platform a...   \n",
              "3   ethereum                          Need help buying ethereum   \n",
              "4   dogecoin  So who approved Dodge to be in an Optimum come...   \n",
              "5   ethereum  Difference between tokens and balances inside ...   \n",
              "6   ethereum  Started reading the \"Blockchain Revolution\" bo...   \n",
              "7   ethereum                Buying coca leaves through Ethereum   \n",
              "8   dogecoin  Ha I just realized I was putting an l at the e...   \n",
              "9   ethereum  cant find alethone in the ethereum webthree um...   \n",
              "10  ethereum     Need help with my Wallet, balance becomes zero   \n",
              "11  ethereum  First SmartMeter with official German calibrat...   \n",
              "12  ethereum            My Contribution to the Ethereum Project   \n",
              "13  ethereum                Beginners GPU Ethereum mining guide   \n",
              "14  ethereum  A prenup on the Ethereum blockchain! While not...   \n",
              "15  ethereum           Encrypted Private Keys For Cold Storage?   \n",
              "16  ethereum                         Mist appears to be frozen.   \n",
              "17  ethereum                        [OpenLedger] Some questions   \n",
              "18  ethereum  BACKFEED on Twitter: \"Decentralized #Law on th...   \n",
              "19  ethereum    Decentralized Law on the Ethereum State-Machine   \n",
              "\n",
              "                                             selftext  created_utc  \n",
              "0                                                       1464739795  \n",
              "1                                                       1464744052  \n",
              "2                                                       1464745936  \n",
              "3                                           [removed]   1464748845  \n",
              "4                                                       1464749216  \n",
              "5   So I bought some DAO tokens, and set up both c...   1464752690  \n",
              "6   First I wanted to state that this is not an en...   1464753826  \n",
              "7                                                       1464755277  \n",
              "8               [Oy.](http://i.imgur.com/GqKZ1eH.jpg)   1464758412  \n",
              "9                                           [deleted]   1464761853  \n",
              "10  It's been awhile since I last open Mist, now I...   1464764525  \n",
              "11                                                      1464764972  \n",
              "12                                                      1464766938  \n",
              "13                                                      1464767286  \n",
              "14                                                      1464769814  \n",
              "15  Hi,\\n\\nI'm looking at getting one of those met...   1464770459  \n",
              "16  It's never taken this long to sync. I don't kn...   1464773216  \n",
              "17  Posting this here because larger audience, ple...   1464774852  \n",
              "18                                          [deleted]   1464779190  \n",
              "19                                          [deleted]   1464779933  "
            ],
            "text/html": [
              "\n",
              "  <div id=\"df-f50f9202-6a92-4f47-a823-3a867e1d9554\">\n",
              "    <div class=\"colab-df-container\">\n",
              "      <div>\n",
              "<style scoped>\n",
              "    .dataframe tbody tr th:only-of-type {\n",
              "        vertical-align: middle;\n",
              "    }\n",
              "\n",
              "    .dataframe tbody tr th {\n",
              "        vertical-align: top;\n",
              "    }\n",
              "\n",
              "    .dataframe thead th {\n",
              "        text-align: right;\n",
              "    }\n",
              "</style>\n",
              "<table border=\"1\" class=\"dataframe\">\n",
              "  <thead>\n",
              "    <tr style=\"text-align: right;\">\n",
              "      <th></th>\n",
              "      <th>subreddit</th>\n",
              "      <th>title</th>\n",
              "      <th>selftext</th>\n",
              "      <th>created_utc</th>\n",
              "    </tr>\n",
              "  </thead>\n",
              "  <tbody>\n",
              "    <tr>\n",
              "      <th>0</th>\n",
              "      <td>ethereum</td>\n",
              "      <td>The DAO Is Almost Totally Apathetic: It Should...</td>\n",
              "      <td></td>\n",
              "      <td>1464739795</td>\n",
              "    </tr>\n",
              "    <tr>\n",
              "      <th>1</th>\n",
              "      <td>ethereum</td>\n",
              "      <td>GOLDMAN SACHS: 5 practical uses for blockchain...</td>\n",
              "      <td></td>\n",
              "      <td>1464744052</td>\n",
              "    </tr>\n",
              "    <tr>\n",
              "      <th>2</th>\n",
              "      <td>ethereum</td>\n",
              "      <td>Microsoft to develop an open source platform a...</td>\n",
              "      <td></td>\n",
              "      <td>1464745936</td>\n",
              "    </tr>\n",
              "    <tr>\n",
              "      <th>3</th>\n",
              "      <td>ethereum</td>\n",
              "      <td>Need help buying ethereum</td>\n",
              "      <td>[removed]</td>\n",
              "      <td>1464748845</td>\n",
              "    </tr>\n",
              "    <tr>\n",
              "      <th>4</th>\n",
              "      <td>dogecoin</td>\n",
              "      <td>So who approved Dodge to be in an Optimum come...</td>\n",
              "      <td></td>\n",
              "      <td>1464749216</td>\n",
              "    </tr>\n",
              "    <tr>\n",
              "      <th>5</th>\n",
              "      <td>ethereum</td>\n",
              "      <td>Difference between tokens and balances inside ...</td>\n",
              "      <td>So I bought some DAO tokens, and set up both c...</td>\n",
              "      <td>1464752690</td>\n",
              "    </tr>\n",
              "    <tr>\n",
              "      <th>6</th>\n",
              "      <td>ethereum</td>\n",
              "      <td>Started reading the \"Blockchain Revolution\" bo...</td>\n",
              "      <td>First I wanted to state that this is not an en...</td>\n",
              "      <td>1464753826</td>\n",
              "    </tr>\n",
              "    <tr>\n",
              "      <th>7</th>\n",
              "      <td>ethereum</td>\n",
              "      <td>Buying coca leaves through Ethereum</td>\n",
              "      <td></td>\n",
              "      <td>1464755277</td>\n",
              "    </tr>\n",
              "    <tr>\n",
              "      <th>8</th>\n",
              "      <td>dogecoin</td>\n",
              "      <td>Ha I just realized I was putting an l at the e...</td>\n",
              "      <td>[Oy.](http://i.imgur.com/GqKZ1eH.jpg)</td>\n",
              "      <td>1464758412</td>\n",
              "    </tr>\n",
              "    <tr>\n",
              "      <th>9</th>\n",
              "      <td>ethereum</td>\n",
              "      <td>cant find alethone in the ethereum webthree um...</td>\n",
              "      <td>[deleted]</td>\n",
              "      <td>1464761853</td>\n",
              "    </tr>\n",
              "    <tr>\n",
              "      <th>10</th>\n",
              "      <td>ethereum</td>\n",
              "      <td>Need help with my Wallet, balance becomes zero</td>\n",
              "      <td>It's been awhile since I last open Mist, now I...</td>\n",
              "      <td>1464764525</td>\n",
              "    </tr>\n",
              "    <tr>\n",
              "      <th>11</th>\n",
              "      <td>ethereum</td>\n",
              "      <td>First SmartMeter with official German calibrat...</td>\n",
              "      <td></td>\n",
              "      <td>1464764972</td>\n",
              "    </tr>\n",
              "    <tr>\n",
              "      <th>12</th>\n",
              "      <td>ethereum</td>\n",
              "      <td>My Contribution to the Ethereum Project</td>\n",
              "      <td></td>\n",
              "      <td>1464766938</td>\n",
              "    </tr>\n",
              "    <tr>\n",
              "      <th>13</th>\n",
              "      <td>ethereum</td>\n",
              "      <td>Beginners GPU Ethereum mining guide</td>\n",
              "      <td></td>\n",
              "      <td>1464767286</td>\n",
              "    </tr>\n",
              "    <tr>\n",
              "      <th>14</th>\n",
              "      <td>ethereum</td>\n",
              "      <td>A prenup on the Ethereum blockchain! While not...</td>\n",
              "      <td></td>\n",
              "      <td>1464769814</td>\n",
              "    </tr>\n",
              "    <tr>\n",
              "      <th>15</th>\n",
              "      <td>ethereum</td>\n",
              "      <td>Encrypted Private Keys For Cold Storage?</td>\n",
              "      <td>Hi,\\n\\nI'm looking at getting one of those met...</td>\n",
              "      <td>1464770459</td>\n",
              "    </tr>\n",
              "    <tr>\n",
              "      <th>16</th>\n",
              "      <td>ethereum</td>\n",
              "      <td>Mist appears to be frozen.</td>\n",
              "      <td>It's never taken this long to sync. I don't kn...</td>\n",
              "      <td>1464773216</td>\n",
              "    </tr>\n",
              "    <tr>\n",
              "      <th>17</th>\n",
              "      <td>ethereum</td>\n",
              "      <td>[OpenLedger] Some questions</td>\n",
              "      <td>Posting this here because larger audience, ple...</td>\n",
              "      <td>1464774852</td>\n",
              "    </tr>\n",
              "    <tr>\n",
              "      <th>18</th>\n",
              "      <td>ethereum</td>\n",
              "      <td>BACKFEED on Twitter: \"Decentralized #Law on th...</td>\n",
              "      <td>[deleted]</td>\n",
              "      <td>1464779190</td>\n",
              "    </tr>\n",
              "    <tr>\n",
              "      <th>19</th>\n",
              "      <td>ethereum</td>\n",
              "      <td>Decentralized Law on the Ethereum State-Machine</td>\n",
              "      <td>[deleted]</td>\n",
              "      <td>1464779933</td>\n",
              "    </tr>\n",
              "  </tbody>\n",
              "</table>\n",
              "</div>\n",
              "      <button class=\"colab-df-convert\" onclick=\"convertToInteractive('df-f50f9202-6a92-4f47-a823-3a867e1d9554')\"\n",
              "              title=\"Convert this dataframe to an interactive table.\"\n",
              "              style=\"display:none;\">\n",
              "        \n",
              "  <svg xmlns=\"http://www.w3.org/2000/svg\" height=\"24px\"viewBox=\"0 0 24 24\"\n",
              "       width=\"24px\">\n",
              "    <path d=\"M0 0h24v24H0V0z\" fill=\"none\"/>\n",
              "    <path d=\"M18.56 5.44l.94 2.06.94-2.06 2.06-.94-2.06-.94-.94-2.06-.94 2.06-2.06.94zm-11 1L8.5 8.5l.94-2.06 2.06-.94-2.06-.94L8.5 2.5l-.94 2.06-2.06.94zm10 10l.94 2.06.94-2.06 2.06-.94-2.06-.94-.94-2.06-.94 2.06-2.06.94z\"/><path d=\"M17.41 7.96l-1.37-1.37c-.4-.4-.92-.59-1.43-.59-.52 0-1.04.2-1.43.59L10.3 9.45l-7.72 7.72c-.78.78-.78 2.05 0 2.83L4 21.41c.39.39.9.59 1.41.59.51 0 1.02-.2 1.41-.59l7.78-7.78 2.81-2.81c.8-.78.8-2.07 0-2.86zM5.41 20L4 18.59l7.72-7.72 1.47 1.35L5.41 20z\"/>\n",
              "  </svg>\n",
              "      </button>\n",
              "      \n",
              "  <style>\n",
              "    .colab-df-container {\n",
              "      display:flex;\n",
              "      flex-wrap:wrap;\n",
              "      gap: 12px;\n",
              "    }\n",
              "\n",
              "    .colab-df-convert {\n",
              "      background-color: #E8F0FE;\n",
              "      border: none;\n",
              "      border-radius: 50%;\n",
              "      cursor: pointer;\n",
              "      display: none;\n",
              "      fill: #1967D2;\n",
              "      height: 32px;\n",
              "      padding: 0 0 0 0;\n",
              "      width: 32px;\n",
              "    }\n",
              "\n",
              "    .colab-df-convert:hover {\n",
              "      background-color: #E2EBFA;\n",
              "      box-shadow: 0px 1px 2px rgba(60, 64, 67, 0.3), 0px 1px 3px 1px rgba(60, 64, 67, 0.15);\n",
              "      fill: #174EA6;\n",
              "    }\n",
              "\n",
              "    [theme=dark] .colab-df-convert {\n",
              "      background-color: #3B4455;\n",
              "      fill: #D2E3FC;\n",
              "    }\n",
              "\n",
              "    [theme=dark] .colab-df-convert:hover {\n",
              "      background-color: #434B5C;\n",
              "      box-shadow: 0px 1px 3px 1px rgba(0, 0, 0, 0.15);\n",
              "      filter: drop-shadow(0px 1px 2px rgba(0, 0, 0, 0.3));\n",
              "      fill: #FFFFFF;\n",
              "    }\n",
              "  </style>\n",
              "\n",
              "      <script>\n",
              "        const buttonEl =\n",
              "          document.querySelector('#df-f50f9202-6a92-4f47-a823-3a867e1d9554 button.colab-df-convert');\n",
              "        buttonEl.style.display =\n",
              "          google.colab.kernel.accessAllowed ? 'block' : 'none';\n",
              "\n",
              "        async function convertToInteractive(key) {\n",
              "          const element = document.querySelector('#df-f50f9202-6a92-4f47-a823-3a867e1d9554');\n",
              "          const dataTable =\n",
              "            await google.colab.kernel.invokeFunction('convertToInteractive',\n",
              "                                                     [key], {});\n",
              "          if (!dataTable) return;\n",
              "\n",
              "          const docLinkHtml = 'Like what you see? Visit the ' +\n",
              "            '<a target=\"_blank\" href=https://colab.research.google.com/notebooks/data_table.ipynb>data table notebook</a>'\n",
              "            + ' to learn more about interactive tables.';\n",
              "          element.innerHTML = '';\n",
              "          dataTable['output_type'] = 'display_data';\n",
              "          await google.colab.output.renderOutput(dataTable, element);\n",
              "          const docLink = document.createElement('div');\n",
              "          docLink.innerHTML = docLinkHtml;\n",
              "          element.appendChild(docLink);\n",
              "        }\n",
              "      </script>\n",
              "    </div>\n",
              "  </div>\n",
              "  "
            ]
          },
          "metadata": {},
          "execution_count": 39
        }
      ]
    },
    {
      "cell_type": "code",
      "source": [
        "import numpy as np"
      ],
      "metadata": {
        "id": "iKZ7CVYGwiAK"
      },
      "execution_count": 24,
      "outputs": []
    },
    {
      "cell_type": "code",
      "source": [
        "np.unique(df[\"subreddit\"])"
      ],
      "metadata": {
        "colab": {
          "base_uri": "https://localhost:8080/"
        },
        "id": "CkKaOtFMwjkK",
        "outputId": "0beca6b2-012b-4933-8c2f-94795df7a492"
      },
      "execution_count": 43,
      "outputs": [
        {
          "output_type": "execute_result",
          "data": {
            "text/plain": [
              "array(['dogecoin', 'ethereum'], dtype=object)"
            ]
          },
          "metadata": {},
          "execution_count": 43
        }
      ]
    },
    {
      "cell_type": "code",
      "source": [
        "!ls -lh"
      ],
      "metadata": {
        "colab": {
          "base_uri": "https://localhost:8080/"
        },
        "id": "5NFocUPJw8ku",
        "outputId": "74194103-698f-4b4b-a3fa-f9bab2fa2c13"
      },
      "execution_count": 44,
      "outputs": [
        {
          "output_type": "stream",
          "name": "stdout",
          "text": [
            "total 14G\n",
            "-rw-r--r-- 1 root root  11M Sep  9  2021 RS_2006-01\n",
            "-rw-r--r-- 1 root root 597K Oct 16 17:18 RS_2006-01.csv\n",
            "-rw-r--r-- 1 root root 643K Sep  9  2021 RS_2006-01.zst\n",
            "-rw-r--r-- 1 root root  12G Sep  9  2021 RS_2016-06\n",
            "-rw-r--r-- 1 root root 1.8M Oct 16 17:59 RS_2016-06.csv\n",
            "-rw-r--r-- 1 root root 1.9G Sep  9  2021 RS_2016-06.zst\n",
            "drwxr-xr-x 1 root root 4.0K Oct  7 13:35 sample_data\n"
          ]
        }
      ]
    },
    {
      "cell_type": "code",
      "source": [
        "!rm $file_path"
      ],
      "metadata": {
        "id": "38jjyP438-oD"
      },
      "execution_count": 46,
      "outputs": []
    },
    {
      "cell_type": "markdown",
      "source": [
        "The estimated data volume concerning cryptocurrencies should be ~ 0.001- 0.0002 of all subreddits.\n",
        "\n",
        "All subreddits volume: ~ 5 TB\n",
        "\n",
        "All cryptocurrency-related volume: ~ 500 MB"
      ],
      "metadata": {
        "id": "9CK2QinI9zsD"
      }
    }
  ]
}