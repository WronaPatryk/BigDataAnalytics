{
 "cells": [
  {
   "cell_type": "code",
   "execution_count": 1,
   "id": "22c29598",
   "metadata": {},
   "outputs": [],
   "source": [
    "from conf import REDDIT_API_CONFIG as api_config\n",
    "from conf import REDDIT_USER_CONFIG as user_config"
   ]
  },
  {
   "cell_type": "markdown",
   "id": "b9b0960c",
   "metadata": {},
   "source": [
    "# OAuth Requests\n",
    "\n",
    "source: [How-to Use The Reddit API in Python](https://www.youtube.com/watch?v=FdjVoOf9HN4)"
   ]
  },
  {
   "cell_type": "code",
   "execution_count": 2,
   "id": "71128420",
   "metadata": {},
   "outputs": [],
   "source": [
    "import requests"
   ]
  },
  {
   "cell_type": "code",
   "execution_count": 3,
   "id": "aa5a4ce2",
   "metadata": {},
   "outputs": [],
   "source": [
    "auth = requests.auth.HTTPBasicAuth(api_config[\"CLIENT_ID\"], api_config[\"SECRET_KEY\"])"
   ]
  },
  {
   "cell_type": "code",
   "execution_count": 4,
   "id": "874f1261",
   "metadata": {},
   "outputs": [],
   "source": [
    "headers = {\n",
    "    'User-Agent': 'BDA_API/0.0.2'\n",
    "}"
   ]
  },
  {
   "cell_type": "code",
   "execution_count": 5,
   "id": "91fa432e",
   "metadata": {},
   "outputs": [],
   "source": [
    "req = requests.post('https://www.reddit.com/api/v1/access_token',\n",
    "                    auth=auth, \n",
    "                    data=user_config, \n",
    "                    headers=headers)"
   ]
  },
  {
   "cell_type": "code",
   "execution_count": 6,
   "id": "fb616024",
   "metadata": {},
   "outputs": [
    {
     "data": {
      "text/plain": [
       "{'access_token': '2378206320929-EypR31HObyMpMx1EP6oEkqO1M0P-8w',\n",
       " 'token_type': 'bearer',\n",
       " 'expires_in': 86400,\n",
       " 'scope': '*'}"
      ]
     },
     "execution_count": 6,
     "metadata": {},
     "output_type": "execute_result"
    }
   ],
   "source": [
    "req.json()"
   ]
  },
  {
   "cell_type": "code",
   "execution_count": 7,
   "id": "5ff8f10a",
   "metadata": {},
   "outputs": [],
   "source": [
    "TOKEN = req.json()['access_token']"
   ]
  },
  {
   "cell_type": "code",
   "execution_count": 8,
   "id": "ba463488",
   "metadata": {},
   "outputs": [],
   "source": [
    "headers[\"Authorization\"] = f'bearer {TOKEN}'"
   ]
  },
  {
   "cell_type": "markdown",
   "id": "647eb613",
   "metadata": {},
   "source": [
    "### \"Hot\" Posts"
   ]
  },
  {
   "cell_type": "code",
   "execution_count": 18,
   "id": "563211b0",
   "metadata": {},
   "outputs": [],
   "source": [
    "subreddit = \"bitcoin\"\n",
    "listing = \"hot\"\n",
    "timeframe = \"hour\""
   ]
  },
  {
   "cell_type": "code",
   "execution_count": 19,
   "id": "1918b7e8",
   "metadata": {},
   "outputs": [
    {
     "data": {
      "text/plain": [
       "<Response [200]>"
      ]
     },
     "execution_count": 19,
     "metadata": {},
     "output_type": "execute_result"
    }
   ],
   "source": [
    "req = requests.get(f\"https://oauth.reddit.com/r/{subreddit}/{listing}.json?t={timeframe}\", headers=headers)\n",
    "req"
   ]
  },
  {
   "cell_type": "code",
   "execution_count": 20,
   "id": "dead73c0",
   "metadata": {
    "scrolled": true
   },
   "outputs": [],
   "source": [
    "# req.json()"
   ]
  },
  {
   "cell_type": "code",
   "execution_count": 21,
   "id": "07f2c2ec",
   "metadata": {
    "scrolled": true
   },
   "outputs": [
    {
     "name": "stdout",
     "output_type": "stream",
     "text": [
      "Daily Discussion, November 21, 2022\n",
      "Mentor Monday, November 21, 2022: Ask all your bitcoin questions!\n",
      "Why are humans so naive?\n",
      "Tucker on Monetary Printing Presses\n",
      "Too soon?? New Bitcoin piece features a live ticker. @danielallencohen\n",
      "These signs advocating for Bitcoin vs CBDCs are up in multiple locations\n",
      "Three BTC cycles, same story with my friends: they ape in on ATH, I tell them it's not the time &amp; I will say when. They are like ”thx, can't wait”, but when I call them on dips they chicken out. What's the matter with people?\n",
      "It should be obvious by now, Bitcoin, not blockchain. Bitcoin, not crypto. Bitcoin, not DeFi. Bitcoin, not Web3. Bitcoin, not CBDCs. Bitcoin, not centralized neo-banks that sell you fractional-reserve paper bitcoin.\n",
      "Few understand...\n",
      "The plan is to hold bitcoin forever, right?\n",
      "Bitcoin Survived Mt. Gox, FTX is \"nothing\"\n",
      "The absolute scarcity of bitcoin combined with the fractional reserve games played by major banks, exchanges, and 'stablecoins', means every person on this planet is unintentionally short bitcoin.\n",
      "Jason Lowery to advise the White House Executive Office of the President on the national strategic security benefits of Bitcoin.\n",
      "This is probably how the Coinbase current PR campaign would look like if it was made by real Bitcoiners.\n",
      "JPM want get out? Usually they always wrong..\n",
      "Anyone who bought a house during the housing crisis is now better off. Anyone who buys Bitcoin during the Exchange crisis will be better off\n",
      "The self-custody war is already won.\n",
      "Layer2Labs is building no-KYC Lightning-native DCA which allows you to buy or sell bitcoin directly on your Lightning node\n",
      "Done Setting Up My Bitcoin Core to Help Validate Transactions and Support the Bitcoin Network!\n",
      "Ask not how the state will regulate Bitcoin. Ask how Bitcoin will regulate the state.\n",
      "Warning Coinsquare (Canadian Exchange)!!!!\n",
      "Bitcoin Fixes This\n",
      "btc and mental health\n",
      "Today Elizabeth Warren, Dick Durbin, and Tina Smith wrote a letter pleading that Fidelity Investments stops their plan to offer bitcoin as a 401k option\n",
      "Wholecoiner brag post\n",
      "Well laid out comparison\n",
      "For all you 2018 veterans, time to HODL the line again! BTFD Mode on!\n"
     ]
    }
   ],
   "source": [
    "for post in req.json()['data']['children']:\n",
    "    print(post['data']['title'])"
   ]
  },
  {
   "cell_type": "code",
   "execution_count": 22,
   "id": "d98a5b47",
   "metadata": {},
   "outputs": [],
   "source": [
    "import pandas as pd"
   ]
  },
  {
   "cell_type": "code",
   "execution_count": 23,
   "id": "10547b6c",
   "metadata": {},
   "outputs": [],
   "source": [
    "df = pd.DataFrame()"
   ]
  },
  {
   "cell_type": "code",
   "execution_count": 24,
   "id": "13c5fa6d",
   "metadata": {},
   "outputs": [],
   "source": [
    "for post in req.json()['data']['children']:\n",
    "    new_post_df = pd.DataFrame([{\n",
    "        'subreddit': post['data']['subreddit'],\n",
    "        'title': post['data']['title'],\n",
    "        'selftext': post['data']['selftext'],\n",
    "        'created_utc': post['data']['created_utc']\n",
    "    }])\n",
    "    df = pd.concat([df, new_post_df], ignore_index=True)"
   ]
  },
  {
   "cell_type": "code",
   "execution_count": 25,
   "id": "7423edb3",
   "metadata": {
    "scrolled": true
   },
   "outputs": [
    {
     "data": {
      "text/html": [
       "<div>\n",
       "<style scoped>\n",
       "    .dataframe tbody tr th:only-of-type {\n",
       "        vertical-align: middle;\n",
       "    }\n",
       "\n",
       "    .dataframe tbody tr th {\n",
       "        vertical-align: top;\n",
       "    }\n",
       "\n",
       "    .dataframe thead th {\n",
       "        text-align: right;\n",
       "    }\n",
       "</style>\n",
       "<table border=\"1\" class=\"dataframe\">\n",
       "  <thead>\n",
       "    <tr style=\"text-align: right;\">\n",
       "      <th></th>\n",
       "      <th>subreddit</th>\n",
       "      <th>title</th>\n",
       "      <th>selftext</th>\n",
       "      <th>created_utc</th>\n",
       "    </tr>\n",
       "  </thead>\n",
       "  <tbody>\n",
       "    <tr>\n",
       "      <th>0</th>\n",
       "      <td>Bitcoin</td>\n",
       "      <td>Daily Discussion, November 21, 2022</td>\n",
       "      <td>Please utilize this sticky thread for all gene...</td>\n",
       "      <td>1.669007e+09</td>\n",
       "    </tr>\n",
       "    <tr>\n",
       "      <th>1</th>\n",
       "      <td>Bitcoin</td>\n",
       "      <td>Mentor Monday, November 21, 2022: Ask all your...</td>\n",
       "      <td>Ask (and answer!) away! Here are the general r...</td>\n",
       "      <td>1.669011e+09</td>\n",
       "    </tr>\n",
       "    <tr>\n",
       "      <th>2</th>\n",
       "      <td>Bitcoin</td>\n",
       "      <td>Why are humans so naive?</td>\n",
       "      <td></td>\n",
       "      <td>1.669027e+09</td>\n",
       "    </tr>\n",
       "    <tr>\n",
       "      <th>3</th>\n",
       "      <td>Bitcoin</td>\n",
       "      <td>Tucker on Monetary Printing Presses</td>\n",
       "      <td></td>\n",
       "      <td>1.669047e+09</td>\n",
       "    </tr>\n",
       "    <tr>\n",
       "      <th>4</th>\n",
       "      <td>Bitcoin</td>\n",
       "      <td>Too soon?? New Bitcoin piece features a live t...</td>\n",
       "      <td></td>\n",
       "      <td>1.669010e+09</td>\n",
       "    </tr>\n",
       "  </tbody>\n",
       "</table>\n",
       "</div>"
      ],
      "text/plain": [
       "  subreddit                                              title  \\\n",
       "0   Bitcoin                Daily Discussion, November 21, 2022   \n",
       "1   Bitcoin  Mentor Monday, November 21, 2022: Ask all your...   \n",
       "2   Bitcoin                           Why are humans so naive?   \n",
       "3   Bitcoin                Tucker on Monetary Printing Presses   \n",
       "4   Bitcoin  Too soon?? New Bitcoin piece features a live t...   \n",
       "\n",
       "                                            selftext   created_utc  \n",
       "0  Please utilize this sticky thread for all gene...  1.669007e+09  \n",
       "1  Ask (and answer!) away! Here are the general r...  1.669011e+09  \n",
       "2                                                     1.669027e+09  \n",
       "3                                                     1.669047e+09  \n",
       "4                                                     1.669010e+09  "
      ]
     },
     "execution_count": 25,
     "metadata": {},
     "output_type": "execute_result"
    }
   ],
   "source": [
    "df.head()"
   ]
  },
  {
   "cell_type": "markdown",
   "id": "5bb97836",
   "metadata": {},
   "source": [
    "### Streaming New Posts"
   ]
  },
  {
   "cell_type": "code",
   "execution_count": 26,
   "id": "209eecf0",
   "metadata": {},
   "outputs": [],
   "source": [
    "listing = \"new\""
   ]
  },
  {
   "cell_type": "code",
   "execution_count": 27,
   "id": "b0716d63",
   "metadata": {},
   "outputs": [
    {
     "data": {
      "text/plain": [
       "<Response [200]>"
      ]
     },
     "execution_count": 27,
     "metadata": {},
     "output_type": "execute_result"
    }
   ],
   "source": [
    "req = requests.get(f\"https://oauth.reddit.com/r/{subreddit}/{listing}\", headers=headers, params={\"limit\": \"100\"})\n",
    "req"
   ]
  },
  {
   "cell_type": "code",
   "execution_count": 28,
   "id": "26190f0b",
   "metadata": {},
   "outputs": [],
   "source": [
    "df = pd.DataFrame()\n",
    "for post in req.json()['data']['children']:\n",
    "    new_post_df = pd.DataFrame([{\n",
    "        'post_id': f\"{post['kind']}_{post['data']['id']}\",\n",
    "        'subreddit': post['data']['subreddit'],\n",
    "        'title': post['data']['title'],\n",
    "        'selftext': post['data']['selftext'],\n",
    "        'created_utc': post['data']['created_utc']\n",
    "    }])\n",
    "    df = pd.concat([df, new_post_df], ignore_index=True)"
   ]
  },
  {
   "cell_type": "code",
   "execution_count": 29,
   "id": "6c5f9277",
   "metadata": {},
   "outputs": [
    {
     "data": {
      "text/plain": [
       "'t3_z05nyd'"
      ]
     },
     "execution_count": 29,
     "metadata": {},
     "output_type": "execute_result"
    }
   ],
   "source": [
    "# post ID\n",
    "post = req.json()['data']['children'][-1]\n",
    "post_id = f\"{post['kind']}_{post['data']['id']}\"\n",
    "post_id"
   ]
  },
  {
   "cell_type": "markdown",
   "id": "01a34669",
   "metadata": {},
   "source": [
    "### Looping back in time"
   ]
  },
  {
   "cell_type": "code",
   "execution_count": 30,
   "id": "112eea58",
   "metadata": {},
   "outputs": [
    {
     "data": {
      "text/plain": [
       "<Response [200]>"
      ]
     },
     "execution_count": 30,
     "metadata": {},
     "output_type": "execute_result"
    }
   ],
   "source": [
    "req = requests.get(f\"https://oauth.reddit.com/r/{subreddit}/{listing}\", \n",
    "                   headers=headers, \n",
    "                   params={\"limit\": \"100\", \"after\": post_id})\n",
    "req"
   ]
  },
  {
   "cell_type": "code",
   "execution_count": 31,
   "id": "d328a6c3",
   "metadata": {},
   "outputs": [],
   "source": [
    "for post in req.json()['data']['children']:\n",
    "    new_post_df = pd.DataFrame([{\n",
    "        'post_id': f\"{post['kind']}_{post['data']['id']}\",\n",
    "        'subreddit': post['data']['subreddit'],\n",
    "        'title': post['data']['title'],\n",
    "        'selftext': post['data']['selftext'],\n",
    "        'created_utc': post['data']['created_utc']\n",
    "    }])\n",
    "    df = pd.concat([df, new_post_df], ignore_index=True)"
   ]
  },
  {
   "cell_type": "code",
   "execution_count": 32,
   "id": "a8fc466c",
   "metadata": {},
   "outputs": [
    {
     "data": {
      "text/html": [
       "<div>\n",
       "<style scoped>\n",
       "    .dataframe tbody tr th:only-of-type {\n",
       "        vertical-align: middle;\n",
       "    }\n",
       "\n",
       "    .dataframe tbody tr th {\n",
       "        vertical-align: top;\n",
       "    }\n",
       "\n",
       "    .dataframe thead th {\n",
       "        text-align: right;\n",
       "    }\n",
       "</style>\n",
       "<table border=\"1\" class=\"dataframe\">\n",
       "  <thead>\n",
       "    <tr style=\"text-align: right;\">\n",
       "      <th></th>\n",
       "      <th>post_id</th>\n",
       "      <th>subreddit</th>\n",
       "      <th>title</th>\n",
       "      <th>selftext</th>\n",
       "      <th>created_utc</th>\n",
       "    </tr>\n",
       "  </thead>\n",
       "  <tbody>\n",
       "    <tr>\n",
       "      <th>0</th>\n",
       "      <td>t3_z19upj</td>\n",
       "      <td>Bitcoin</td>\n",
       "      <td>Today Elizabeth Warren, Dick Durbin, and Tina ...</td>\n",
       "      <td></td>\n",
       "      <td>1.669064e+09</td>\n",
       "    </tr>\n",
       "    <tr>\n",
       "      <th>1</th>\n",
       "      <td>t3_z19rkc</td>\n",
       "      <td>Bitcoin</td>\n",
       "      <td>Wholecoiner brag post</td>\n",
       "      <td>I know these kinds of posts are lame, but I di...</td>\n",
       "      <td>1.669064e+09</td>\n",
       "    </tr>\n",
       "    <tr>\n",
       "      <th>2</th>\n",
       "      <td>t3_z19l2a</td>\n",
       "      <td>Bitcoin</td>\n",
       "      <td>Ask not how the state will regulate Bitcoin. A...</td>\n",
       "      <td></td>\n",
       "      <td>1.669063e+09</td>\n",
       "    </tr>\n",
       "    <tr>\n",
       "      <th>3</th>\n",
       "      <td>t3_z19hkd</td>\n",
       "      <td>Bitcoin</td>\n",
       "      <td>This is showing red for the last couple of day...</td>\n",
       "      <td>&amp;amp;#x200B;\\n\\nhttps://preview.redd.it/kttb64...</td>\n",
       "      <td>1.669063e+09</td>\n",
       "    </tr>\n",
       "    <tr>\n",
       "      <th>4</th>\n",
       "      <td>t3_z18v31</td>\n",
       "      <td>Bitcoin</td>\n",
       "      <td>Please address my perceived weaknesses of Bitcoin</td>\n",
       "      <td>First of all, I believe in the future of Bitco...</td>\n",
       "      <td>1.669061e+09</td>\n",
       "    </tr>\n",
       "    <tr>\n",
       "      <th>...</th>\n",
       "      <td>...</td>\n",
       "      <td>...</td>\n",
       "      <td>...</td>\n",
       "      <td>...</td>\n",
       "      <td>...</td>\n",
       "    </tr>\n",
       "    <tr>\n",
       "      <th>195</th>\n",
       "      <td>t3_yz43au</td>\n",
       "      <td>Bitcoin</td>\n",
       "      <td>Daily Discussion, November 19, 2022</td>\n",
       "      <td>Please utilize this sticky thread for all gene...</td>\n",
       "      <td>1.668834e+09</td>\n",
       "    </tr>\n",
       "    <tr>\n",
       "      <th>196</th>\n",
       "      <td>t3_yz3lrm</td>\n",
       "      <td>Bitcoin</td>\n",
       "      <td>General public attitude and awareness</td>\n",
       "      <td>I've been following along and reading for a wh...</td>\n",
       "      <td>1.668833e+09</td>\n",
       "    </tr>\n",
       "    <tr>\n",
       "      <th>197</th>\n",
       "      <td>t3_yz3lh1</td>\n",
       "      <td>Bitcoin</td>\n",
       "      <td>Grayscale refuses to show proof of reserves be...</td>\n",
       "      <td></td>\n",
       "      <td>1.668833e+09</td>\n",
       "    </tr>\n",
       "    <tr>\n",
       "      <th>198</th>\n",
       "      <td>t3_yz329t</td>\n",
       "      <td>Bitcoin</td>\n",
       "      <td>Never trust...</td>\n",
       "      <td>Never trust a guy called \"Bank Fried\" it fores...</td>\n",
       "      <td>1.668831e+09</td>\n",
       "    </tr>\n",
       "    <tr>\n",
       "      <th>199</th>\n",
       "      <td>t3_yz23au</td>\n",
       "      <td>Bitcoin</td>\n",
       "      <td>Best non KYC exchanges to buy btc on?</td>\n",
       "      <td>Reside in US, looking for some non KYC exchang...</td>\n",
       "      <td>1.668827e+09</td>\n",
       "    </tr>\n",
       "  </tbody>\n",
       "</table>\n",
       "<p>200 rows × 5 columns</p>\n",
       "</div>"
      ],
      "text/plain": [
       "       post_id subreddit                                              title  \\\n",
       "0    t3_z19upj   Bitcoin  Today Elizabeth Warren, Dick Durbin, and Tina ...   \n",
       "1    t3_z19rkc   Bitcoin                              Wholecoiner brag post   \n",
       "2    t3_z19l2a   Bitcoin  Ask not how the state will regulate Bitcoin. A...   \n",
       "3    t3_z19hkd   Bitcoin  This is showing red for the last couple of day...   \n",
       "4    t3_z18v31   Bitcoin  Please address my perceived weaknesses of Bitcoin   \n",
       "..         ...       ...                                                ...   \n",
       "195  t3_yz43au   Bitcoin                Daily Discussion, November 19, 2022   \n",
       "196  t3_yz3lrm   Bitcoin              General public attitude and awareness   \n",
       "197  t3_yz3lh1   Bitcoin  Grayscale refuses to show proof of reserves be...   \n",
       "198  t3_yz329t   Bitcoin                                     Never trust...   \n",
       "199  t3_yz23au   Bitcoin              Best non KYC exchanges to buy btc on?   \n",
       "\n",
       "                                              selftext   created_utc  \n",
       "0                                                       1.669064e+09  \n",
       "1    I know these kinds of posts are lame, but I di...  1.669064e+09  \n",
       "2                                                       1.669063e+09  \n",
       "3    &amp;#x200B;\\n\\nhttps://preview.redd.it/kttb64...  1.669063e+09  \n",
       "4    First of all, I believe in the future of Bitco...  1.669061e+09  \n",
       "..                                                 ...           ...  \n",
       "195  Please utilize this sticky thread for all gene...  1.668834e+09  \n",
       "196  I've been following along and reading for a wh...  1.668833e+09  \n",
       "197                                                     1.668833e+09  \n",
       "198  Never trust a guy called \"Bank Fried\" it fores...  1.668831e+09  \n",
       "199  Reside in US, looking for some non KYC exchang...  1.668827e+09  \n",
       "\n",
       "[200 rows x 5 columns]"
      ]
     },
     "execution_count": 32,
     "metadata": {},
     "output_type": "execute_result"
    }
   ],
   "source": [
    "df"
   ]
  }
 ],
 "metadata": {
  "kernelspec": {
   "display_name": "Python [conda env:bda] *",
   "language": "python",
   "name": "conda-env-bda-py"
  },
  "language_info": {
   "codemirror_mode": {
    "name": "ipython",
    "version": 3
   },
   "file_extension": ".py",
   "mimetype": "text/x-python",
   "name": "python",
   "nbconvert_exporter": "python",
   "pygments_lexer": "ipython3",
   "version": "3.10.6"
  }
 },
 "nbformat": 4,
 "nbformat_minor": 5
}
