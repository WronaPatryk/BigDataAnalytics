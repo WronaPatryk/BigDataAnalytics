{
 "cells": [
  {
   "cell_type": "code",
   "execution_count": 14,
   "id": "a8385b9b-6cf8-4af6-a397-e038735ebf0f",
   "metadata": {},
   "outputs": [],
   "source": [
    "from google.cloud import bigtable\n",
    "from google.cloud.bigtable import column_family\n",
    "from google.auth.credentials import Credentials\n",
    "from google.oauth2 import service_account"
   ]
  },
  {
   "cell_type": "code",
   "execution_count": 15,
   "id": "16e8897f-9620-436b-905a-4f54da222f7e",
   "metadata": {},
   "outputs": [],
   "source": [
    "import os"
   ]
  },
  {
   "cell_type": "code",
   "execution_count": 16,
   "id": "5a338e61-ddac-4ca4-997a-02c1cc028d93",
   "metadata": {},
   "outputs": [],
   "source": [
    "os.environ[\"GOOGLE_APPLICATION_CREDENTIALS\"] = \"/home/bda_crypto_busters/repos/BigDataAnalytics/2_data_preprocessing/reddit/bigtable_key.json\""
   ]
  },
  {
   "cell_type": "code",
   "execution_count": 17,
   "id": "ef79373c-b87b-4e5c-8b4e-15735655c2c9",
   "metadata": {},
   "outputs": [],
   "source": [
    "credentials = service_account.Credentials.from_service_account_file(\"/home/bda_crypto_busters/repos/BigDataAnalytics/2_data_preprocessing/reddit/bigtable_key.json\")"
   ]
  },
  {
   "cell_type": "code",
   "execution_count": 112,
   "id": "2a70110e-80bc-4118-b349-43d987c702a5",
   "metadata": {},
   "outputs": [],
   "source": [
    "# new try crypto-busting-374123\n",
    "\n",
    "from google.cloud import bigtable\n",
    "from google.cloud import happybase\n",
    "client = bigtable.Client(project=\"crypto-busting-375023\", admin=True, credentials=credentials, read_only=False)\n",
    "instance = client.instance(instance_id=\"bda-bigtable-instance\")\n",
    "connection = happybase.Connection(instance=instance)\n",
    "table = connection.table(\"coinbase-table\")\n",
    "\n",
    "# crypto-busting-375023\n"
   ]
  },
  {
   "cell_type": "code",
   "execution_count": 171,
   "id": "74325aa8",
   "metadata": {},
   "outputs": [],
   "source": [
    "import datetime\n",
    "\n",
    "from google.cloud import bigtable\n",
    "\n",
    "\n",
    "def write_simple(project_id, instance_id, table_id):\n",
    "    client = bigtable.Client(project=project_id, admin=True)\n",
    "    instance = client.instance(instance_id)\n",
    "    table = instance.table(table_id)\n",
    "\n",
    "    timestamp = datetime.datetime.utcnow()\n",
    "    column_family_id = \"coinbase-cf\"\n",
    "\n",
    "    row_key = \"phone#4c410523#20190501\"\n",
    "\n",
    "    row = table.direct_row(row_key)\n",
    "    row.set_cell(column_family_id, \"connected_cell\", 1, timestamp)\n",
    "    row.set_cell(column_family_id, \"connected_wifi\", 1, timestamp)\n",
    "    row.set_cell(column_family_id, \"os_build\", \"PQ2A.190405.003\", timestamp)\n",
    "\n",
    "    row.commit()\n",
    "\n",
    "    print(\"Successfully wrote row {}.\".format(row_key))\n"
   ]
  },
  {
   "cell_type": "code",
   "execution_count": 102,
   "id": "8eded2f8",
   "metadata": {},
   "outputs": [],
   "source": [
    "def read_prefix(project_id, instance_id, table_id):\n",
    "    client = bigtable.Client(project=project_id, admin=True)\n",
    "    instance = client.instance(instance_id)\n",
    "    table = instance.table(table_id)\n",
    "    prefix = \"phone#\"\n",
    "    end_key = prefix[:-1] + chr(ord(prefix[-1]) + 1)\n",
    "\n",
    "    row_set = RowSet()\n",
    "    row_set.add_row_range_from_keys(prefix.encode(\"utf-8\"), end_key.encode(\"utf-8\"))\n",
    "\n",
    "    rows = table.read_rows(row_set=row_set)\n",
    "    for row in rows:\n",
    "        print_row(row)"
   ]
  },
  {
   "cell_type": "code",
   "execution_count": 123,
   "id": "51ce912d",
   "metadata": {},
   "outputs": [],
   "source": [
    "row = table.direct_row(\"connected_cell\")"
   ]
  },
  {
   "cell_type": "code",
   "execution_count": 129,
   "id": "935bcb5f",
   "metadata": {},
   "outputs": [
    {
     "data": {
      "text/plain": []
     },
     "execution_count": 129,
     "metadata": {},
     "output_type": "execute_result"
    }
   ],
   "source": []
  },
  {
   "cell_type": "code",
   "execution_count": 122,
   "id": "ef4af68f",
   "metadata": {},
   "outputs": [
    {
     "name": "stdout",
     "output_type": "stream",
     "text": [
      "<google.cloud.bigtable.row.DirectRow object at 0x7fa2d4faff10>\n"
     ]
    }
   ],
   "source": [
    "print(row)"
   ]
  },
  {
   "cell_type": "code",
   "execution_count": 165,
   "id": "4221cb42",
   "metadata": {},
   "outputs": [],
   "source": [
    "def delete_row_cells(project_id, instance_id, table_id, row_key):\n",
    "    client = bigtable.Client(project=project_id, admin=True)\n",
    "    instance = client.instance(instance_id)\n",
    "    table = instance.table(table_id)\n",
    "    \n",
    "    column_family_id = \"coinbase-cf\"\n",
    " \n",
    "    row = table.direct_row(row_key)\n",
    "    row.delete_cell(column_family_id, \"connected_cell\") # deleting cells\n",
    "    row.delete_cell(column_family_id, \"connected_wifi\") # deleting cells\n",
    "    row.commit()\n",
    "    \n",
    "    print(\"Successfully deleted row {}.\".format(row_key))\n",
    "    \n",
    "def delete_row(project_id, instance_id, table_id, row_key):\n",
    "    client = bigtable.Client(project=project_id, admin=True)\n",
    "    instance = client.instance(instance_id)\n",
    "    table = instance.table(table_id)\n",
    "    \n",
    "    column_family_id = \"coinbase-cf\"\n",
    " \n",
    "    row = table.direct_row(row_key)\n",
    "    row.delete()\n",
    "    row.commit()\n",
    "    \n",
    "    print(\"Successfully deleted row {}.\".format(row_key))"
   ]
  },
  {
   "cell_type": "code",
   "execution_count": 142,
   "id": "3aa72bd3",
   "metadata": {},
   "outputs": [
    {
     "data": {
      "text/plain": [
       "<google.cloud.bigtable.row.DirectRow at 0x7fa2d4f6c250>"
      ]
     },
     "execution_count": 142,
     "metadata": {},
     "output_type": "execute_result"
    }
   ],
   "source": [
    "row"
   ]
  },
  {
   "cell_type": "code",
   "execution_count": null,
   "id": "98267f8b",
   "metadata": {},
   "outputs": [],
   "source": [
    "row.set_cell(\"\")"
   ]
  },
  {
   "cell_type": "code",
   "execution_count": 195,
   "id": "0a527f57",
   "metadata": {},
   "outputs": [
    {
     "name": "stdout",
     "output_type": "stream",
     "text": [
      "Successfully wrote row phone#4c410523#20190501.\n"
     ]
    }
   ],
   "source": [
    "write_simple(\"crypto-busting-375023\", \"bda-bigtable-instance\", \"coinbase-table\")"
   ]
  },
  {
   "cell_type": "code",
   "execution_count": 196,
   "id": "e945a545",
   "metadata": {},
   "outputs": [
    {
     "name": "stdout",
     "output_type": "stream",
     "text": [
      "Reading data for phone#4c410523#20190501:\n",
      "Column Family coinbase-cf\n",
      "\tconnected_cell: \u0000\u0000\u0000\u0000\u0000\u0000\u0000\u0001 @2023-01-22 13:54:28.959000+00:00\n",
      "\tconnected_wifi: \u0000\u0000\u0000\u0000\u0000\u0000\u0000\u0001 @2023-01-22 13:54:28.959000+00:00\n",
      "\tos_build: PQ2A.190405.003 @2023-01-22 13:54:28.959000+00:00\n",
      "\n"
     ]
    }
   ],
   "source": [
    "read_prefix(\"crypto-busting-375023\", \"bda-bigtable-instance\", \"coinbase-table\")"
   ]
  },
  {
   "cell_type": "code",
   "execution_count": 197,
   "id": "01be85e0",
   "metadata": {},
   "outputs": [
    {
     "name": "stdout",
     "output_type": "stream",
     "text": [
      "Successfully deleted row phone#4c410523#20190501.\n"
     ]
    }
   ],
   "source": [
    "delete_row_cells(\"crypto-busting-375023\", \"bda-bigtable-instance\", \"coinbase-table\", \"phone#4c410523#20190501\")"
   ]
  },
  {
   "cell_type": "code",
   "execution_count": 198,
   "id": "b52d48d9",
   "metadata": {},
   "outputs": [
    {
     "name": "stdout",
     "output_type": "stream",
     "text": [
      "Reading data for phone#4c410523#20190501:\n",
      "Column Family coinbase-cf\n",
      "\tos_build: PQ2A.190405.003 @2023-01-22 13:54:28.959000+00:00\n",
      "\n"
     ]
    }
   ],
   "source": [
    "read_prefix(\"crypto-busting-375023\", \"bda-bigtable-instance\", \"coinbase-table\")"
   ]
  },
  {
   "cell_type": "code",
   "execution_count": 177,
   "id": "aee7752a",
   "metadata": {},
   "outputs": [
    {
     "name": "stdout",
     "output_type": "stream",
     "text": [
      "Successfully deleted row phone#4c410523#20190501.\n"
     ]
    }
   ],
   "source": [
    "delete_row(\"crypto-busting-375023\", \"bda-bigtable-instance\", \"coinbase-table\", \"phone#4c410523#20190501\")"
   ]
  },
  {
   "cell_type": "code",
   "execution_count": 178,
   "id": "abe8be87",
   "metadata": {},
   "outputs": [],
   "source": [
    "read_prefix(\"crypto-busting-375023\", \"bda-bigtable-instance\", \"coinbase-table\")"
   ]
  },
  {
   "cell_type": "code",
   "execution_count": null,
   "id": "17c3e99b",
   "metadata": {},
   "outputs": [],
   "source": []
  },
  {
   "cell_type": "code",
   "execution_count": 192,
   "id": "2a06a607-3b4d-4310-8805-f14dbbd7d30a",
   "metadata": {},
   "outputs": [],
   "source": [
    "client = bigtable.Client(project=\"crypto-busting-375023\", admin=True, credentials=credentials, read_only=False)\n",
    "instance = client.instance(instance_id=\"bda-bigtable-instance\")\n",
    "table = instance.table(table_id=\"coinbase-table\")\n",
    "\n"
   ]
  },
  {
   "cell_type": "code",
   "execution_count": 193,
   "id": "0d2d3fc3",
   "metadata": {},
   "outputs": [
    {
     "data": {
      "text/plain": [
       "{'coinbase-cf': <google.cloud.bigtable.column_family.ColumnFamily at 0x7fa2d4e872e0>}"
      ]
     },
     "execution_count": 193,
     "metadata": {},
     "output_type": "execute_result"
    }
   ],
   "source": [
    "table.list_column_families()"
   ]
  },
  {
   "cell_type": "code",
   "execution_count": 180,
   "id": "9cb0b8eb-f2c8-4371-b914-1338157eb6c5",
   "metadata": {},
   "outputs": [],
   "source": [
    "column_family_obj = table.column_family(\"coinbase-cf\")"
   ]
  },
  {
   "cell_type": "code",
   "execution_count": 188,
   "id": "ee9c6ea4-14f8-4bdb-b0fd-92eae84478d5",
   "metadata": {},
   "outputs": [],
   "source": [
    "cf = table.column_family(\"jeeej\")\n"
   ]
  },
  {
   "cell_type": "code",
   "execution_count": 186,
   "id": "a9e62ee7",
   "metadata": {},
   "outputs": [],
   "source": [
    "cf.create()\n"
   ]
  },
  {
   "cell_type": "code",
   "execution_count": 184,
   "id": "6f12fab2",
   "metadata": {},
   "outputs": [
    {
     "data": {
      "text/plain": [
       "{'jeeej': <google.cloud.bigtable.column_family.ColumnFamily at 0x7fa2d4ec0cd0>,\n",
       " 'coinbase-cf': <google.cloud.bigtable.column_family.ColumnFamily at 0x7fa2d4ec0730>}"
      ]
     },
     "execution_count": 184,
     "metadata": {},
     "output_type": "execute_result"
    }
   ],
   "source": [
    "table.list_column_families()\n",
    "# cf.delete()"
   ]
  },
  {
   "cell_type": "code",
   "execution_count": 66,
   "id": "b40c7cd9",
   "metadata": {},
   "outputs": [],
   "source": [
    "row_keys = [b\"row_key_1\", b\"row_key_2\"]\n",
    "row1_obj = table.append_row(row_keys[0])\n",
    "row2_obj = table.append_row(row_keys[1])\n"
   ]
  },
  {
   "cell_type": "code",
   "execution_count": 68,
   "id": "7b6cc2e6",
   "metadata": {},
   "outputs": [
    {
     "data": {
      "text/plain": [
       "{}"
      ]
     },
     "execution_count": 68,
     "metadata": {},
     "output_type": "execute_result"
    }
   ],
   "source": [
    "bigtable.row.AppendRow(row_keys[0], table).commit()"
   ]
  },
  {
   "cell_type": "code",
   "execution_count": 19,
   "id": "7780efca",
   "metadata": {},
   "outputs": [
    {
     "data": {
      "text/plain": [
       "{}"
      ]
     },
     "execution_count": 19,
     "metadata": {},
     "output_type": "execute_result"
    }
   ],
   "source": [
    "row1_obj.commit()"
   ]
  },
  {
   "cell_type": "code",
   "execution_count": 156,
   "id": "eee1afb2-3d1a-4e79-9df4-09dc27324a2c",
   "metadata": {},
   "outputs": [
    {
     "data": {
      "text/plain": [
       "{'coinbase-cf': <google.cloud.bigtable.column_family.ColumnFamily at 0x7fa2d4e492e0>}"
      ]
     },
     "execution_count": 156,
     "metadata": {},
     "output_type": "execute_result"
    }
   ],
   "source": [
    "table.list_column_families()"
   ]
  }
 ],
 "metadata": {
  "kernelspec": {
   "display_name": "Python 3",
   "language": "python",
   "name": "python3"
  },
  "language_info": {
   "codemirror_mode": {
    "name": "ipython",
    "version": 3
   },
   "file_extension": ".py",
   "mimetype": "text/x-python",
   "name": "python",
   "nbconvert_exporter": "python",
   "pygments_lexer": "ipython3",
   "version": "3.8.15"
  }
 },
 "nbformat": 4,
 "nbformat_minor": 5
}
