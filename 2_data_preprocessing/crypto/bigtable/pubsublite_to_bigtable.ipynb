{
 "cells": [
  {
   "cell_type": "code",
   "execution_count": 29,
   "id": "c31308e2-e454-43d6-b3c8-14cf9c41ff35",
   "metadata": {},
   "outputs": [],
   "source": [
    "from concurrent.futures._base import TimeoutError\n",
    "from google.pubsub_v1 import PubsubMessage\n",
    "from google.cloud.pubsublite.cloudpubsub import SubscriberClient\n",
    "from google.cloud.pubsublite.types import (\n",
    "    CloudRegion,\n",
    "    CloudZone,\n",
    "    FlowControlSettings,\n",
    "    MessageMetadata,\n",
    "    SubscriptionPath,\n",
    ")\n",
    "import ast"
   ]
  },
  {
   "cell_type": "code",
   "execution_count": 59,
   "id": "b8c99f99-9997-44e1-9339-e7707a69f570",
   "metadata": {},
   "outputs": [],
   "source": [
    "project_number = 1072423212419\n",
    "cloud_region = \"europe-central2\"\n",
    "zone_id = \"a\"\n",
    "subscription_id = \"spark-coinbase-lite-sub\"\n",
    "timeout = 90\n",
    "regional = True"
   ]
  },
  {
   "cell_type": "code",
   "execution_count": 60,
   "id": "3218f503-39a5-46a8-867f-48c67ca20572",
   "metadata": {},
   "outputs": [],
   "source": [
    "if regional:\n",
    "    location = CloudRegion(cloud_region)\n",
    "else:\n",
    "    location = CloudZone(CloudRegion(cloud_region), zone_id)"
   ]
  },
  {
   "cell_type": "code",
   "execution_count": 61,
   "id": "c550ad76-3ac3-4dfe-95dd-643191c6ce38",
   "metadata": {},
   "outputs": [],
   "source": [
    "subscription_path = SubscriptionPath(project_number, location, subscription_id)"
   ]
  },
  {
   "cell_type": "code",
   "execution_count": 62,
   "id": "6113c388-0b2a-43c5-b6a7-b3b2fd6968ed",
   "metadata": {},
   "outputs": [],
   "source": [
    "per_partition_flow_control_settings = FlowControlSettings(\n",
    "    # 1,000 outstanding messages. Must be >0.\n",
    "    messages_outstanding = 1000,\n",
    "    # 10 MiB. Must be greater than the allowed size of the largest message (1 MiB).\n",
    "    bytes_outstanding = 10 * 1024 * 1024,\n",
    ")"
   ]
  },
  {
   "cell_type": "code",
   "execution_count": 63,
   "id": "9cc862a8-6f65-4c29-8107-f390964dffa2",
   "metadata": {},
   "outputs": [],
   "source": [
    "messages = []\n",
    "timestamps = []"
   ]
  },
  {
   "cell_type": "code",
   "execution_count": 64,
   "id": "b8d0cd68-6a5f-4422-97b1-62f3e25991bb",
   "metadata": {},
   "outputs": [],
   "source": [
    "def callback(message: PubsubMessage):\n",
    "    message_data = message.data.decode(\"utf-8\")\n",
    "    ordering_key = message.ordering_key\n",
    "    metadata = MessageMetadata.decode(message.message_id)\n",
    "    print(\n",
    "        f\"Received {message_data} of ordering key {ordering_key} with id {metadata}.\"\n",
    "    )\n",
    "    message.ack()\n",
    "    messages.append(message_data)\n",
    "    timestamps.append(ordering_key)"
   ]
  },
  {
   "cell_type": "code",
   "execution_count": 65,
   "id": "8aa40656-2f89-41ba-8ded-d37ea995b563",
   "metadata": {},
   "outputs": [
    {
     "name": "stdout",
     "output_type": "stream",
     "text": [
      "Listening for messages on projects/1072423212419/locations/europe-central2/subscriptions/spark-coinbase-lite-sub...\n",
      "Received {\"product_id\":\"SOL-USD\",\"price\":24.48} of ordering key 2023-01-28 00:02:31.227526 with id MessageMetadata(partition=Partition(value=0), cursor=offset: 3916\n",
      ").\n",
      "Received {\"product_id\":\"ETH-USD\",\"price\":1598.96} of ordering key 2023-01-28 00:02:31.134715 with id MessageMetadata(partition=Partition(value=0), cursor=offset: 3917\n",
      ").\n",
      "Received {\"product_id\":\"DOGE-USD\",\"price\":0.0874} of ordering key 2023-01-28 00:02:32.050079 with id MessageMetadata(partition=Partition(value=0), cursor=offset: 3918\n",
      ").\n",
      "Received {\"product_id\":\"BTC-USD\",\"price\":23090.61} of ordering key 2023-01-28 00:02:32.255333 with id MessageMetadata(partition=Partition(value=0), cursor=offset: 3919\n",
      ").\n",
      "Received {\"product_id\":\"ADA-USD\",\"price\":0.3944} of ordering key 2023-01-28 00:02:32.937742 with id MessageMetadata(partition=Partition(value=0), cursor=offset: 3920\n",
      ").\n",
      "Received {\"product_id\":\"SOL-USD\",\"price\":24.43} of ordering key 2023-01-28 00:07:32.385047 with id MessageMetadata(partition=Partition(value=0), cursor=offset: 3921\n",
      ").\n",
      "Received {\"product_id\":\"ETH-USD\",\"price\":1598.63} of ordering key 2023-01-28 00:07:27.498972 with id MessageMetadata(partition=Partition(value=0), cursor=offset: 3922\n",
      ").\n",
      "Received {\"product_id\":\"BTC-USD\",\"price\":23083.13} of ordering key 2023-01-28 00:07:32.397823 with id MessageMetadata(partition=Partition(value=0), cursor=offset: 3923\n",
      ").\n",
      "Received {\"product_id\":\"ADA-USD\",\"price\":0.3938} of ordering key 2023-01-28 00:07:28.5509 with id MessageMetadata(partition=Partition(value=0), cursor=offset: 3924\n",
      ").\n",
      "Received {\"product_id\":\"DOGE-USD\",\"price\":0.08762} of ordering key 2023-01-28 00:07:29.931375 with id MessageMetadata(partition=Partition(value=0), cursor=offset: 3925\n",
      ").\n",
      "Received {\"product_id\":\"ETH-USD\",\"price\":1596.78} of ordering key 2023-01-28 00:12:32.366283 with id MessageMetadata(partition=Partition(value=0), cursor=offset: 3926\n",
      ").\n",
      "Received {\"product_id\":\"BTC-USD\",\"price\":23068.59} of ordering key 2023-01-28 00:12:32.59445 with id MessageMetadata(partition=Partition(value=0), cursor=offset: 3927\n",
      ").\n",
      "Received {\"product_id\":\"SOL-USD\",\"price\":24.38} of ordering key 2023-01-28 00:12:32.407586 with id MessageMetadata(partition=Partition(value=0), cursor=offset: 3928\n",
      ").\n",
      "Received {\"product_id\":\"DOGE-USD\",\"price\":0.08741} of ordering key 2023-01-28 00:12:30.989022 with id MessageMetadata(partition=Partition(value=0), cursor=offset: 3929\n",
      ").\n",
      "Received {\"product_id\":\"ADA-USD\",\"price\":0.3925} of ordering key 2023-01-28 00:12:32.980291 with id MessageMetadata(partition=Partition(value=0), cursor=offset: 3930\n",
      ").\n",
      "Received {\"product_id\":\"ETH-USD\",\"price\":1595.37} of ordering key 2023-01-28 00:17:32.275102 with id MessageMetadata(partition=Partition(value=0), cursor=offset: 3931\n",
      ").\n",
      "Received {\"product_id\":\"DOGE-USD\",\"price\":0.08722} of ordering key 2023-01-28 00:17:27.295456 with id MessageMetadata(partition=Partition(value=0), cursor=offset: 3932\n",
      ").\n",
      "Received {\"product_id\":\"BTC-USD\",\"price\":23057.54} of ordering key 2023-01-28 00:17:31.715343 with id MessageMetadata(partition=Partition(value=0), cursor=offset: 3933\n",
      ").\n",
      "Received {\"product_id\":\"SOL-USD\",\"price\":24.36} of ordering key 2023-01-28 00:17:29.297682 with id MessageMetadata(partition=Partition(value=0), cursor=offset: 3934\n",
      ").\n",
      "Received {\"product_id\":\"ADA-USD\",\"price\":0.3927} of ordering key 2023-01-28 00:17:31.014921 with id MessageMetadata(partition=Partition(value=0), cursor=offset: 3935\n",
      ").\n",
      "Received {\"product_id\":\"ETH-USD\",\"price\":1598.41} of ordering key 2023-01-28 00:22:32.413794 with id MessageMetadata(partition=Partition(value=0), cursor=offset: 3936\n",
      ").\n",
      "Received {\"product_id\":\"BTC-USD\",\"price\":23090.52} of ordering key 2023-01-28 00:22:32.601857 with id MessageMetadata(partition=Partition(value=0), cursor=offset: 3937\n",
      ").\n",
      "Received {\"product_id\":\"SOL-USD\",\"price\":24.45} of ordering key 2023-01-28 00:22:32.801753 with id MessageMetadata(partition=Partition(value=0), cursor=offset: 3938\n",
      ").\n",
      "Received {\"product_id\":\"DOGE-USD\",\"price\":0.08792} of ordering key 2023-01-28 00:22:30.905035 with id MessageMetadata(partition=Partition(value=0), cursor=offset: 3939\n",
      ").\n",
      "Received {\"product_id\":\"ADA-USD\",\"price\":0.3931} of ordering key 2023-01-28 00:22:31.820828 with id MessageMetadata(partition=Partition(value=0), cursor=offset: 3940\n",
      ").\n"
     ]
    }
   ],
   "source": [
    "with SubscriberClient() as subscriber_client:\n",
    "\n",
    "    streaming_pull_future = subscriber_client.subscribe(\n",
    "        subscription_path,\n",
    "        callback=callback,\n",
    "        per_partition_flow_control_settings=per_partition_flow_control_settings,\n",
    "    )\n",
    "\n",
    "    print(f\"Listening for messages on {str(subscription_path)}...\")\n",
    "\n",
    "    try:\n",
    "        streaming_pull_future.result(timeout=timeout)\n",
    "    except TimeoutError or KeyboardInterrupt:\n",
    "        streaming_pull_future.cancel()\n",
    "        assert streaming_pull_future.done()"
   ]
  },
  {
   "cell_type": "code",
   "execution_count": 66,
   "id": "44c9efd0-92aa-4bab-a99b-1428e4cd008f",
   "metadata": {},
   "outputs": [
    {
     "data": {
      "text/plain": [
       "25"
      ]
     },
     "execution_count": 66,
     "metadata": {},
     "output_type": "execute_result"
    }
   ],
   "source": [
    "len(messages)"
   ]
  },
  {
   "cell_type": "code",
   "execution_count": 67,
   "id": "0a344e53-5aa2-46dc-b069-b4e36d66aeac",
   "metadata": {},
   "outputs": [
    {
     "data": {
      "text/plain": [
       "'{\"product_id\":\"ETH-USD\",\"price\":1598.96}'"
      ]
     },
     "execution_count": 67,
     "metadata": {},
     "output_type": "execute_result"
    }
   ],
   "source": [
    "messages[0]"
   ]
  },
  {
   "cell_type": "code",
   "execution_count": null,
   "id": "cf8cc760-6218-4f1b-b1dc-8bfb46e8a261",
   "metadata": {},
   "outputs": [],
   "source": []
  },
  {
   "cell_type": "code",
   "execution_count": 68,
   "id": "2db46d19-51c3-456e-966c-948c26f04a40",
   "metadata": {},
   "outputs": [],
   "source": [
    "response = [ast.literal_eval(mes) for mes in messages]"
   ]
  },
  {
   "cell_type": "code",
   "execution_count": 69,
   "id": "8e861257-ee58-4fc8-840e-8074c8fc4a26",
   "metadata": {},
   "outputs": [
    {
     "data": {
      "text/plain": [
       "{'product_id': 'DOGE-USD', 'price': 0.0874}"
      ]
     },
     "execution_count": 69,
     "metadata": {},
     "output_type": "execute_result"
    }
   ],
   "source": [
    "response[2]"
   ]
  },
  {
   "cell_type": "markdown",
   "id": "56774d5b-3930-4cbc-aac3-53a4dbe74e13",
   "metadata": {},
   "source": [
    "## BigTable"
   ]
  },
  {
   "cell_type": "code",
   "execution_count": 70,
   "id": "49609466-25d3-4d47-8aec-b60db6392c13",
   "metadata": {},
   "outputs": [],
   "source": [
    "import datetime"
   ]
  },
  {
   "cell_type": "code",
   "execution_count": 71,
   "id": "4a116139-df47-4394-9530-9d8ab8ca5713",
   "metadata": {},
   "outputs": [],
   "source": [
    "from google.cloud import bigtable\n",
    "from google.cloud.bigtable import column_family\n",
    "from google.auth.credentials import Credentials\n",
    "from google.oauth2 import service_account\n",
    "from google.cloud.bigtable.row_set import RowSet\n",
    "import google.cloud.bigtable.row_filters as row_filters"
   ]
  },
  {
   "cell_type": "code",
   "execution_count": 72,
   "id": "549dcb98-dd2a-452f-8b07-8a8db578f5c0",
   "metadata": {},
   "outputs": [],
   "source": [
    "credentials = service_account.Credentials.from_service_account_file(\"/home/bda_crypto_busters/repos/BigDataAnalytics/2_data_preprocessing/reddit/bigtable_key.json\")"
   ]
  },
  {
   "cell_type": "code",
   "execution_count": 73,
   "id": "890738de-2761-4cdc-a422-9d8265b8d6a5",
   "metadata": {},
   "outputs": [],
   "source": [
    "client = bigtable.Client(project=\"crypto-busting-375023\", admin=True, credentials=credentials, read_only=False)\n",
    "instance = client.instance(instance_id=\"bda-bigtable-instance\")\n",
    "table = instance.table(table_id=\"coinbase-table\")"
   ]
  },
  {
   "cell_type": "code",
   "execution_count": 74,
   "id": "e9493aef-7886-44aa-ab97-d9d8005b2cb5",
   "metadata": {},
   "outputs": [
    {
     "data": {
      "text/plain": [
       "{'coinbase-cf': <google.cloud.bigtable.column_family.ColumnFamily at 0x7fdf7e17c220>,\n",
       " 'coinbase': <google.cloud.bigtable.column_family.ColumnFamily at 0x7fdf7e17cbe0>}"
      ]
     },
     "execution_count": 74,
     "metadata": {},
     "output_type": "execute_result"
    }
   ],
   "source": [
    "table.list_column_families()"
   ]
  },
  {
   "cell_type": "code",
   "execution_count": 75,
   "id": "60b2db4c-5d0b-463a-9202-8b740b00852f",
   "metadata": {},
   "outputs": [],
   "source": [
    "cf = table.column_family(\"coinbase\")\n"
   ]
  },
  {
   "cell_type": "code",
   "execution_count": 76,
   "id": "eccbb3e4-4136-4edd-b633-c94ad43414cf",
   "metadata": {},
   "outputs": [],
   "source": [
    "def print_row(row):\n",
    "    print(\"Reading data for {}:\".format(row.row_key.decode(\"utf-8\")))\n",
    "    for cf, cols in sorted(row.cells.items()):\n",
    "        print(\"Column Family {}\".format(cf))\n",
    "        for col, cells in sorted(cols.items()):\n",
    "            for cell in cells:\n",
    "                labels = (\n",
    "                    \" [{}]\".format(\",\".join(cell.labels)) if len(cell.labels) else \"\"\n",
    "                )\n",
    "                print(\n",
    "                    \"\\t{}: {} @{}{}\".format(\n",
    "                        col.decode(\"utf-8\"),\n",
    "                        cell.value.decode(\"utf-8\"),\n",
    "                        cell.timestamp,\n",
    "                        labels,\n",
    "                    )\n",
    "                )\n",
    "    print(\"\")\n",
    "\n",
    "\n",
    "def write_simple(table, keys, messages):\n",
    "\n",
    "    timestamp = datetime.datetime.utcnow()\n",
    "    column_family_id = \"coinbase\"\n",
    "\n",
    "    for k, mes in zip(keys, messages):\n",
    "        row = table.direct_row(k)\n",
    "        for col in mes:\n",
    "            row.set_cell(column_family_id, col, str(mes[col]), timestamp)\n",
    "\n",
    "        row.commit()\n",
    "        print(\"Successfully wrote row {}.\".format(k))\n",
    "\n",
    "    \n",
    "def read_prefix(table, prefix):\n",
    "    end_key = prefix[:-1] + chr(ord(prefix[-1]) + 1)\n",
    "\n",
    "    row_set = RowSet()\n",
    "    row_set.add_row_range_from_keys(prefix.encode(\"utf-8\"), end_key.encode(\"utf-8\"))\n",
    "\n",
    "    rows = table.read_rows(row_set=row_set)\n",
    "    for row in rows:\n",
    "        print_row(row)"
   ]
  },
  {
   "cell_type": "code",
   "execution_count": 77,
   "id": "ed2fc94c-c18e-45da-8ed2-2ec2ae77c6cf",
   "metadata": {},
   "outputs": [
    {
     "data": {
      "text/plain": [
       "'2023-01-28 00:02:31.134715'"
      ]
     },
     "execution_count": 77,
     "metadata": {},
     "output_type": "execute_result"
    }
   ],
   "source": [
    "timestamps[0]"
   ]
  },
  {
   "cell_type": "code",
   "execution_count": 78,
   "id": "593e199e-d7af-4d46-8813-6ca85cc021ef",
   "metadata": {},
   "outputs": [
    {
     "name": "stdout",
     "output_type": "stream",
     "text": [
      "Successfully wrote row 2023-01-28 00:02:31.134715.\n",
      "Successfully wrote row 2023-01-28 00:02:31.227526.\n",
      "Successfully wrote row 2023-01-28 00:02:32.050079.\n",
      "Successfully wrote row 2023-01-28 00:02:32.255333.\n",
      "Successfully wrote row 2023-01-28 00:02:32.937742.\n",
      "Successfully wrote row 2023-01-28 00:07:32.385047.\n",
      "Successfully wrote row 2023-01-28 00:07:32.397823.\n",
      "Successfully wrote row 2023-01-28 00:07:27.498972.\n",
      "Successfully wrote row 2023-01-28 00:07:28.5509.\n",
      "Successfully wrote row 2023-01-28 00:12:32.366283.\n",
      "Successfully wrote row 2023-01-28 00:12:32.59445.\n",
      "Successfully wrote row 2023-01-28 00:12:32.407586.\n",
      "Successfully wrote row 2023-01-28 00:07:29.931375.\n",
      "Successfully wrote row 2023-01-28 00:12:30.989022.\n",
      "Successfully wrote row 2023-01-28 00:12:32.980291.\n",
      "Successfully wrote row 2023-01-28 00:17:27.295456.\n",
      "Successfully wrote row 2023-01-28 00:17:31.715343.\n",
      "Successfully wrote row 2023-01-28 00:17:32.275102.\n",
      "Successfully wrote row 2023-01-28 00:17:29.297682.\n",
      "Successfully wrote row 2023-01-28 00:17:31.014921.\n",
      "Successfully wrote row 2023-01-28 00:22:32.601857.\n",
      "Successfully wrote row 2023-01-28 00:22:32.801753.\n",
      "Successfully wrote row 2023-01-28 00:22:30.905035.\n",
      "Successfully wrote row 2023-01-28 00:22:31.820828.\n",
      "Successfully wrote row 2023-01-28 00:22:32.413794.\n"
     ]
    }
   ],
   "source": [
    "write_simple(table, timestamps, response)"
   ]
  },
  {
   "cell_type": "code",
   "execution_count": 79,
   "id": "d1e82e09-3208-451d-be7e-2f20ed919a5b",
   "metadata": {},
   "outputs": [
    {
     "name": "stdout",
     "output_type": "stream",
     "text": [
      "Reading data for 2023-01-28 00:02:31.134715:\n",
      "Column Family coinbase\n",
      "\tprice: 1598.96 @2023-01-28 00:26:07.518000+00:00\n",
      "\tproduct_id: ETH-USD @2023-01-28 00:26:07.518000+00:00\n",
      "\n",
      "Reading data for 2023-01-28 00:02:31.227526:\n",
      "Column Family coinbase\n",
      "\tprice: 24.48 @2023-01-28 00:26:07.518000+00:00\n",
      "\tproduct_id: SOL-USD @2023-01-28 00:26:07.518000+00:00\n",
      "\n",
      "Reading data for 2023-01-28 00:02:32.050079:\n",
      "Column Family coinbase\n",
      "\tprice: 0.0874 @2023-01-28 00:26:07.518000+00:00\n",
      "\tproduct_id: DOGE-USD @2023-01-28 00:26:07.518000+00:00\n",
      "\n",
      "Reading data for 2023-01-28 00:02:32.255333:\n",
      "Column Family coinbase\n",
      "\tprice: 23090.61 @2023-01-28 00:26:07.518000+00:00\n",
      "\tproduct_id: BTC-USD @2023-01-28 00:26:07.518000+00:00\n",
      "\n",
      "Reading data for 2023-01-28 00:02:32.937742:\n",
      "Column Family coinbase\n",
      "\tprice: 0.3944 @2023-01-28 00:26:07.518000+00:00\n",
      "\tproduct_id: ADA-USD @2023-01-28 00:26:07.518000+00:00\n",
      "\n",
      "Reading data for 2023-01-28 00:07:27.498972:\n",
      "Column Family coinbase\n",
      "\tprice: 1598.63 @2023-01-28 00:26:07.518000+00:00\n",
      "\tproduct_id: ETH-USD @2023-01-28 00:26:07.518000+00:00\n",
      "\n",
      "Reading data for 2023-01-28 00:07:28.5509:\n",
      "Column Family coinbase\n",
      "\tprice: 0.3938 @2023-01-28 00:26:07.518000+00:00\n",
      "\tproduct_id: ADA-USD @2023-01-28 00:26:07.518000+00:00\n",
      "\n",
      "Reading data for 2023-01-28 00:07:29.931375:\n",
      "Column Family coinbase\n",
      "\tprice: 0.08762 @2023-01-28 00:26:07.518000+00:00\n",
      "\tproduct_id: DOGE-USD @2023-01-28 00:26:07.518000+00:00\n",
      "\n",
      "Reading data for 2023-01-28 00:07:32.385047:\n",
      "Column Family coinbase\n",
      "\tprice: 24.43 @2023-01-28 00:26:07.518000+00:00\n",
      "\tproduct_id: SOL-USD @2023-01-28 00:26:07.518000+00:00\n",
      "\n",
      "Reading data for 2023-01-28 00:07:32.397823:\n",
      "Column Family coinbase\n",
      "\tprice: 23083.13 @2023-01-28 00:26:07.518000+00:00\n",
      "\tproduct_id: BTC-USD @2023-01-28 00:26:07.518000+00:00\n",
      "\n",
      "Reading data for 2023-01-28 00:12:30.989022:\n",
      "Column Family coinbase\n",
      "\tprice: 0.08741 @2023-01-28 00:26:07.518000+00:00\n",
      "\tproduct_id: DOGE-USD @2023-01-28 00:26:07.518000+00:00\n",
      "\n",
      "Reading data for 2023-01-28 00:12:32.366283:\n",
      "Column Family coinbase\n",
      "\tprice: 1596.78 @2023-01-28 00:26:07.518000+00:00\n",
      "\tproduct_id: ETH-USD @2023-01-28 00:26:07.518000+00:00\n",
      "\n",
      "Reading data for 2023-01-28 00:12:32.407586:\n",
      "Column Family coinbase\n",
      "\tprice: 24.38 @2023-01-28 00:26:07.518000+00:00\n",
      "\tproduct_id: SOL-USD @2023-01-28 00:26:07.518000+00:00\n",
      "\n",
      "Reading data for 2023-01-28 00:12:32.59445:\n",
      "Column Family coinbase\n",
      "\tprice: 23068.59 @2023-01-28 00:26:07.518000+00:00\n",
      "\tproduct_id: BTC-USD @2023-01-28 00:26:07.518000+00:00\n",
      "\n",
      "Reading data for 2023-01-28 00:12:32.980291:\n",
      "Column Family coinbase\n",
      "\tprice: 0.3925 @2023-01-28 00:26:07.518000+00:00\n",
      "\tproduct_id: ADA-USD @2023-01-28 00:26:07.518000+00:00\n",
      "\n",
      "Reading data for 2023-01-28 00:17:27.295456:\n",
      "Column Family coinbase\n",
      "\tprice: 0.08722 @2023-01-28 00:26:07.518000+00:00\n",
      "\tproduct_id: DOGE-USD @2023-01-28 00:26:07.518000+00:00\n",
      "\n",
      "Reading data for 2023-01-28 00:17:29.297682:\n",
      "Column Family coinbase\n",
      "\tprice: 24.36 @2023-01-28 00:26:07.518000+00:00\n",
      "\tproduct_id: SOL-USD @2023-01-28 00:26:07.518000+00:00\n",
      "\n",
      "Reading data for 2023-01-28 00:17:31.014921:\n",
      "Column Family coinbase\n",
      "\tprice: 0.3927 @2023-01-28 00:26:07.518000+00:00\n",
      "\tproduct_id: ADA-USD @2023-01-28 00:26:07.518000+00:00\n",
      "\n",
      "Reading data for 2023-01-28 00:17:31.715343:\n",
      "Column Family coinbase\n",
      "\tprice: 23057.54 @2023-01-28 00:26:07.518000+00:00\n",
      "\tproduct_id: BTC-USD @2023-01-28 00:26:07.518000+00:00\n",
      "\n",
      "Reading data for 2023-01-28 00:17:32.275102:\n",
      "Column Family coinbase\n",
      "\tprice: 1595.37 @2023-01-28 00:26:07.518000+00:00\n",
      "\tproduct_id: ETH-USD @2023-01-28 00:26:07.518000+00:00\n",
      "\n",
      "Reading data for 2023-01-28 00:22:30.905035:\n",
      "Column Family coinbase\n",
      "\tprice: 0.08792 @2023-01-28 00:26:07.518000+00:00\n",
      "\tproduct_id: DOGE-USD @2023-01-28 00:26:07.518000+00:00\n",
      "\n",
      "Reading data for 2023-01-28 00:22:31.820828:\n",
      "Column Family coinbase\n",
      "\tprice: 0.3931 @2023-01-28 00:26:07.518000+00:00\n",
      "\tproduct_id: ADA-USD @2023-01-28 00:26:07.518000+00:00\n",
      "\n",
      "Reading data for 2023-01-28 00:22:32.413794:\n",
      "Column Family coinbase\n",
      "\tprice: 1598.41 @2023-01-28 00:26:07.518000+00:00\n",
      "\tproduct_id: ETH-USD @2023-01-28 00:26:07.518000+00:00\n",
      "\n",
      "Reading data for 2023-01-28 00:22:32.601857:\n",
      "Column Family coinbase\n",
      "\tprice: 23090.52 @2023-01-28 00:26:07.518000+00:00\n",
      "\tproduct_id: BTC-USD @2023-01-28 00:26:07.518000+00:00\n",
      "\n",
      "Reading data for 2023-01-28 00:22:32.801753:\n",
      "Column Family coinbase\n",
      "\tprice: 24.45 @2023-01-28 00:26:07.518000+00:00\n",
      "\tproduct_id: SOL-USD @2023-01-28 00:26:07.518000+00:00\n",
      "\n"
     ]
    }
   ],
   "source": [
    "read_prefix(table, \"2023-01-28\")"
   ]
  }
 ],
 "metadata": {
  "kernelspec": {
   "display_name": "Python 3",
   "language": "python",
   "name": "python3"
  },
  "language_info": {
   "codemirror_mode": {
    "name": "ipython",
    "version": 3
   },
   "file_extension": ".py",
   "mimetype": "text/x-python",
   "name": "python",
   "nbconvert_exporter": "python",
   "pygments_lexer": "ipython3",
   "version": "3.8.15"
  }
 },
 "nbformat": 4,
 "nbformat_minor": 5
}
