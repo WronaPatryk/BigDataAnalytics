{
 "cells": [
  {
   "cell_type": "code",
   "execution_count": 9,
   "id": "7d97c4cf-87d0-41b7-b64e-b7f0c10fc6a8",
   "metadata": {},
   "outputs": [],
   "source": [
    "from concurrent.futures import TimeoutError\n",
    "from google.cloud import pubsub_v1\n",
    "from google.cloud.pubsublite.cloudpubsub import PublisherClient\n",
    "from google.cloud.pubsublite.types import (\n",
    "    CloudRegion,\n",
    "    CloudZone,\n",
    "    MessageMetadata,\n",
    "    TopicPath,\n",
    ")\n",
    "\n",
    "from pyspark.sql import SparkSession\n",
    "from pyspark.sql.types import StringType\n",
    "from pyspark.sql.functions import col"
   ]
  },
  {
   "cell_type": "code",
   "execution_count": 10,
   "id": "cb813dab-ecbe-40d7-b189-62306c7e0442",
   "metadata": {},
   "outputs": [],
   "source": [
    "import time\n",
    "import json, os, shutil"
   ]
  },
  {
   "cell_type": "code",
   "execution_count": 11,
   "id": "334f87a5-a9ec-4352-b139-c6fd40cc47a4",
   "metadata": {},
   "outputs": [],
   "source": [
    "import ast"
   ]
  },
  {
   "cell_type": "code",
   "execution_count": 12,
   "id": "5b264190-945c-4ea2-9d95-17fa50bcc618",
   "metadata": {},
   "outputs": [],
   "source": [
    "project_number = 1072423212419\n",
    "project_id = \"crypto-busting-375023\"\n",
    "location = \"europe-central2\"\n",
    "subscription_id = \"bda-coinbase-topic-sub\"\n",
    "topic_id = \"bda-coinbase-topic\"\n",
    "timeout = 5.0\n",
    "\n",
    "message_dir = \"/home/bda_crypto_busters/messages\"\n",
    "spark_dir = f\"/Local Disk/{message_dir}\""
   ]
  },
  {
   "cell_type": "code",
   "execution_count": 13,
   "id": "1a14c74f-cfa8-40cb-8ad8-8e54f1f128e0",
   "metadata": {},
   "outputs": [],
   "source": [
    "messages = []"
   ]
  },
  {
   "cell_type": "code",
   "execution_count": 14,
   "id": "18d38a10-851c-4654-b60b-7bcfa4825f16",
   "metadata": {},
   "outputs": [],
   "source": [
    "def callback(message: pubsub_v1.subscriber.message.Message) -> None:\n",
    "    print(f\"Received {message}.\")\n",
    "    message.ack()\n",
    "    messages.append(message.data)"
   ]
  },
  {
   "cell_type": "code",
   "execution_count": 15,
   "id": "28dcada9-46c6-4e15-94fa-996a9f785ace",
   "metadata": {},
   "outputs": [],
   "source": [
    "subscriber = pubsub_v1.SubscriberClient()\n",
    "subscription_path = subscriber.subscription_path(project_id, subscription_id)"
   ]
  },
  {
   "cell_type": "code",
   "execution_count": 16,
   "id": "41e96c55-32df-4464-bf1b-c3c92e97d357",
   "metadata": {},
   "outputs": [
    {
     "name": "stdout",
     "output_type": "stream",
     "text": [
      "Listening for messages on projects/crypto-busting-375023/subscriptions/bda-coinbase-topic-sub..\n",
      "\n",
      "Received Message {\n",
      "  data: b'{\"side\":\"\",\"price\":\"0.08734\",\"product_id\":\"DOGE-US...'\n",
      "  ordering_key: ''\n",
      "  attributes: {}\n",
      "}.\n",
      "Received Message {\n",
      "  data: b'{\"side\":\"\",\"price\":\"23201.38\",\"product_id\":\"BTC-US...'\n",
      "  ordering_key: ''\n",
      "  attributes: {}\n",
      "}.\n",
      "Received Message {\n",
      "  data: b'{\"side\":\"\",\"price\":\"0.3761\",\"product_id\":\"ADA-USD\"...'\n",
      "  ordering_key: ''\n",
      "  attributes: {}\n",
      "}.\n",
      "Received Message {\n",
      "  data: b'{\"side\":\"\",\"price\":\"25.54\",\"product_id\":\"SOL-USD\",...'\n",
      "  ordering_key: ''\n",
      "  attributes: {}\n",
      "}.\n",
      "Received Message {\n",
      "  data: b'{\"side\":\"\",\"price\":\"1657.31\",\"product_id\":\"ETH-USD...'\n",
      "  ordering_key: ''\n",
      "  attributes: {}\n",
      "}.\n"
     ]
    }
   ],
   "source": [
    "streaming_pull_future = subscriber.subscribe(subscription_path, callback=callback)\n",
    "print(f\"Listening for messages on {subscription_path}..\\n\")\n",
    "\n",
    "with subscriber:\n",
    "    try:\n",
    "        # When `timeout` is not set, result() will block indefinitely,\n",
    "        # unless an exception is encountered first.\n",
    "        streaming_pull_future.result(timeout=timeout)\n",
    "    except TimeoutError:\n",
    "        streaming_pull_future.cancel()  # Trigger the shutdown.\n",
    "        streaming_pull_future.result()  # Block until the shutdown is complete."
   ]
  },
  {
   "cell_type": "code",
   "execution_count": 17,
   "id": "0088c8e9-c3b4-4eb9-94a0-99dbf2514db4",
   "metadata": {
    "tags": []
   },
   "outputs": [],
   "source": [
    "decoded_messages = [ast.literal_eval(message.decode(\"UTF-8\")) for message in messages]\n",
    "all_messages = os.listdir(message_dir)\n",
    "\n",
    "with open(os.path.join(message_dir, f\"{len(all_messages)}.json\"), \"w\") as outfile:\n",
    "    json.dump(decoded_messages, outfile)\n",
    "    \n",
    "    "
   ]
  },
  {
   "cell_type": "code",
   "execution_count": 18,
   "id": "8535a325-a107-4bd2-9c17-b202d50d6ceb",
   "metadata": {},
   "outputs": [
    {
     "data": {
      "text/plain": [
       "1"
      ]
     },
     "execution_count": 18,
     "metadata": {},
     "output_type": "execute_result"
    }
   ],
   "source": [
    "len(os.listdir(message_dir))"
   ]
  },
  {
   "cell_type": "code",
   "execution_count": 19,
   "id": "4120ea9c-6595-4194-a37c-493d891ce19e",
   "metadata": {},
   "outputs": [
    {
     "name": "stdout",
     "output_type": "stream",
     "text": [
      "{'side': '', 'price': '0.08734', 'product_id': 'DOGE-USD', 'time': '2023-01-21T16:56:32.936989Z'}\n"
     ]
    }
   ],
   "source": [
    "print(decoded_messages[0])"
   ]
  },
  {
   "cell_type": "code",
   "execution_count": 20,
   "id": "2217bdac-2454-4a81-95ee-22f67ab1683f",
   "metadata": {},
   "outputs": [],
   "source": [
    "from pyspark.sql.types import *"
   ]
  },
  {
   "cell_type": "code",
   "execution_count": 21,
   "id": "d8dcd59b-f604-474e-a4d9-a9b7b67c09bc",
   "metadata": {},
   "outputs": [],
   "source": [
    "spark = SparkSession.builder.appName(\"Read Pub/Sub Stream to JSON\").master(\"yarn\").getOrCreate()"
   ]
  },
  {
   "cell_type": "code",
   "execution_count": 31,
   "id": "c37e5f51-a774-4b03-b056-152ed69b443d",
   "metadata": {},
   "outputs": [],
   "source": [
    "JSONschema = StructType([ \n",
    "    StructField(\"side\", StringType(), True), \n",
    "    StructField(\"price\", FloatType(), False), \n",
    "    StructField(\"product_id\", StringType(), False),\n",
    "    StructField(\"time\", StringType(), False), \n",
    "])"
   ]
  },
  {
   "cell_type": "code",
   "execution_count": 32,
   "id": "0dc0ca2a-6d47-47ad-a92e-2b626db02da4",
   "metadata": {},
   "outputs": [],
   "source": [
    "sdf = (\n",
    "    spark.readStream\n",
    "    .schema(JSONschema)\n",
    "    .format(\"json\")\n",
    "    .load(os.path.join(spark_dir, \"*.json\"))\n",
    ")"
   ]
  },
  {
   "cell_type": "code",
   "execution_count": 33,
   "id": "c8a26b07-f328-41fc-8db1-48c7c4b96d14",
   "metadata": {},
   "outputs": [
    {
     "name": "stdout",
     "output_type": "stream",
     "text": [
      "True\n"
     ]
    }
   ],
   "source": [
    "print(sdf.isStreaming)"
   ]
  },
  {
   "cell_type": "code",
   "execution_count": 34,
   "id": "7d6f1c86-621f-4d63-86e9-139a2937a33b",
   "metadata": {},
   "outputs": [
    {
     "name": "stdout",
     "output_type": "stream",
     "text": [
      "root\n",
      " |-- side: string (nullable = true)\n",
      " |-- price: float (nullable = true)\n",
      " |-- product_id: string (nullable = true)\n",
      " |-- time: string (nullable = true)\n",
      "\n"
     ]
    }
   ],
   "source": [
    "sdf.printSchema()"
   ]
  },
  {
   "cell_type": "code",
   "execution_count": 35,
   "id": "5047a0a7-c1bd-44b6-a0db-95f409d36e60",
   "metadata": {},
   "outputs": [
    {
     "name": "stderr",
     "output_type": "stream",
     "text": [
      "23/01/21 17:04:27 WARN org.apache.spark.sql.streaming.StreamingQueryManager: Temporary checkpoint location created which is deleted normally when the query didn't fail: /tmp/temporary-b237ec97-573a-4ef4-9e39-e3f51532df7a. If it's required to delete it under any circumstances, please set spark.sql.streaming.forceDeleteTempCheckpointLocation to true. Important to know deleting temp checkpoint folder is best effort.\n",
      "23/01/21 17:04:27 WARN org.apache.spark.sql.streaming.StreamingQueryManager: spark.sql.adaptive.enabled is not supported in streaming DataFrames/Datasets and will be disabled.\n"
     ]
    }
   ],
   "source": [
    "query = (\n",
    "    sdf.writeStream.format(\"console\")\n",
    "    .outputMode(\"append\")\n",
    "    .trigger(processingTime=\"1 second\")\n",
    "    .start()\n",
    ")"
   ]
  },
  {
   "cell_type": "code",
   "execution_count": 26,
   "id": "5a05446e-7280-4479-a2bf-7c284483093d",
   "metadata": {},
   "outputs": [],
   "source": [
    "df = sdf.groupBy(\"product_id\").count()"
   ]
  },
  {
   "cell_type": "code",
   "execution_count": 27,
   "id": "68f75afd-cb04-4d91-bb94-be8d9514c9bf",
   "metadata": {},
   "outputs": [
    {
     "name": "stderr",
     "output_type": "stream",
     "text": [
      "23/01/21 17:03:23 WARN org.apache.spark.sql.streaming.StreamingQueryManager: Temporary checkpoint location created which is deleted normally when the query didn't fail: /tmp/temporary-0cfcc57b-c04d-407c-a676-15435d93b87a. If it's required to delete it under any circumstances, please set spark.sql.streaming.forceDeleteTempCheckpointLocation to true. Important to know deleting temp checkpoint folder is best effort.\n",
      "23/01/21 17:03:23 WARN org.apache.spark.sql.streaming.StreamingQueryManager: spark.sql.adaptive.enabled is not supported in streaming DataFrames/Datasets and will be disabled.\n"
     ]
    },
    {
     "data": {
      "text/plain": [
       "<pyspark.sql.streaming.StreamingQuery at 0x7f664d022820>"
      ]
     },
     "execution_count": 27,
     "metadata": {},
     "output_type": "execute_result"
    }
   ],
   "source": [
    "(\n",
    "    df.writeStream\n",
    "    .format(\"memory\")\n",
    "    .outputMode(\"complete\")\n",
    "    .queryName(\"products_count\")\n",
    "    .start()\n",
    ")"
   ]
  },
  {
   "cell_type": "code",
   "execution_count": 28,
   "id": "415c5153-2690-4c14-9812-d4320a40b8d5",
   "metadata": {},
   "outputs": [
    {
     "name": "stdout",
     "output_type": "stream",
     "text": [
      "+----------+-----+\n",
      "|product_id|count|\n",
      "+----------+-----+\n",
      "+----------+-----+\n",
      "\n"
     ]
    }
   ],
   "source": [
    "spark.sql(\"select * from products_count\").show()"
   ]
  }
 ],
 "metadata": {
  "kernelspec": {
   "display_name": "PySpark",
   "language": "python",
   "name": "pyspark"
  },
  "language_info": {
   "codemirror_mode": {
    "name": "ipython",
    "version": 3
   },
   "file_extension": ".py",
   "mimetype": "text/x-python",
   "name": "python",
   "nbconvert_exporter": "python",
   "pygments_lexer": "ipython3",
   "version": "3.8.15"
  }
 },
 "nbformat": 4,
 "nbformat_minor": 5
}
