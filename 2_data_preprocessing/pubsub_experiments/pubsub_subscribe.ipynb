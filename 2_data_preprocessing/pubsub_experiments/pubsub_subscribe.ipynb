{
 "cells": [
  {
   "cell_type": "code",
   "execution_count": 1,
   "id": "e46ca6bd-4fad-4e33-a20c-12f8c2effeca",
   "metadata": {},
   "outputs": [],
   "source": [
    "from pyspark.sql import SparkSession\n",
    "from pyspark.sql.types import StringType"
   ]
  },
  {
   "cell_type": "code",
   "execution_count": 2,
   "id": "b2794e04-ac78-4152-8b1b-f92c49258dbc",
   "metadata": {},
   "outputs": [],
   "source": [
    "project_number = 294601891609\n",
    "project_id = \"crypto-busting-374123\"\n",
    "location = \"europe-central2\"\n",
    "subscription_id = \"bda-coinbase-topic-sub\"\n",
    "topic_id = \"bda-coinbase-topic\"\n",
    "timeout = 5.0"
   ]
  },
  {
   "cell_type": "code",
   "execution_count": 3,
   "id": "15374164-5e51-4132-8813-37157abc444b",
   "metadata": {},
   "outputs": [],
   "source": [
    "# spark = SparkSession.builder.appName(\"Read Pub/Sub Stream\").master(\"yarn\").getOrCreate()"
   ]
  },
  {
   "cell_type": "code",
   "execution_count": 4,
   "id": "b6fe388f-bf4a-4470-8497-979fd606abe1",
   "metadata": {},
   "outputs": [
    {
     "name": "stderr",
     "output_type": "stream",
     "text": [
      "ivysettings.xml file not found in HIVE_HOME or HIVE_CONF_DIR,/etc/hive/conf.dist/ivysettings.xml will be used\n",
      "23/01/14 01:18:13 WARN org.apache.hadoop.hive.ql.session.SessionState: METASTORE_FILTER_HOOK will be ignored, since hive.security.authorization.manager is set to instance of HiveAuthorizerFactory.\n"
     ]
    },
    {
     "data": {
      "text/plain": [
       "DataFrame[result: int]"
      ]
     },
     "execution_count": 4,
     "metadata": {},
     "output_type": "execute_result"
    }
   ],
   "source": [
    "# spark.sql('add jar file:////home/bda_reddit/dependancies/spark-streaming-pubsub_2.11.jar')"
   ]
  },
  {
   "cell_type": "code",
   "execution_count": 5,
   "id": "f9ef5dad-5a5f-4412-8490-fd18e766f98a",
   "metadata": {},
   "outputs": [],
   "source": [
    "# sdf = (\n",
    "#     spark.readStream.format(\"pubsub\")\n",
    "#     .option(\n",
    "#         \"pubsub.subscription\",\n",
    "#         f\"projects/{project_number}/locations/{location}/subscriptions/{subscription_id}\",\n",
    "#     )\n",
    "#     .load()\n",
    "# )"
   ]
  },
  {
   "cell_type": "code",
   "execution_count": 4,
   "id": "7e9eeb6a-29ea-40e8-ac84-ccc98dcf65f8",
   "metadata": {},
   "outputs": [],
   "source": [
    "from concurrent.futures import TimeoutError\n",
    "from google.cloud import pubsub_v1"
   ]
  },
  {
   "cell_type": "code",
   "execution_count": 5,
   "id": "2e119067-4237-42f8-b68d-181b4ad67b49",
   "metadata": {},
   "outputs": [],
   "source": [
    "subscriber = pubsub_v1.SubscriberClient()"
   ]
  },
  {
   "cell_type": "code",
   "execution_count": 6,
   "id": "97fddd97-3509-4cb4-803c-9bfbd175afbc",
   "metadata": {},
   "outputs": [],
   "source": [
    "subscription_path = subscriber.subscription_path(project_id, subscription_id)"
   ]
  },
  {
   "cell_type": "code",
   "execution_count": 7,
   "id": "05f94783-a7e8-4858-bb04-1a6953f5cdd5",
   "metadata": {},
   "outputs": [],
   "source": [
    "messages = []"
   ]
  },
  {
   "cell_type": "code",
   "execution_count": 8,
   "id": "8f6a2d8c-be1a-4a68-85ef-7c636ad4cefa",
   "metadata": {},
   "outputs": [],
   "source": [
    "def callback(message: pubsub_v1.subscriber.message.Message) -> None:\n",
    "    print(f\"Received {message}.\")\n",
    "    message.ack()\n",
    "    messages.append(message.data)"
   ]
  },
  {
   "cell_type": "code",
   "execution_count": 9,
   "id": "0d5976b8-8ab2-4755-82f3-a6478936a190",
   "metadata": {},
   "outputs": [
    {
     "name": "stdout",
     "output_type": "stream",
     "text": [
      "Listening for messages on projects/crypto-busting-374123/subscriptions/bda-coinbase-topic-sub..\n",
      "\n"
     ]
    }
   ],
   "source": [
    "streaming_pull_future = subscriber.subscribe(subscription_path, callback=callback)\n",
    "print(f\"Listening for messages on {subscription_path}..\\n\")"
   ]
  },
  {
   "cell_type": "code",
   "execution_count": null,
   "id": "607e43d1-8a57-4787-9143-b11149acd4ee",
   "metadata": {},
   "outputs": [],
   "source": [
    "with subscriber:\n",
    "    try:\n",
    "        # When `timeout` is not set, result() will block indefinitely,\n",
    "        # unless an exception is encountered first.\n",
    "        streaming_pull_future.result(timeout=timeout)\n",
    "    except TimeoutError:\n",
    "        streaming_pull_future.cancel()  # Trigger the shutdown.\n",
    "        streaming_pull_future.result()  # Block until the shutdown is complete."
   ]
  },
  {
   "cell_type": "code",
   "execution_count": 13,
   "id": "0bc69134-bc22-42ef-9f66-1bc2502aff7d",
   "metadata": {},
   "outputs": [],
   "source": [
    "import ast"
   ]
  },
  {
   "cell_type": "code",
   "execution_count": 12,
   "id": "8c31d21d-ea21-4716-b8b4-8a3084d3cbea",
   "metadata": {},
   "outputs": [],
   "source": [
    "for mes in messages:\n",
    "    mes.decode('UTF-8')"
   ]
  },
  {
   "cell_type": "code",
   "execution_count": 15,
   "id": "32918313-1aad-4d56-b7fb-5a6185bb4ed5",
   "metadata": {},
   "outputs": [],
   "source": [
    "response = [ast.literal_eval(mes.decode(\"UTF-8\")) for mes in messages]"
   ]
  },
  {
   "cell_type": "code",
   "execution_count": 17,
   "id": "4f2ea936-56d1-4e3d-9e2a-54a77ad3f9a2",
   "metadata": {},
   "outputs": [
    {
     "data": {
      "text/plain": [
       "{'side': '',\n",
       " 'price': '21061.88',\n",
       " 'product_id': 'BTC-USD',\n",
       " 'time': '2023-01-14T23:30:03.483759Z'}"
      ]
     },
     "execution_count": 17,
     "metadata": {},
     "output_type": "execute_result"
    }
   ],
   "source": [
    "response[0]"
   ]
  },
  {
   "cell_type": "code",
   "execution_count": 22,
   "id": "4b7fc006-ef2a-44df-9ce2-f5257e41082d",
   "metadata": {},
   "outputs": [
    {
     "data": {
      "text/html": [
       "<div>\n",
       "<style scoped>\n",
       "    .dataframe tbody tr th:only-of-type {\n",
       "        vertical-align: middle;\n",
       "    }\n",
       "\n",
       "    .dataframe tbody tr th {\n",
       "        vertical-align: top;\n",
       "    }\n",
       "\n",
       "    .dataframe thead th {\n",
       "        text-align: right;\n",
       "    }\n",
       "</style>\n",
       "<table border=\"1\" class=\"dataframe\">\n",
       "  <thead>\n",
       "    <tr style=\"text-align: right;\">\n",
       "      <th></th>\n",
       "      <th>side</th>\n",
       "      <th>price</th>\n",
       "      <th>product_id</th>\n",
       "      <th>time</th>\n",
       "    </tr>\n",
       "  </thead>\n",
       "  <tbody>\n",
       "    <tr>\n",
       "      <th>185</th>\n",
       "      <td></td>\n",
       "      <td>1521.1</td>\n",
       "      <td>ETH-USD</td>\n",
       "      <td>2023-01-15T01:10:02.468969Z</td>\n",
       "    </tr>\n",
       "    <tr>\n",
       "      <th>186</th>\n",
       "      <td></td>\n",
       "      <td>20683.52</td>\n",
       "      <td>BTC-USD</td>\n",
       "      <td>2023-01-15T01:10:02.026102Z</td>\n",
       "    </tr>\n",
       "    <tr>\n",
       "      <th>187</th>\n",
       "      <td></td>\n",
       "      <td>0.3453</td>\n",
       "      <td>ADA-USD</td>\n",
       "      <td>2023-01-15T01:10:00.847999Z</td>\n",
       "    </tr>\n",
       "    <tr>\n",
       "      <th>188</th>\n",
       "      <td></td>\n",
       "      <td>0.08478</td>\n",
       "      <td>DOGE-USD</td>\n",
       "      <td>2023-01-15T01:10:02.298163Z</td>\n",
       "    </tr>\n",
       "    <tr>\n",
       "      <th>189</th>\n",
       "      <td></td>\n",
       "      <td>22.57</td>\n",
       "      <td>SOL-USD</td>\n",
       "      <td>2023-01-15T01:10:02.726285Z</td>\n",
       "    </tr>\n",
       "  </tbody>\n",
       "</table>\n",
       "</div>"
      ],
      "text/plain": [
       "    side     price product_id                         time\n",
       "185         1521.1    ETH-USD  2023-01-15T01:10:02.468969Z\n",
       "186       20683.52    BTC-USD  2023-01-15T01:10:02.026102Z\n",
       "187         0.3453    ADA-USD  2023-01-15T01:10:00.847999Z\n",
       "188        0.08478   DOGE-USD  2023-01-15T01:10:02.298163Z\n",
       "189          22.57    SOL-USD  2023-01-15T01:10:02.726285Z"
      ]
     },
     "execution_count": 22,
     "metadata": {},
     "output_type": "execute_result"
    }
   ],
   "source": [
    "import pandas as pd\n",
    "df = pd.DataFrame.from_dict(response)\n",
    "df.tail()"
   ]
  },
  {
   "cell_type": "code",
   "execution_count": null,
   "id": "bde36511-29d2-4f95-b8c2-dd2a462fe747",
   "metadata": {},
   "outputs": [],
   "source": []
  }
 ],
 "metadata": {
  "kernelspec": {
   "display_name": "PySpark",
   "language": "python",
   "name": "pyspark"
  },
  "language_info": {
   "codemirror_mode": {
    "name": "ipython",
    "version": 3
   },
   "file_extension": ".py",
   "mimetype": "text/x-python",
   "name": "python",
   "nbconvert_exporter": "python",
   "pygments_lexer": "ipython3",
   "version": "3.8.15"
  }
 },
 "nbformat": 4,
 "nbformat_minor": 5
}
