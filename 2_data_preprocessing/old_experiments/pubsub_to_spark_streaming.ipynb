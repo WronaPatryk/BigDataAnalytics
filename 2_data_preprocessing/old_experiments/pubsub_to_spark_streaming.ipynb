{
 "cells": [
  {
   "cell_type": "code",
   "execution_count": 1,
   "id": "15f325f3-58b8-42fe-8ac6-172722259da1",
   "metadata": {},
   "outputs": [],
   "source": [
    "from pyspark.streaming import StreamingContext\n"
   ]
  },
  {
   "cell_type": "code",
   "execution_count": 3,
   "id": "cac90e86-6fd9-404c-a1a0-9eafbef6bf61",
   "metadata": {},
   "outputs": [],
   "source": [
    "from pyspark.serializers import PairDeserializer, NoOpSerializer, UTF8Deserializer, read_int\n",
    "from pyspark.streaming import DStream"
   ]
  },
  {
   "cell_type": "code",
   "execution_count": 4,
   "id": "58b796b9-2019-4dc4-b4a9-d9e96a188993",
   "metadata": {},
   "outputs": [],
   "source": [
    "import sys\n",
    "if sys.version >= \"3\":\n",
    "    from io import BytesIO\n",
    "else:\n",
    "    from StringIO import StringIO"
   ]
  },
  {
   "cell_type": "code",
   "execution_count": 15,
   "id": "c8f318b4-99e3-45a1-b0fc-d1c7e2e92091",
   "metadata": {},
   "outputs": [],
   "source": [
    "class PubsubUtils:\n",
    "\n",
    "\n",
    "    def utf8_decoder(s):\n",
    "        \"\"\" Decode the unicode as UTF-8 \"\"\"\n",
    "        if s is None:\n",
    "            return None\n",
    "        return s.decode('utf-8')\n",
    "\n",
    "\n",
    "    @staticmethod\n",
    "    def _toPythonDStream(ssc, jstream, bodyDecoder):\n",
    "        ser = PairDeserializer(NoOpSerializer(), NoOpSerializer())\n",
    "        stream = DStream(jstream, ssc, ser)\n",
    "\n",
    "        return stream\n",
    "\n",
    "    @staticmethod\n",
    "    def createStream(ssc, subscription, batchSize, bodyDecoder=utf8_decoder):\n",
    "        jstream = ssc._sc._jvm.io.signifai.pubsub_spark.receiver.PubsubReceiverInputDStream(ssc._jssc, subscription, batchSize)\n",
    "        return PubsubUtils._toPythonDStream(ssc, jstream, bodyDecoder)\n"
   ]
  },
  {
   "cell_type": "code",
   "execution_count": 16,
   "id": "06cf28c2-484f-4ef7-b5a0-bcf97e84c790",
   "metadata": {},
   "outputs": [],
   "source": [
    "subscription_id = \"bda-coinbase-topic-sub\""
   ]
  },
  {
   "cell_type": "code",
   "execution_count": 17,
   "id": "dcfabebc-aa98-40de-9a4e-f730d23077c3",
   "metadata": {},
   "outputs": [],
   "source": [
    "ssc = StreamingContext(sc, 1)"
   ]
  },
  {
   "cell_type": "code",
   "execution_count": 18,
   "id": "60b5f8de-6022-4e57-927b-a8910331bade",
   "metadata": {},
   "outputs": [
    {
     "ename": "TypeError",
     "evalue": "'JavaPackage' object is not callable",
     "output_type": "error",
     "traceback": [
      "\u001b[0;31m---------------------------------------------------------------------------\u001b[0m",
      "\u001b[0;31mTypeError\u001b[0m                                 Traceback (most recent call last)",
      "Cell \u001b[0;32mIn[18], line 1\u001b[0m\n\u001b[0;32m----> 1\u001b[0m pub_sub_stream \u001b[38;5;241m=\u001b[39m \u001b[43mPubsubUtils\u001b[49m\u001b[38;5;241;43m.\u001b[39;49m\u001b[43mcreateStream\u001b[49m\u001b[43m(\u001b[49m\u001b[43mssc\u001b[49m\u001b[43m,\u001b[49m\u001b[43m \u001b[49m\u001b[43msubscription_id\u001b[49m\u001b[43m,\u001b[49m\u001b[43m \u001b[49m\u001b[38;5;241;43m5\u001b[39;49m\u001b[43m)\u001b[49m\n",
      "Cell \u001b[0;32mIn[15], line 20\u001b[0m, in \u001b[0;36mPubsubUtils.createStream\u001b[0;34m(ssc, subscription, batchSize, bodyDecoder)\u001b[0m\n\u001b[1;32m     18\u001b[0m \u001b[38;5;129m@staticmethod\u001b[39m\n\u001b[1;32m     19\u001b[0m \u001b[38;5;28;01mdef\u001b[39;00m \u001b[38;5;21mcreateStream\u001b[39m(ssc, subscription, batchSize, bodyDecoder\u001b[38;5;241m=\u001b[39mutf8_decoder):\n\u001b[0;32m---> 20\u001b[0m     jstream \u001b[38;5;241m=\u001b[39m \u001b[43mssc\u001b[49m\u001b[38;5;241;43m.\u001b[39;49m\u001b[43m_sc\u001b[49m\u001b[38;5;241;43m.\u001b[39;49m\u001b[43m_jvm\u001b[49m\u001b[38;5;241;43m.\u001b[39;49m\u001b[43mio\u001b[49m\u001b[38;5;241;43m.\u001b[39;49m\u001b[43msignifai\u001b[49m\u001b[38;5;241;43m.\u001b[39;49m\u001b[43mpubsub_spark\u001b[49m\u001b[38;5;241;43m.\u001b[39;49m\u001b[43mreceiver\u001b[49m\u001b[38;5;241;43m.\u001b[39;49m\u001b[43mPubsubReceiverInputDStream\u001b[49m\u001b[43m(\u001b[49m\u001b[43mssc\u001b[49m\u001b[38;5;241;43m.\u001b[39;49m\u001b[43m_jssc\u001b[49m\u001b[43m,\u001b[49m\u001b[43m \u001b[49m\u001b[43msubscription\u001b[49m\u001b[43m,\u001b[49m\u001b[43m \u001b[49m\u001b[43mbatchSize\u001b[49m\u001b[43m)\u001b[49m\n\u001b[1;32m     21\u001b[0m     \u001b[38;5;28;01mreturn\u001b[39;00m PubsubUtils\u001b[38;5;241m.\u001b[39m_toPythonDStream(ssc, jstream, bodyDecoder)\n",
      "\u001b[0;31mTypeError\u001b[0m: 'JavaPackage' object is not callable"
     ]
    }
   ],
   "source": [
    "pub_sub_stream = PubsubUtils.createStream(ssc, subscription_id, 5)"
   ]
  }
 ],
 "metadata": {
  "kernelspec": {
   "display_name": "PySpark",
   "language": "python",
   "name": "pyspark"
  },
  "language_info": {
   "codemirror_mode": {
    "name": "ipython",
    "version": 3
   },
   "file_extension": ".py",
   "mimetype": "text/x-python",
   "name": "python",
   "nbconvert_exporter": "python",
   "pygments_lexer": "ipython3",
   "version": "3.8.15"
  }
 },
 "nbformat": 4,
 "nbformat_minor": 5
}
