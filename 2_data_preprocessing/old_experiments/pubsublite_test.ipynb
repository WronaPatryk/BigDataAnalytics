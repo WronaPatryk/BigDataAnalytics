{
 "cells": [
  {
   "cell_type": "code",
   "execution_count": 1,
   "id": "bbae09b6",
   "metadata": {},
   "outputs": [],
   "source": [
    "from pyspark.sql import SparkSession\n",
    "from pyspark.sql.functions import array, create_map, col, lit, when\n",
    "from pyspark.sql.types import BinaryType, StringType\n",
    "import uuid"
   ]
  },
  {
   "cell_type": "code",
   "execution_count": 2,
   "id": "c57d7f5a",
   "metadata": {},
   "outputs": [],
   "source": [
    "project_number = 32329966328\n",
    "location = \"europe-north1\"\n",
    "subscription_id = \"test-sub\"\n",
    "topic_id = \"test\""
   ]
  },
  {
   "cell_type": "code",
   "execution_count": 3,
   "id": "2c36ca5f",
   "metadata": {},
   "outputs": [],
   "source": [
    "spark = SparkSession.builder.appName(\"write-app\").getOrCreate()"
   ]
  },
  {
   "cell_type": "code",
   "execution_count": 4,
   "id": "ca3d8ee5",
   "metadata": {},
   "outputs": [],
   "source": [
    "sdf = spark.readStream.format(\"rate\").option(\"rowsPerSecond\", 1).load()"
   ]
  },
  {
   "cell_type": "code",
   "execution_count": 5,
   "id": "41631b04",
   "metadata": {},
   "outputs": [],
   "source": [
    "# Transform the dataframe to match the required data fields and data types:\n",
    "# https://github.com/googleapis/java-pubsublite-spark#data-schema\n",
    "sdf = (\n",
    "    sdf.withColumn(\"key\", lit(\"example\").cast(BinaryType()))\n",
    "    .withColumn(\"data\", col(\"value\").cast(StringType()).cast(BinaryType()))\n",
    "    .withColumnRenamed(\"timestamp\", \"event_timestamp\")\n",
    "    # Populate the attributes field. For example, an even value will\n",
    "    # have {\"key1\", [b\"even\"]}.\n",
    "    .withColumn(\n",
    "        \"attributes\",\n",
    "        create_map(\n",
    "            lit(\"key1\"),\n",
    "            array(when(col(\"value\") % 2 == 0, b\"even\").otherwise(b\"odd\")),\n",
    "        ),\n",
    "    )\n",
    "    .drop(\"value\")\n",
    ")"
   ]
  },
  {
   "cell_type": "code",
   "execution_count": 6,
   "id": "1a02902c",
   "metadata": {
    "scrolled": true
   },
   "outputs": [
    {
     "name": "stdout",
     "output_type": "stream",
     "text": [
      "root\n",
      " |-- event_timestamp: timestamp (nullable = true)\n",
      " |-- key: binary (nullable = false)\n",
      " |-- data: binary (nullable = true)\n",
      " |-- attributes: map (nullable = false)\n",
      " |    |-- key: string\n",
      " |    |-- value: array (valueContainsNull = false)\n",
      " |    |    |-- element: binary (containsNull = false)\n",
      "\n"
     ]
    }
   ],
   "source": [
    "sdf.printSchema()\n"
   ]
  },
  {
   "cell_type": "code",
   "execution_count": 7,
   "id": "0f9e61ae",
   "metadata": {},
   "outputs": [
    {
     "name": "stderr",
     "output_type": "stream",
     "text": [
      "ivysettings.xml file not found in HIVE_HOME or HIVE_CONF_DIR,/etc/hive/conf.dist/ivysettings.xml will be used\n",
      "23/01/02 12:39:37 WARN org.apache.hadoop.hive.ql.session.SessionState: METASTORE_FILTER_HOOK will be ignored, since hive.security.authorization.manager is set to instance of HiveAuthorizerFactory.\n"
     ]
    },
    {
     "data": {
      "text/plain": [
       "DataFrame[result: int]"
      ]
     },
     "execution_count": 7,
     "metadata": {},
     "output_type": "execute_result"
    }
   ],
   "source": [
    "spark.sql('add jar file:////home/bda_reddit_pw/repos/BigDataAnalytics/2_data_preprocessing/pubsublite-spark-sql-streaming-0.4.2.jar')"
   ]
  },
  {
   "cell_type": "code",
   "execution_count": 8,
   "id": "d7200947",
   "metadata": {},
   "outputs": [
    {
     "name": "stderr",
     "output_type": "stream",
     "text": [
      "23/01/02 12:39:37 WARN org.apache.spark.sql.streaming.StreamingQueryManager: spark.sql.adaptive.enabled is not supported in streaming DataFrames/Datasets and will be disabled.\n"
     ]
    }
   ],
   "source": [
    "query = (\n",
    "    sdf.writeStream.format(\"pubsublite\")\n",
    "    .option(\n",
    "        \"pubsublite.topic\",\n",
    "        f\"projects/{project_number}/locations/{location}/topics/{topic_id}\",\n",
    "    )\n",
    "    # Required. Use a unique checkpoint location for each job.\n",
    "    .option(\"checkpointLocation\", \"/tmp/app\" + uuid.uuid4().hex)\n",
    "    .outputMode(\"append\")\n",
    "    .trigger(processingTime=\"1 second\")\n",
    "    .start()\n",
    ")"
   ]
  },
  {
   "cell_type": "code",
   "execution_count": null,
   "id": "7eebfc8f",
   "metadata": {},
   "outputs": [],
   "source": []
  }
 ],
 "metadata": {
  "kernelspec": {
   "display_name": "PySpark",
   "language": "python",
   "name": "pyspark"
  },
  "language_info": {
   "codemirror_mode": {
    "name": "ipython",
    "version": 3
   },
   "file_extension": ".py",
   "mimetype": "text/x-python",
   "name": "python",
   "nbconvert_exporter": "python",
   "pygments_lexer": "ipython3",
   "version": "3.8.15"
  }
 },
 "nbformat": 4,
 "nbformat_minor": 5
}
