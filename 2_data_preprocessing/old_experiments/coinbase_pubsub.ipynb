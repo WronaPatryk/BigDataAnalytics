{
 "cells": [
  {
   "cell_type": "code",
   "execution_count": 1,
   "id": "e46ca6bd-4fad-4e33-a20c-12f8c2effeca",
   "metadata": {},
   "outputs": [],
   "source": [
    "from pyspark.sql import SparkSession\n",
    "from pyspark.sql.types import StringType"
   ]
  },
  {
   "cell_type": "code",
   "execution_count": 2,
   "id": "b2794e04-ac78-4152-8b1b-f92c49258dbc",
   "metadata": {},
   "outputs": [],
   "source": [
    "project_number = 294601891609\n",
    "project_id = \"crypto-busting-374123\"\n",
    "location = \"europe-central2\"\n",
    "subscription_id = \"bda-coinbase-topic-sub\"\n",
    "topic_id = \"bda-coinbase-topic\"\n",
    "timeout = 5.0"
   ]
  },
  {
   "cell_type": "code",
   "execution_count": 3,
   "id": "15374164-5e51-4132-8813-37157abc444b",
   "metadata": {},
   "outputs": [],
   "source": [
    "# spark = SparkSession.builder.appName(\"Read Pub/Sub Stream\").master(\"yarn\").getOrCreate()"
   ]
  },
  {
   "cell_type": "code",
   "execution_count": 4,
   "id": "b6fe388f-bf4a-4470-8497-979fd606abe1",
   "metadata": {},
   "outputs": [
    {
     "name": "stderr",
     "output_type": "stream",
     "text": [
      "ivysettings.xml file not found in HIVE_HOME or HIVE_CONF_DIR,/etc/hive/conf.dist/ivysettings.xml will be used\n",
      "23/01/14 01:18:13 WARN org.apache.hadoop.hive.ql.session.SessionState: METASTORE_FILTER_HOOK will be ignored, since hive.security.authorization.manager is set to instance of HiveAuthorizerFactory.\n"
     ]
    },
    {
     "data": {
      "text/plain": [
       "DataFrame[result: int]"
      ]
     },
     "execution_count": 4,
     "metadata": {},
     "output_type": "execute_result"
    }
   ],
   "source": [
    "# spark.sql('add jar file:////home/bda_reddit/dependancies/spark-streaming-pubsub_2.11.jar')"
   ]
  },
  {
   "cell_type": "code",
   "execution_count": 5,
   "id": "f9ef5dad-5a5f-4412-8490-fd18e766f98a",
   "metadata": {},
   "outputs": [],
   "source": [
    "# sdf = (\n",
    "#     spark.readStream.format(\"pubsub\")\n",
    "#     .option(\n",
    "#         \"pubsub.subscription\",\n",
    "#         f\"projects/{project_number}/locations/{location}/subscriptions/{subscription_id}\",\n",
    "#     )\n",
    "#     .load()\n",
    "# )"
   ]
  },
  {
   "cell_type": "code",
   "execution_count": 6,
   "id": "7e9eeb6a-29ea-40e8-ac84-ccc98dcf65f8",
   "metadata": {},
   "outputs": [],
   "source": [
    "from concurrent.futures import TimeoutError\n",
    "from google.cloud import pubsub_v1"
   ]
  },
  {
   "cell_type": "code",
   "execution_count": 19,
   "id": "2e119067-4237-42f8-b68d-181b4ad67b49",
   "metadata": {},
   "outputs": [],
   "source": [
    "subscriber = pubsub_v1.SubscriberClient()"
   ]
  },
  {
   "cell_type": "code",
   "execution_count": 20,
   "id": "97fddd97-3509-4cb4-803c-9bfbd175afbc",
   "metadata": {},
   "outputs": [],
   "source": [
    "subscription_path = subscriber.subscription_path(project_id, subscription_id)"
   ]
  },
  {
   "cell_type": "code",
   "execution_count": 21,
   "id": "8f6a2d8c-be1a-4a68-85ef-7c636ad4cefa",
   "metadata": {},
   "outputs": [],
   "source": [
    "def callback(message: pubsub_v1.subscriber.message.Message) -> None:\n",
    "    print(f\"Received {message}.\")\n",
    "    message.ack()\n",
    "    "
   ]
  },
  {
   "cell_type": "code",
   "execution_count": 22,
   "id": "0d5976b8-8ab2-4755-82f3-a6478936a190",
   "metadata": {},
   "outputs": [
    {
     "name": "stdout",
     "output_type": "stream",
     "text": [
      "Listening for messages on projects/crypto-busting-374123/subscriptions/bda-coinbase-topic-sub..\n",
      "\n"
     ]
    }
   ],
   "source": [
    "streaming_pull_future = subscriber.subscribe(subscription_path, callback=callback)\n",
    "print(f\"Listening for messages on {subscription_path}..\\n\")"
   ]
  },
  {
   "cell_type": "code",
   "execution_count": 23,
   "id": "607e43d1-8a57-4787-9143-b11149acd4ee",
   "metadata": {},
   "outputs": [
    {
     "name": "stdout",
     "output_type": "stream",
     "text": [
      "Received Message {\n",
      "  data: b'{\"side\":\"\",\"price\":\"1559.29\",\"product_id\":\"ETH-USD...'\n",
      "  ordering_key: ''\n",
      "  attributes: {}\n",
      "}.\n",
      "Received Message {\n",
      "  data: b'{\"side\":\"\",\"price\":\"21014.69\",\"product_id\":\"BTC-US...'\n",
      "  ordering_key: ''\n",
      "  attributes: {}\n",
      "}.\n",
      "Received Message {\n",
      "  data: b'{\"side\":\"\",\"price\":\"0.3567\",\"product_id\":\"ADA-USD\"...'\n",
      "  ordering_key: ''\n",
      "  attributes: {}\n",
      "}.\n",
      "Received Message {\n",
      "  data: b'{\"side\":\"\",\"price\":\"0.0886\",\"product_id\":\"DOGE-USD...'\n",
      "  ordering_key: ''\n",
      "  attributes: {}\n",
      "}.\n",
      "Received Message {\n",
      "  data: b'{\"side\":\"\",\"price\":\"20.21\",\"product_id\":\"SOL-USD\",...'\n",
      "  ordering_key: ''\n",
      "  attributes: {}\n",
      "}.\n"
     ]
    }
   ],
   "source": [
    "with subscriber:\n",
    "    try:\n",
    "        # When `timeout` is not set, result() will block indefinitely,\n",
    "        # unless an exception is encountered first.\n",
    "        streaming_pull_future.result(timeout=timeout)\n",
    "    except TimeoutError:\n",
    "        streaming_pull_future.cancel()  # Trigger the shutdown.\n",
    "        streaming_pull_future.result()  # Block until the shutdown is complete."
   ]
  }
 ],
 "metadata": {
  "kernelspec": {
   "display_name": "PySpark",
   "language": "python",
   "name": "pyspark"
  },
  "language_info": {
   "codemirror_mode": {
    "name": "ipython",
    "version": 3
   },
   "file_extension": ".py",
   "mimetype": "text/x-python",
   "name": "python",
   "nbconvert_exporter": "python",
   "pygments_lexer": "ipython3",
   "version": "3.8.15"
  }
 },
 "nbformat": 4,
 "nbformat_minor": 5
}
