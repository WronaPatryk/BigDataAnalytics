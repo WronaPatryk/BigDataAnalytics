{
 "cells": [
  {
   "cell_type": "code",
   "execution_count": 1,
   "id": "920623c0-5234-43d1-85b1-828116c07312",
   "metadata": {},
   "outputs": [],
   "source": [
    "# !pip install 'apache-beam[gcp]'"
   ]
  },
  {
   "cell_type": "code",
   "execution_count": 2,
   "id": "2fa73dc0-d2d7-45df-a56d-aae324a86971",
   "metadata": {},
   "outputs": [],
   "source": [
    "import apache_beam as beam"
   ]
  },
  {
   "cell_type": "code",
   "execution_count": 3,
   "id": "283fa522-189a-4b15-96fc-267100f72b08",
   "metadata": {},
   "outputs": [],
   "source": [
    "from apache_beam.options.pipeline_options import PipelineOptions\n",
    "from apache_beam.io.gcp.bigtableio import WriteToBigTable\n",
    "from google.cloud import pubsub_v1"
   ]
  },
  {
   "cell_type": "code",
   "execution_count": 4,
   "id": "f774a984-6a1f-4e1a-b346-6a06fe274a02",
   "metadata": {},
   "outputs": [],
   "source": [
    "from apache_beam import DoFn, GroupByKey, io, ParDo, Pipeline, PTransform, WindowInto, WithKeys\n",
    "from apache_beam.options.pipeline_options import PipelineOptions\n",
    "from apache_beam.transforms.window import FixedWindows"
   ]
  },
  {
   "cell_type": "code",
   "execution_count": 5,
   "id": "0a74ebfb-174b-4dd0-9790-47c37711a69c",
   "metadata": {},
   "outputs": [],
   "source": [
    "from datetime import datetime\n"
   ]
  },
  {
   "cell_type": "code",
   "execution_count": 13,
   "id": "c2e3da01-3974-4b7a-91cf-c9d854fabd56",
   "metadata": {},
   "outputs": [],
   "source": [
    "class GroupMessagesByFixedWindows(PTransform):\n",
    "    \"\"\"A composite transform that groups Pub/Sub messages based on publish time\n",
    "    and outputs a list of tuples, each containing a message and its publish time.\n",
    "    \"\"\"\n",
    "\n",
    "    def __init__(self, window_size, num_shards=5):\n",
    "        # Set window size to 60 seconds.\n",
    "        self.window_size = int(window_size * 60)\n",
    "        self.num_shards = num_shards\n",
    "\n",
    "    def expand(self, pcoll):\n",
    "        return (\n",
    "            pcoll\n",
    "            # Bind window info to each element using element timestamp (or publish time).\n",
    "            | \"Window into fixed intervals\"\n",
    "            >> WindowInto(FixedWindows(self.window_size))\n",
    "            | \"Add timestamp to windowed elements\" >> ParDo(AddTimestamp())\n",
    "            # Assign a random key to each windowed element based on the number of shards.\n",
    "            | \"Add key\" >> WithKeys(lambda _: random.randint(0, self.num_shards - 1))\n",
    "            # Group windowed elements by key. All the elements in the same window must fit\n",
    "            # memory for this. If not, you need to use `beam.util.BatchElements`.\n",
    "            | \"Group by key\" >> GroupByKey()\n",
    "        )"
   ]
  },
  {
   "cell_type": "code",
   "execution_count": 14,
   "id": "aca765ac-1ca8-4cda-9fa2-9bfcfa222a61",
   "metadata": {},
   "outputs": [],
   "source": [
    "class AddTimestamp(DoFn):\n",
    "    def process(self, element, publish_time=DoFn.TimestampParam):\n",
    "        \"\"\"Processes each windowed element by extracting the message body and its\n",
    "        publish time into a tuple.\n",
    "        \"\"\"\n",
    "        yield (\n",
    "            element.decode(\"utf-8\"),\n",
    "            datetime.utcfromtimestamp(float(publish_time)).strftime(\n",
    "                \"%Y-%m-%d %H:%M:%S.%f\"\n",
    "            ),\n",
    "        )"
   ]
  },
  {
   "cell_type": "code",
   "execution_count": 15,
   "id": "c86eb9ef-d4bb-4827-835a-d5b096872f3a",
   "metadata": {},
   "outputs": [],
   "source": [
    "def run(input_topic, output_path, window_size=1.0, num_shards=5, pipeline_args=None):\n",
    "    # Set `save_main_session` to True so DoFns can access globally imported modules.\n",
    "    pipeline_options = PipelineOptions(\n",
    "        pipeline_args, streaming=True, save_main_session=True\n",
    "    )\n",
    "\n",
    "    with Pipeline(options=pipeline_options) as pipeline:\n",
    "        (\n",
    "            pipeline\n",
    "            # Because `timestamp_attribute` is unspecified in `ReadFromPubSub`, Beam\n",
    "            # binds the publish time returned by the Pub/Sub server for each message\n",
    "            # to the element's timestamp parameter, accessible via `DoFn.TimestampParam`.\n",
    "            # https://beam.apache.org/releases/pydoc/current/apache_beam.io.gcp.pubsub.html#apache_beam.io.gcp.pubsub.ReadFromPubSub\n",
    "            | \"Read from Pub/Sub\" >> io.ReadFromPubSub(topic=input_topic)\n",
    "            | \"Window into\" >> GroupMessagesByFixedWindows(window_size, num_shards)\n",
    "            # | \"Write to GCS\" >> ParDo(WriteToGCS(output_path))\n",
    "        )\n"
   ]
  },
  {
   "cell_type": "code",
   "execution_count": null,
   "id": "56576fca-6449-4f53-9a1c-478e0c4465fe",
   "metadata": {},
   "outputs": [],
   "source": [
    "# parser = argparse.ArgumentParser()\n",
    "# parser.add_argument(\n",
    "#     \"--input_topic\",\n",
    "#     help=\"The Cloud Pub/Sub topic to read from.\"\n",
    "#     '\"projects/<PROJECT_ID>/topics/<TOPIC_ID>\".',\n",
    "# )\n",
    "# parser.add_argument(\n",
    "#     \"--window_size\",\n",
    "#     type=float,\n",
    "#     default=1.0,\n",
    "#     help=\"Output file's window size in minutes.\",\n",
    "# )\n",
    "# parser.add_argument(\n",
    "#     \"--output_path\",\n",
    "#     help=\"Path of the output GCS file including the prefix.\",\n",
    "# )\n",
    "# parser.add_argument(\n",
    "#     \"--num_shards\",\n",
    "#     type=int,\n",
    "#     default=5,\n",
    "#     help=\"Number of shards to use when writing windowed elements to GCS.\",\n",
    "# )\n",
    "# known_args, pipeline_args = parser.parse_known_args()"
   ]
  },
  {
   "cell_type": "code",
   "execution_count": 6,
   "id": "b57f5aeb-0d0a-4a57-9490-5ebbd3172f28",
   "metadata": {},
   "outputs": [],
   "source": [
    "class ProcessMessage(beam.DoFn):\n",
    "\n",
    "    def process(self, message):\n",
    "        try:\n",
    "            data = message.get('data')\n",
    "            yield data \n",
    "        except Exception as e:\n",
    "            raise Exception(e)"
   ]
  },
  {
   "cell_type": "markdown",
   "id": "f18cf5cb-2527-45ab-8101-586bdce861b6",
   "metadata": {},
   "source": [
    "# Test"
   ]
  },
  {
   "cell_type": "code",
   "execution_count": 7,
   "id": "bab6746f-bb6f-47f0-9a22-7698fd4c3e79",
   "metadata": {},
   "outputs": [],
   "source": [
    "var1 = [1,2,3,4]"
   ]
  },
  {
   "cell_type": "code",
   "execution_count": 8,
   "id": "a04f0ca8-d6c0-4cc8-9c1f-02452b391801",
   "metadata": {},
   "outputs": [
    {
     "name": "stderr",
     "output_type": "stream",
     "text": [
      "WARNING:apache_beam.runners.interactive.interactive_environment:Dependencies required for Interactive Beam PCollection visualization are not available, please use: `pip install apache-beam[interactive]` to install necessary dependencies to enable all data visualization features.\n"
     ]
    },
    {
     "data": {
      "application/javascript": [
       "\n",
       "        if (typeof window.interactive_beam_jquery == 'undefined') {\n",
       "          var jqueryScript = document.createElement('script');\n",
       "          jqueryScript.src = 'https://code.jquery.com/jquery-3.4.1.slim.min.js';\n",
       "          jqueryScript.type = 'text/javascript';\n",
       "          jqueryScript.onload = function() {\n",
       "            var datatableScript = document.createElement('script');\n",
       "            datatableScript.src = 'https://cdn.datatables.net/1.10.20/js/jquery.dataTables.min.js';\n",
       "            datatableScript.type = 'text/javascript';\n",
       "            datatableScript.onload = function() {\n",
       "              window.interactive_beam_jquery = jQuery.noConflict(true);\n",
       "              window.interactive_beam_jquery(document).ready(function($){\n",
       "                \n",
       "              });\n",
       "            }\n",
       "            document.head.appendChild(datatableScript);\n",
       "          };\n",
       "          document.head.appendChild(jqueryScript);\n",
       "        } else {\n",
       "          window.interactive_beam_jquery(document).ready(function($){\n",
       "            \n",
       "          });\n",
       "        }"
      ]
     },
     "metadata": {},
     "output_type": "display_data"
    },
    {
     "name": "stderr",
     "output_type": "stream",
     "text": [
      "WARNING:apache_beam.options.pipeline_options:Discarding unparseable args: ['/opt/conda/miniconda3/lib/python3.8/site-packages/ipykernel_launcher.py', '-f', '/root/.local/share/jupyter/runtime/kernel-8958df6d-318d-4b90-b250-1c718b5db2dc.json']\n"
     ]
    },
    {
     "data": {
      "text/plain": [
       "[2, 4, 6, 8]"
      ]
     },
     "execution_count": 8,
     "metadata": {},
     "output_type": "execute_result"
    }
   ],
   "source": [
    "var1 | beam.Map(lambda x: 2 * x)"
   ]
  },
  {
   "cell_type": "code",
   "execution_count": 9,
   "id": "955ced7d-95f2-4c3e-a6c7-5481723b6f7b",
   "metadata": {},
   "outputs": [
    {
     "name": "stderr",
     "output_type": "stream",
     "text": [
      "WARNING:apache_beam.options.pipeline_options:Discarding unparseable args: ['/opt/conda/miniconda3/lib/python3.8/site-packages/ipykernel_launcher.py', '-f', '/root/.local/share/jupyter/runtime/kernel-8958df6d-318d-4b90-b250-1c718b5db2dc.json']\n"
     ]
    },
    {
     "data": {
      "text/plain": [
       "[[1, 1], [2, 0], [3, 1], [4, 0]]"
      ]
     },
     "execution_count": 9,
     "metadata": {},
     "output_type": "execute_result"
    }
   ],
   "source": [
    "var1 | beam.Map(lambda x: [x, x%2])\n"
   ]
  },
  {
   "cell_type": "markdown",
   "id": "31c00b43-442e-4982-95f0-03f60ae170f7",
   "metadata": {},
   "source": [
    "# Pub/Sub"
   ]
  },
  {
   "cell_type": "code",
   "execution_count": 33,
   "id": "15758b74-aef3-4a22-8761-957f07057739",
   "metadata": {},
   "outputs": [],
   "source": [
    "import json\n",
    "import typing"
   ]
  },
  {
   "cell_type": "code",
   "execution_count": 34,
   "id": "070a5194-5a1a-4ccb-9bbd-1d18f18afa95",
   "metadata": {},
   "outputs": [],
   "source": [
    "project_number = 294601891609\n",
    "project_id = \"crypto-busting-374123\"\n",
    "location = \"europe-central2\"\n",
    "subscription_id = \"bda-coinbase-topic-sub\"\n",
    "topic_id = \"bda-coinbase-topic\"\n",
    "\n",
    "bigtable_instance_id = \"bda-reddit-bigtable\"\n",
    "bigtable_table_id = \"coinbase-db\"\n",
    "timeout = 5.0"
   ]
  },
  {
   "cell_type": "code",
   "execution_count": 35,
   "id": "62c9d49f-8e04-4855-9f77-d34a434f9d61",
   "metadata": {},
   "outputs": [],
   "source": [
    "input_topic = f\"projects/{project_id}/topics/{topic_id}\""
   ]
  },
  {
   "cell_type": "code",
   "execution_count": 13,
   "id": "23ba9fa9-5aa2-4140-9a60-0fed2b807de6",
   "metadata": {},
   "outputs": [],
   "source": [
    "# WriteToBigTable(\n",
    "#             project_id=project_id,\n",
    "#             instance_id=bigtable_instance_id,\n",
    "#             table_id=bigtable_table_id)"
   ]
  },
  {
   "cell_type": "code",
   "execution_count": 36,
   "id": "a6f6e51c-ab22-4baa-bc50-ed8519f80569",
   "metadata": {},
   "outputs": [],
   "source": [
    "class MyMessage(typing.NamedTuple):\n",
    "    # Simple way to propagate all the needed information from the Pub/Sub message.\n",
    "    data: dict"
   ]
  },
  {
   "cell_type": "code",
   "execution_count": 37,
   "id": "9cd16c7a-16b6-4698-b389-beb83d5df54e",
   "metadata": {},
   "outputs": [],
   "source": [
    "class ProcessMessage(beam.DoFn):\n",
    "\n",
    "    def process(self, message):\n",
    "        \"\"\"\n",
    "        Example of the Pub/Sub message\n",
    "        {\n",
    "            \"file_path\": \"gs://my-bucket/file_to_process.csv\",\n",
    "            \"transformations\": {\n",
    "                \"col_1\": \"to_upper\",\n",
    "                \"col_2\": \"to_lower\"\n",
    "            }\n",
    "        }\n",
    "        \"\"\"\n",
    "        yield MyMessage(data=message.get('data'))"
   ]
  },
  {
   "cell_type": "code",
   "execution_count": 38,
   "id": "397a1ab7-3d11-4b22-a090-223fa1a07d53",
   "metadata": {},
   "outputs": [],
   "source": [
    "class ReadFile(beam.DoFn):\n",
    "\n",
    "    def process(self, element: MyMessage):\n",
    "        import io as io_file\n",
    "\n",
    "        from apache_beam import io\n",
    "\n",
    "        reader = csv.DictReader(io_file.TextIOWrapper(\n",
    "            io.filesystems.FileSystems.open(MyMessage.data),\n",
    "            encoding='utf-8'),\n",
    "            delimiter=';')\n",
    "\n",
    "        for row in reader:\n",
    "            # Yields both the row to process and the transformations.\n",
    "            yield (row)"
   ]
  },
  {
   "cell_type": "code",
   "execution_count": 40,
   "id": "cb78ba05-e656-46ac-975f-4c58babb67b6",
   "metadata": {},
   "outputs": [],
   "source": [
    "def run(input_topic, pipeline_args=None):\n",
    "    # Set `save_main_session` to True so DoFns can access globally imported modules.\n",
    "    pipeline_options = PipelineOptions(\n",
    "        pipeline_args, streaming=True, save_main_session=True\n",
    "    )\n",
    "\n",
    "    with Pipeline(options=pipeline_options) as pipeline:\n",
    "        message = (\n",
    "            pipeline\n",
    "            # Because `timestamp_attribute` is unspecified in `ReadFromPubSub`, Beam\n",
    "            # binds the publish time returned by the Pub/Sub server for each message\n",
    "            # to the element's timestamp parameter, accessible via `DoFn.TimestampParam`.\n",
    "            # https://beam.apache.org/releases/pydoc/current/apache_beam.io.gcp.pubsub.html#apache_beam.io.gcp.pubsub.ReadFromPubSub\n",
    "            | \"Read from Pub/Sub\" >> io.ReadFromPubSub(topic=input_topic)\n",
    "            | \"Parse JSON\" >> beam.Map(json.loads)\n",
    "            | \"Process message\" >> beam.ParDo(ProcessMessage())\n",
    "            | \"Print Message\" >> beam.Map(print)\n",
    "#             | \"Process Message\" >> beam.ParDo(ProcessMessage())\n",
    "#             | \"Read file\" >> beam.io.ReadAllFromText()   \n",
    "        )\n",
    "        \n",
    "        content = (\n",
    "            message \n",
    "            | beam.ParDo(ReadFile())\n",
    "            | beam.ParDo(print)\n",
    "        )"
   ]
  },
  {
   "cell_type": "code",
   "execution_count": null,
   "id": "ed7eb4c3-feba-4534-b7e6-21a24bf11973",
   "metadata": {},
   "outputs": [
    {
     "ename": "KeyboardInterrupt",
     "evalue": "",
     "output_type": "error",
     "traceback": [
      "\u001b[0;31m---------------------------------------------------------------------------\u001b[0m",
      "\u001b[0;31mKeyboardInterrupt\u001b[0m                         Traceback (most recent call last)",
      "Cell \u001b[0;32mIn[41], line 1\u001b[0m\n\u001b[0;32m----> 1\u001b[0m \u001b[43mrun\u001b[49m\u001b[43m(\u001b[49m\u001b[43minput_topic\u001b[49m\u001b[43m)\u001b[49m\n",
      "Cell \u001b[0;32mIn[40], line 22\u001b[0m, in \u001b[0;36mrun\u001b[0;34m(input_topic, pipeline_args)\u001b[0m\n\u001b[1;32m      7\u001b[0m     \u001b[38;5;28;01mwith\u001b[39;00m Pipeline(options\u001b[38;5;241m=\u001b[39mpipeline_options) \u001b[38;5;28;01mas\u001b[39;00m pipeline:\n\u001b[1;32m      8\u001b[0m         message \u001b[38;5;241m=\u001b[39m (\n\u001b[1;32m      9\u001b[0m             pipeline\n\u001b[1;32m     10\u001b[0m             \u001b[38;5;66;03m# Because `timestamp_attribute` is unspecified in `ReadFromPubSub`, Beam\u001b[39;00m\n\u001b[0;32m   (...)\u001b[0m\n\u001b[1;32m     19\u001b[0m \u001b[38;5;66;03m#             | \"Read file\" >> beam.io.ReadAllFromText()   \u001b[39;00m\n\u001b[1;32m     20\u001b[0m         )\n\u001b[0;32m---> 22\u001b[0m         content \u001b[38;5;241m=\u001b[39m (\n\u001b[1;32m     23\u001b[0m             message \n\u001b[1;32m     24\u001b[0m             \u001b[38;5;241m|\u001b[39m beam\u001b[38;5;241m.\u001b[39mParDo(ReadFile())\n\u001b[1;32m     25\u001b[0m             \u001b[38;5;241m|\u001b[39m beam\u001b[38;5;241m.\u001b[39mParDo(\u001b[38;5;28mprint\u001b[39m)\n\u001b[1;32m     26\u001b[0m         )\n",
      "File \u001b[0;32m/opt/conda/miniconda3/lib/python3.8/site-packages/apache_beam/pipeline.py:601\u001b[0m, in \u001b[0;36mPipeline.__exit__\u001b[0;34m(self, exc_type, exc_val, exc_tb)\u001b[0m\n\u001b[1;32m    599\u001b[0m   \u001b[38;5;28;01mif\u001b[39;00m \u001b[38;5;129;01mnot\u001b[39;00m exc_type:\n\u001b[1;32m    600\u001b[0m     \u001b[38;5;28mself\u001b[39m\u001b[38;5;241m.\u001b[39mresult \u001b[38;5;241m=\u001b[39m \u001b[38;5;28mself\u001b[39m\u001b[38;5;241m.\u001b[39mrun()\n\u001b[0;32m--> 601\u001b[0m     \u001b[38;5;28;43mself\u001b[39;49m\u001b[38;5;241;43m.\u001b[39;49m\u001b[43mresult\u001b[49m\u001b[38;5;241;43m.\u001b[39;49m\u001b[43mwait_until_finish\u001b[49m\u001b[43m(\u001b[49m\u001b[43m)\u001b[49m\n\u001b[1;32m    602\u001b[0m \u001b[38;5;28;01mfinally\u001b[39;00m:\n\u001b[1;32m    603\u001b[0m   \u001b[38;5;28mself\u001b[39m\u001b[38;5;241m.\u001b[39m_extra_context\u001b[38;5;241m.\u001b[39m\u001b[38;5;21m__exit__\u001b[39m(exc_type, exc_val, exc_tb)\n",
      "File \u001b[0;32m/opt/conda/miniconda3/lib/python3.8/site-packages/apache_beam/runners/direct/direct_runner.py:588\u001b[0m, in \u001b[0;36mDirectPipelineResult.wait_until_finish\u001b[0;34m(self, duration)\u001b[0m\n\u001b[1;32m    585\u001b[0m   \u001b[38;5;28;01mraise\u001b[39;00m \u001b[38;5;167;01mNotImplementedError\u001b[39;00m(\n\u001b[1;32m    586\u001b[0m       \u001b[38;5;124m'\u001b[39m\u001b[38;5;124mDirectRunner does not support duration argument.\u001b[39m\u001b[38;5;124m'\u001b[39m)\n\u001b[1;32m    587\u001b[0m \u001b[38;5;28;01mtry\u001b[39;00m:\n\u001b[0;32m--> 588\u001b[0m   \u001b[38;5;28;43mself\u001b[39;49m\u001b[38;5;241;43m.\u001b[39;49m\u001b[43m_executor\u001b[49m\u001b[38;5;241;43m.\u001b[39;49m\u001b[43mawait_completion\u001b[49m\u001b[43m(\u001b[49m\u001b[43m)\u001b[49m\n\u001b[1;32m    589\u001b[0m   \u001b[38;5;28mself\u001b[39m\u001b[38;5;241m.\u001b[39m_state \u001b[38;5;241m=\u001b[39m PipelineState\u001b[38;5;241m.\u001b[39mDONE\n\u001b[1;32m    590\u001b[0m \u001b[38;5;28;01mexcept\u001b[39;00m:  \u001b[38;5;66;03m# pylint: disable=broad-except\u001b[39;00m\n",
      "File \u001b[0;32m/opt/conda/miniconda3/lib/python3.8/site-packages/apache_beam/runners/direct/executor.py:432\u001b[0m, in \u001b[0;36mExecutor.await_completion\u001b[0;34m(self)\u001b[0m\n\u001b[1;32m    431\u001b[0m \u001b[38;5;28;01mdef\u001b[39;00m \u001b[38;5;21mawait_completion\u001b[39m(\u001b[38;5;28mself\u001b[39m):\n\u001b[0;32m--> 432\u001b[0m   \u001b[38;5;28;43mself\u001b[39;49m\u001b[38;5;241;43m.\u001b[39;49m\u001b[43m_executor\u001b[49m\u001b[38;5;241;43m.\u001b[39;49m\u001b[43mawait_completion\u001b[49m\u001b[43m(\u001b[49m\u001b[43m)\u001b[49m\n",
      "File \u001b[0;32m/opt/conda/miniconda3/lib/python3.8/site-packages/apache_beam/runners/direct/executor.py:477\u001b[0m, in \u001b[0;36m_ExecutorServiceParallelExecutor.await_completion\u001b[0;34m(self)\u001b[0m\n\u001b[1;32m    476\u001b[0m \u001b[38;5;28;01mdef\u001b[39;00m \u001b[38;5;21mawait_completion\u001b[39m(\u001b[38;5;28mself\u001b[39m):\n\u001b[0;32m--> 477\u001b[0m   update \u001b[38;5;241m=\u001b[39m \u001b[38;5;28;43mself\u001b[39;49m\u001b[38;5;241;43m.\u001b[39;49m\u001b[43mvisible_updates\u001b[49m\u001b[38;5;241;43m.\u001b[39;49m\u001b[43mtake\u001b[49m\u001b[43m(\u001b[49m\u001b[43m)\u001b[49m\n\u001b[1;32m    478\u001b[0m   \u001b[38;5;28;01mtry\u001b[39;00m:\n\u001b[1;32m    479\u001b[0m     \u001b[38;5;28;01mif\u001b[39;00m update\u001b[38;5;241m.\u001b[39mexception:\n",
      "File \u001b[0;32m/opt/conda/miniconda3/lib/python3.8/site-packages/apache_beam/runners/direct/executor.py:551\u001b[0m, in \u001b[0;36m_ExecutorServiceParallelExecutor._TypedUpdateQueue.take\u001b[0;34m(self)\u001b[0m\n\u001b[1;32m    549\u001b[0m \u001b[38;5;28;01mwhile\u001b[39;00m \u001b[38;5;28;01mTrue\u001b[39;00m:\n\u001b[1;32m    550\u001b[0m   \u001b[38;5;28;01mtry\u001b[39;00m:\n\u001b[0;32m--> 551\u001b[0m     item \u001b[38;5;241m=\u001b[39m \u001b[38;5;28;43mself\u001b[39;49m\u001b[38;5;241;43m.\u001b[39;49m\u001b[43m_queue\u001b[49m\u001b[38;5;241;43m.\u001b[39;49m\u001b[43mget\u001b[49m\u001b[43m(\u001b[49m\u001b[43mtimeout\u001b[49m\u001b[38;5;241;43m=\u001b[39;49m\u001b[38;5;241;43m1\u001b[39;49m\u001b[43m)\u001b[49m\n\u001b[1;32m    552\u001b[0m     \u001b[38;5;28mself\u001b[39m\u001b[38;5;241m.\u001b[39m_queue\u001b[38;5;241m.\u001b[39mtask_done()\n\u001b[1;32m    553\u001b[0m     \u001b[38;5;28;01mreturn\u001b[39;00m item\n",
      "File \u001b[0;32m/opt/conda/miniconda3/lib/python3.8/queue.py:179\u001b[0m, in \u001b[0;36mQueue.get\u001b[0;34m(self, block, timeout)\u001b[0m\n\u001b[1;32m    177\u001b[0m         \u001b[38;5;28;01mif\u001b[39;00m remaining \u001b[38;5;241m<\u001b[39m\u001b[38;5;241m=\u001b[39m \u001b[38;5;241m0.0\u001b[39m:\n\u001b[1;32m    178\u001b[0m             \u001b[38;5;28;01mraise\u001b[39;00m Empty\n\u001b[0;32m--> 179\u001b[0m         \u001b[38;5;28;43mself\u001b[39;49m\u001b[38;5;241;43m.\u001b[39;49m\u001b[43mnot_empty\u001b[49m\u001b[38;5;241;43m.\u001b[39;49m\u001b[43mwait\u001b[49m\u001b[43m(\u001b[49m\u001b[43mremaining\u001b[49m\u001b[43m)\u001b[49m\n\u001b[1;32m    180\u001b[0m item \u001b[38;5;241m=\u001b[39m \u001b[38;5;28mself\u001b[39m\u001b[38;5;241m.\u001b[39m_get()\n\u001b[1;32m    181\u001b[0m \u001b[38;5;28mself\u001b[39m\u001b[38;5;241m.\u001b[39mnot_full\u001b[38;5;241m.\u001b[39mnotify()\n",
      "File \u001b[0;32m/opt/conda/miniconda3/lib/python3.8/threading.py:306\u001b[0m, in \u001b[0;36mCondition.wait\u001b[0;34m(self, timeout)\u001b[0m\n\u001b[1;32m    304\u001b[0m \u001b[38;5;28;01melse\u001b[39;00m:\n\u001b[1;32m    305\u001b[0m     \u001b[38;5;28;01mif\u001b[39;00m timeout \u001b[38;5;241m>\u001b[39m \u001b[38;5;241m0\u001b[39m:\n\u001b[0;32m--> 306\u001b[0m         gotit \u001b[38;5;241m=\u001b[39m \u001b[43mwaiter\u001b[49m\u001b[38;5;241;43m.\u001b[39;49m\u001b[43macquire\u001b[49m\u001b[43m(\u001b[49m\u001b[38;5;28;43;01mTrue\u001b[39;49;00m\u001b[43m,\u001b[49m\u001b[43m \u001b[49m\u001b[43mtimeout\u001b[49m\u001b[43m)\u001b[49m\n\u001b[1;32m    307\u001b[0m     \u001b[38;5;28;01melse\u001b[39;00m:\n\u001b[1;32m    308\u001b[0m         gotit \u001b[38;5;241m=\u001b[39m waiter\u001b[38;5;241m.\u001b[39macquire(\u001b[38;5;28;01mFalse\u001b[39;00m)\n",
      "\u001b[0;31mKeyboardInterrupt\u001b[0m: "
     ]
    }
   ],
   "source": [
    "run(input_topic)"
   ]
  }
 ],
 "metadata": {
  "kernelspec": {
   "display_name": "Python 3",
   "language": "python",
   "name": "python3"
  },
  "language_info": {
   "codemirror_mode": {
    "name": "ipython",
    "version": 3
   },
   "file_extension": ".py",
   "mimetype": "text/x-python",
   "name": "python",
   "nbconvert_exporter": "python",
   "pygments_lexer": "ipython3",
   "version": "3.8.15"
  }
 },
 "nbformat": 4,
 "nbformat_minor": 5
}
